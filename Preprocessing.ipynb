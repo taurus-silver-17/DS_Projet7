{
 "cells": [
  {
   "cell_type": "markdown",
   "metadata": {
    "_cell_guid": "551ce207-0976-48c3-9242-fac3e6bdf527",
    "_uuid": "66406036d8dd7a0071295d1aee64f13bffc44e3a"
   },
   "source": [
    "# Introduction: Home Credit Default Risk Competition\n",
    "\n",
    "This notebook is intended for those who are new to machine learning competitions or want a gentle introduction to the problem. I purposely avoid jumping into complicated models or joining together lots of data in order to show the basics of how to get started in machine learning! Any comments or suggestions are much appreciated.\n",
    "\n",
    "In this notebook, we will take an initial look at the Home Credit default risk machine learning competition currently hosted on Kaggle. The objective of this competition is to use historical loan application data to predict whether or not an applicant will be able to repay a loan. This is a standard supervised classification task:\n",
    "\n",
    "* __Supervised__: The labels are included in the training data and the goal is to train a model to learn to predict the labels from the features\n",
    "* __Classification__: The label is a binary variable, 0 (will repay loan on time), 1 (will have difficulty repaying loan)\n",
    "\n",
    "\n",
    "# Data\n",
    "\n",
    "The data is provided by [Home Credit](http://www.homecredit.net/about-us.aspx), a service dedicated to provided lines of credit (loans) to the unbanked population. Predicting whether or not a client will repay a loan or have difficulty is a critical business need, and Home Credit is hosting this competition on Kaggle to see what sort of models the machine learning community can develop to help them in this task. \n",
    "\n",
    "There are 7 different sources of data:\n",
    "\n",
    "* application_train/application_test: the main training and testing data with information about each loan application at Home Credit. Every loan has its own row and is identified by the feature `SK_ID_CURR`. The training application data comes with the `TARGET` indicating 0: the loan was repaid or 1: the loan was not repaid. \n",
    "* bureau: data concerning client's previous credits from other financial institutions. Each previous credit has its own row in bureau, but one loan in the application data can have multiple previous credits.\n",
    "* bureau_balance: monthly data about the previous credits in bureau. Each row is one month of a previous credit, and a single previous credit can have multiple rows, one for each month of the credit length. \n",
    "* previous_application: previous applications for loans at Home Credit of clients who have loans in the application data. Each current loan in the application data can have multiple previous loans. Each previous application has one row and is identified by the feature `SK_ID_PREV`. \n",
    "* POS_CASH_BALANCE: monthly data about previous point of sale or cash loans clients have had with Home Credit. Each row is one month of a previous point of sale or cash loan, and a single previous loan can have many rows.\n",
    "* credit_card_balance: monthly data about previous credit cards clients have had with Home Credit. Each row is one month of a credit card balance, and a single credit card can have many rows.\n",
    "* installments_payment: payment history for previous loans at Home Credit. There is one row for every made payment and one row for every missed payment. \n",
    "\n",
    "This diagram shows how all of the data is related:\n",
    "\n",
    "![image](https://storage.googleapis.com/kaggle-media/competitions/home-credit/home_credit.png)\n",
    "\n",
    "Moreover, we are provided with the definitions of all the columns (in `HomeCredit_columns_description.csv`) and an example of the expected submission file. \n",
    "\n",
    "In this notebook, we will stick to using only the main application training and testing data. Although if we want to have any hope of seriously competing, we need to use all the data, for now we will stick to one file which should be more manageable. This will let us establish a baseline that we can then improve upon. With these projects, it's best to build up an understanding of the problem a little at a time rather than diving all the way in and getting completely lost! \n",
    "\n",
    "## Metric: ROC AUC\n",
    "\n",
    "Once we have a grasp of the data (reading through the [column descriptions](https://www.kaggle.com/c/home-credit-default-risk/data) helps immensely), we need to understand the metric by which our submission is judged. In this case, it is a common classification metric known as the [Receiver Operating Characteristic Area Under the Curve (ROC AUC, also sometimes called AUROC)](https://stats.stackexchange.com/questions/132777/what-does-auc-stand-for-and-what-is-it).\n",
    "\n",
    "The ROC AUC may sound intimidating, but it is relatively straightforward once you can get your head around the two individual concepts. The [Reciever Operating Characteristic (ROC) curve](https://en.wikipedia.org/wiki/Receiver_operating_characteristic) graphs the true positive rate versus the false positive rate:\n",
    "\n",
    "![image](http://www.statisticshowto.com/wp-content/uploads/2016/08/ROC-curve.png)\n",
    "\n",
    "A single line on the graph indicates the curve for a single model, and movement along a line indicates changing the threshold used for classifying a positive instance. The threshold starts at 0 in the upper right to and goes to 1 in the lower left. A curve that is to the left and above another curve indicates a better model. For example, the blue model is better than the red model, which is better than the black diagonal line which indicates a naive random guessing model. \n",
    "\n",
    "The [Area Under the Curve (AUC)](http://gim.unmc.edu/dxtests/roc3.htm) explains itself by its name! It is simply the area under the ROC curve. (This is the integral of the curve.) This metric is between 0 and 1 with a better model scoring higher. A model that simply guesses at random will have an ROC AUC of 0.5.\n",
    "\n",
    "When we measure a classifier according to the ROC AUC, we do not generation 0 or 1 predictions, but rather a probability between 0 and 1. This may be confusing because we usually like to think in terms of accuracy, but when we get into problems with inbalanced classes (we will see this is the case), accuracy is not the best metric. For example, if I wanted to build a model that could detect terrorists with 99.9999% accuracy, I would simply make a model that predicted every single person was not a terrorist. Clearly, this would not be effective (the recall would be zero) and we use more advanced metrics such as ROC AUC or the [F1 score](https://en.wikipedia.org/wiki/F1_score) to more accurately reflect the performance of a classifier. A model with a high ROC AUC will also have a high accuracy, but the [ROC AUC is a better representation of model performance.](https://datascience.stackexchange.com/questions/806/advantages-of-auc-vs-standard-accuracy)\n",
    "\n",
    "Not that we know the background of the data we are using and the metric to maximize, let's get into exploring the data. In this notebook, as mentioned previously, we will stick to the main data sources and simple models which we can build upon in future work. \n",
    "\n",
    "__Follow-up Notebooks__\n",
    "\n",
    "For those looking to keep working on this problem, I have a series of follow-up notebooks:\n",
    "\n",
    "* [Manual Feature Engineering Part One](https://www.kaggle.com/willkoehrsen/introduction-to-manual-feature-engineering)\n",
    "* [Manual Feature Engineering Part Two](https://www.kaggle.com/willkoehrsen/introduction-to-manual-feature-engineering-p2)\n",
    "* [Introduction to Automated Feature Engineering](https://www.kaggle.com/willkoehrsen/automated-feature-engineering-basics)\n",
    "* [Advanced Automated Feature Engineering](https://www.kaggle.com/willkoehrsen/tuning-automated-feature-engineering-exploratory)\n",
    "* [Feature Selection](https://www.kaggle.com/willkoehrsen/introduction-to-feature-selection)\n",
    "* [Intro to Model Tuning: Grid and Random Search](https://www.kaggle.com/willkoehrsen/intro-to-model-tuning-grid-and-random-search)\n",
    "* [Automated Model Tuning](https://www.kaggle.com/willkoehrsen/automated-model-tuning)\n",
    "* [Model Tuning Results](https://www.kaggle.com/willkoehrsen/model-tuning-results-random-vs-bayesian-opt/notebook)\n",
    "\n",
    "\n",
    "I'll add more notebooks as I finish them! Thanks for all the comments! "
   ]
  },
  {
   "cell_type": "markdown",
   "metadata": {
    "_cell_guid": "d632b08c-d252-4238-b496-e2c6edebec4b",
    "_uuid": "eb13bf76d4e1e60d0703856ec391cdc2c5bdf1fb"
   },
   "source": [
    "## Imports\n",
    "\n",
    "We are using a typical data science stack: `numpy`, `pandas`, `sklearn`, `matplotlib`. "
   ]
  },
  {
   "cell_type": "code",
   "execution_count": 1,
   "metadata": {
    "_cell_guid": "b1076dfc-b9ad-4769-8c92-a6c4dae69d19",
    "_uuid": "8f2839f25d086af736a60e9eeb907d3b93b6e0e5"
   },
   "outputs": [],
   "source": [
    "# numpy and pandas for data manipulation\n",
    "import numpy as np\n",
    "import pandas as pd \n",
    "\n",
    "# sklearn preprocessing for dealing with categorical variables\n",
    "from sklearn.preprocessing import LabelEncoder\n",
    "\n",
    "# File system manangement\n",
    "import os\n",
    "\n",
    "# Suppress warnings \n",
    "import warnings\n",
    "warnings.filterwarnings('ignore')\n",
    "\n",
    "# matplotlib and seaborn for plotting\n",
    "import matplotlib.pyplot as plt\n",
    "import seaborn as sns\n",
    "from sklearn.model_selection import train_test_split\n",
    "from lightgbm import LGBMClassifier\n",
    "import sklearn.metrics as metrics\n",
    "import lightgbm as lgb\n",
    "from sklearn.model_selection import GridSearchCV\n"
   ]
  },
  {
   "cell_type": "markdown",
   "metadata": {
    "_cell_guid": "a5e67831-4751-4f11-8e07-527e3e092671",
    "_uuid": "ded520f73b9e94ed47ac2e994a5fb1bcb9093d0f"
   },
   "source": [
    "## Read in Data \n",
    "\n",
    "First, we can list all the available data files. There are a total of 9 files: 1 main file for training (with target) 1 main file for testing (without the target), 1 example submission file, and 6 other files containing additional information about each loan. "
   ]
  },
  {
   "cell_type": "code",
   "execution_count": 2,
   "metadata": {
    "_cell_guid": "2cdca894-e637-43a9-8f80-5791c2bb9041",
    "_uuid": "c54e1559611512ebd447ac24f2226c2fffd61dcd"
   },
   "outputs": [
    {
     "name": "stdout",
     "output_type": "stream",
     "text": [
      "['installments_payments.csv', 'application_test.csv', 'credit_card_balance.csv', 'bureau.csv', 'previous_application.csv', 'POS_CASH_balance.csv', 'sample_submission.csv', 'HomeCredit_columns_description.csv', 'bureau_balance.csv', 'application_train.csv']\n"
     ]
    }
   ],
   "source": [
    "# List files available\n",
    "print(os.listdir(\"../DS_P7-main/data/\"))"
   ]
  },
  {
   "cell_type": "code",
   "execution_count": 3,
   "metadata": {
    "_cell_guid": "79c7e3d0-c299-4dcb-8224-4455121ee9b0",
    "_uuid": "d629ff2d2480ee46fbb7e2d37f6b5fab8052498a"
   },
   "outputs": [
    {
     "name": "stdout",
     "output_type": "stream",
     "text": [
      "Training data shape:  (307511, 122)\n"
     ]
    },
    {
     "data": {
      "text/html": [
       "<div>\n",
       "<style scoped>\n",
       "    .dataframe tbody tr th:only-of-type {\n",
       "        vertical-align: middle;\n",
       "    }\n",
       "\n",
       "    .dataframe tbody tr th {\n",
       "        vertical-align: top;\n",
       "    }\n",
       "\n",
       "    .dataframe thead th {\n",
       "        text-align: right;\n",
       "    }\n",
       "</style>\n",
       "<table border=\"1\" class=\"dataframe\">\n",
       "  <thead>\n",
       "    <tr style=\"text-align: right;\">\n",
       "      <th></th>\n",
       "      <th>SK_ID_CURR</th>\n",
       "      <th>TARGET</th>\n",
       "      <th>NAME_CONTRACT_TYPE</th>\n",
       "      <th>CODE_GENDER</th>\n",
       "      <th>FLAG_OWN_CAR</th>\n",
       "      <th>FLAG_OWN_REALTY</th>\n",
       "      <th>CNT_CHILDREN</th>\n",
       "      <th>AMT_INCOME_TOTAL</th>\n",
       "      <th>AMT_CREDIT</th>\n",
       "      <th>AMT_ANNUITY</th>\n",
       "      <th>...</th>\n",
       "      <th>FLAG_DOCUMENT_18</th>\n",
       "      <th>FLAG_DOCUMENT_19</th>\n",
       "      <th>FLAG_DOCUMENT_20</th>\n",
       "      <th>FLAG_DOCUMENT_21</th>\n",
       "      <th>AMT_REQ_CREDIT_BUREAU_HOUR</th>\n",
       "      <th>AMT_REQ_CREDIT_BUREAU_DAY</th>\n",
       "      <th>AMT_REQ_CREDIT_BUREAU_WEEK</th>\n",
       "      <th>AMT_REQ_CREDIT_BUREAU_MON</th>\n",
       "      <th>AMT_REQ_CREDIT_BUREAU_QRT</th>\n",
       "      <th>AMT_REQ_CREDIT_BUREAU_YEAR</th>\n",
       "    </tr>\n",
       "  </thead>\n",
       "  <tbody>\n",
       "    <tr>\n",
       "      <th>0</th>\n",
       "      <td>100002</td>\n",
       "      <td>1</td>\n",
       "      <td>Cash loans</td>\n",
       "      <td>M</td>\n",
       "      <td>N</td>\n",
       "      <td>Y</td>\n",
       "      <td>0</td>\n",
       "      <td>202500.0</td>\n",
       "      <td>406597.5</td>\n",
       "      <td>24700.5</td>\n",
       "      <td>...</td>\n",
       "      <td>0</td>\n",
       "      <td>0</td>\n",
       "      <td>0</td>\n",
       "      <td>0</td>\n",
       "      <td>0.0</td>\n",
       "      <td>0.0</td>\n",
       "      <td>0.0</td>\n",
       "      <td>0.0</td>\n",
       "      <td>0.0</td>\n",
       "      <td>1.0</td>\n",
       "    </tr>\n",
       "    <tr>\n",
       "      <th>1</th>\n",
       "      <td>100003</td>\n",
       "      <td>0</td>\n",
       "      <td>Cash loans</td>\n",
       "      <td>F</td>\n",
       "      <td>N</td>\n",
       "      <td>N</td>\n",
       "      <td>0</td>\n",
       "      <td>270000.0</td>\n",
       "      <td>1293502.5</td>\n",
       "      <td>35698.5</td>\n",
       "      <td>...</td>\n",
       "      <td>0</td>\n",
       "      <td>0</td>\n",
       "      <td>0</td>\n",
       "      <td>0</td>\n",
       "      <td>0.0</td>\n",
       "      <td>0.0</td>\n",
       "      <td>0.0</td>\n",
       "      <td>0.0</td>\n",
       "      <td>0.0</td>\n",
       "      <td>0.0</td>\n",
       "    </tr>\n",
       "    <tr>\n",
       "      <th>2</th>\n",
       "      <td>100004</td>\n",
       "      <td>0</td>\n",
       "      <td>Revolving loans</td>\n",
       "      <td>M</td>\n",
       "      <td>Y</td>\n",
       "      <td>Y</td>\n",
       "      <td>0</td>\n",
       "      <td>67500.0</td>\n",
       "      <td>135000.0</td>\n",
       "      <td>6750.0</td>\n",
       "      <td>...</td>\n",
       "      <td>0</td>\n",
       "      <td>0</td>\n",
       "      <td>0</td>\n",
       "      <td>0</td>\n",
       "      <td>0.0</td>\n",
       "      <td>0.0</td>\n",
       "      <td>0.0</td>\n",
       "      <td>0.0</td>\n",
       "      <td>0.0</td>\n",
       "      <td>0.0</td>\n",
       "    </tr>\n",
       "    <tr>\n",
       "      <th>3</th>\n",
       "      <td>100006</td>\n",
       "      <td>0</td>\n",
       "      <td>Cash loans</td>\n",
       "      <td>F</td>\n",
       "      <td>N</td>\n",
       "      <td>Y</td>\n",
       "      <td>0</td>\n",
       "      <td>135000.0</td>\n",
       "      <td>312682.5</td>\n",
       "      <td>29686.5</td>\n",
       "      <td>...</td>\n",
       "      <td>0</td>\n",
       "      <td>0</td>\n",
       "      <td>0</td>\n",
       "      <td>0</td>\n",
       "      <td>NaN</td>\n",
       "      <td>NaN</td>\n",
       "      <td>NaN</td>\n",
       "      <td>NaN</td>\n",
       "      <td>NaN</td>\n",
       "      <td>NaN</td>\n",
       "    </tr>\n",
       "    <tr>\n",
       "      <th>4</th>\n",
       "      <td>100007</td>\n",
       "      <td>0</td>\n",
       "      <td>Cash loans</td>\n",
       "      <td>M</td>\n",
       "      <td>N</td>\n",
       "      <td>Y</td>\n",
       "      <td>0</td>\n",
       "      <td>121500.0</td>\n",
       "      <td>513000.0</td>\n",
       "      <td>21865.5</td>\n",
       "      <td>...</td>\n",
       "      <td>0</td>\n",
       "      <td>0</td>\n",
       "      <td>0</td>\n",
       "      <td>0</td>\n",
       "      <td>0.0</td>\n",
       "      <td>0.0</td>\n",
       "      <td>0.0</td>\n",
       "      <td>0.0</td>\n",
       "      <td>0.0</td>\n",
       "      <td>0.0</td>\n",
       "    </tr>\n",
       "  </tbody>\n",
       "</table>\n",
       "<p>5 rows × 122 columns</p>\n",
       "</div>"
      ],
      "text/plain": [
       "   SK_ID_CURR  TARGET NAME_CONTRACT_TYPE CODE_GENDER FLAG_OWN_CAR  \\\n",
       "0      100002       1         Cash loans           M            N   \n",
       "1      100003       0         Cash loans           F            N   \n",
       "2      100004       0    Revolving loans           M            Y   \n",
       "3      100006       0         Cash loans           F            N   \n",
       "4      100007       0         Cash loans           M            N   \n",
       "\n",
       "  FLAG_OWN_REALTY  CNT_CHILDREN  AMT_INCOME_TOTAL  AMT_CREDIT  AMT_ANNUITY  \\\n",
       "0               Y             0          202500.0    406597.5      24700.5   \n",
       "1               N             0          270000.0   1293502.5      35698.5   \n",
       "2               Y             0           67500.0    135000.0       6750.0   \n",
       "3               Y             0          135000.0    312682.5      29686.5   \n",
       "4               Y             0          121500.0    513000.0      21865.5   \n",
       "\n",
       "   ...  FLAG_DOCUMENT_18 FLAG_DOCUMENT_19 FLAG_DOCUMENT_20 FLAG_DOCUMENT_21  \\\n",
       "0  ...                 0                0                0                0   \n",
       "1  ...                 0                0                0                0   \n",
       "2  ...                 0                0                0                0   \n",
       "3  ...                 0                0                0                0   \n",
       "4  ...                 0                0                0                0   \n",
       "\n",
       "  AMT_REQ_CREDIT_BUREAU_HOUR AMT_REQ_CREDIT_BUREAU_DAY  \\\n",
       "0                        0.0                       0.0   \n",
       "1                        0.0                       0.0   \n",
       "2                        0.0                       0.0   \n",
       "3                        NaN                       NaN   \n",
       "4                        0.0                       0.0   \n",
       "\n",
       "   AMT_REQ_CREDIT_BUREAU_WEEK  AMT_REQ_CREDIT_BUREAU_MON  \\\n",
       "0                         0.0                        0.0   \n",
       "1                         0.0                        0.0   \n",
       "2                         0.0                        0.0   \n",
       "3                         NaN                        NaN   \n",
       "4                         0.0                        0.0   \n",
       "\n",
       "   AMT_REQ_CREDIT_BUREAU_QRT  AMT_REQ_CREDIT_BUREAU_YEAR  \n",
       "0                        0.0                         1.0  \n",
       "1                        0.0                         0.0  \n",
       "2                        0.0                         0.0  \n",
       "3                        NaN                         NaN  \n",
       "4                        0.0                         0.0  \n",
       "\n",
       "[5 rows x 122 columns]"
      ]
     },
     "execution_count": 3,
     "metadata": {},
     "output_type": "execute_result"
    }
   ],
   "source": [
    "# Training data\n",
    "app_train = pd.read_csv('../DS_P7-main/data/application_train.csv')\n",
    "print('Training data shape: ', app_train.shape)\n",
    "app_train.head()"
   ]
  },
  {
   "cell_type": "code",
   "execution_count": 7,
   "metadata": {},
   "outputs": [],
   "source": [
    "app_train,app_test  = train_test_split(app_train,test_size=0.3,\n",
    "                                                                random_state=1,stratify=app_train['TARGET'])"
   ]
  },
  {
   "cell_type": "markdown",
   "metadata": {
    "_uuid": "4695541966d3d29e8a7a8975b072d01caff1631d"
   },
   "source": [
    "The training data has 307511 observations (each one a separate loan) and 122 features (variables) including the `TARGET` (the label we want to predict)."
   ]
  },
  {
   "cell_type": "code",
   "execution_count": 8,
   "metadata": {
    "_cell_guid": "d077aee0-5271-440e-bc07-6087eab40b74",
    "_uuid": "cbd1c4111df6f07bc0d479b51f50895e728b717a"
   },
   "outputs": [
    {
     "name": "stdout",
     "output_type": "stream",
     "text": [
      "Training data shape:  (215257, 122)\n",
      "Testing data shape:  (92254, 122)\n"
     ]
    },
    {
     "data": {
      "text/html": [
       "<div>\n",
       "<style scoped>\n",
       "    .dataframe tbody tr th:only-of-type {\n",
       "        vertical-align: middle;\n",
       "    }\n",
       "\n",
       "    .dataframe tbody tr th {\n",
       "        vertical-align: top;\n",
       "    }\n",
       "\n",
       "    .dataframe thead th {\n",
       "        text-align: right;\n",
       "    }\n",
       "</style>\n",
       "<table border=\"1\" class=\"dataframe\">\n",
       "  <thead>\n",
       "    <tr style=\"text-align: right;\">\n",
       "      <th></th>\n",
       "      <th>SK_ID_CURR</th>\n",
       "      <th>TARGET</th>\n",
       "      <th>NAME_CONTRACT_TYPE</th>\n",
       "      <th>CODE_GENDER</th>\n",
       "      <th>FLAG_OWN_CAR</th>\n",
       "      <th>FLAG_OWN_REALTY</th>\n",
       "      <th>CNT_CHILDREN</th>\n",
       "      <th>AMT_INCOME_TOTAL</th>\n",
       "      <th>AMT_CREDIT</th>\n",
       "      <th>AMT_ANNUITY</th>\n",
       "      <th>...</th>\n",
       "      <th>FLAG_DOCUMENT_18</th>\n",
       "      <th>FLAG_DOCUMENT_19</th>\n",
       "      <th>FLAG_DOCUMENT_20</th>\n",
       "      <th>FLAG_DOCUMENT_21</th>\n",
       "      <th>AMT_REQ_CREDIT_BUREAU_HOUR</th>\n",
       "      <th>AMT_REQ_CREDIT_BUREAU_DAY</th>\n",
       "      <th>AMT_REQ_CREDIT_BUREAU_WEEK</th>\n",
       "      <th>AMT_REQ_CREDIT_BUREAU_MON</th>\n",
       "      <th>AMT_REQ_CREDIT_BUREAU_QRT</th>\n",
       "      <th>AMT_REQ_CREDIT_BUREAU_YEAR</th>\n",
       "    </tr>\n",
       "  </thead>\n",
       "  <tbody>\n",
       "    <tr>\n",
       "      <th>159904</th>\n",
       "      <td>285360</td>\n",
       "      <td>0</td>\n",
       "      <td>Cash loans</td>\n",
       "      <td>F</td>\n",
       "      <td>N</td>\n",
       "      <td>Y</td>\n",
       "      <td>0</td>\n",
       "      <td>198000.0</td>\n",
       "      <td>513531.0</td>\n",
       "      <td>24835.5</td>\n",
       "      <td>...</td>\n",
       "      <td>0</td>\n",
       "      <td>0</td>\n",
       "      <td>0</td>\n",
       "      <td>0</td>\n",
       "      <td>NaN</td>\n",
       "      <td>NaN</td>\n",
       "      <td>NaN</td>\n",
       "      <td>NaN</td>\n",
       "      <td>NaN</td>\n",
       "      <td>NaN</td>\n",
       "    </tr>\n",
       "    <tr>\n",
       "      <th>161941</th>\n",
       "      <td>287735</td>\n",
       "      <td>0</td>\n",
       "      <td>Cash loans</td>\n",
       "      <td>F</td>\n",
       "      <td>N</td>\n",
       "      <td>N</td>\n",
       "      <td>0</td>\n",
       "      <td>85500.0</td>\n",
       "      <td>247275.0</td>\n",
       "      <td>17586.0</td>\n",
       "      <td>...</td>\n",
       "      <td>0</td>\n",
       "      <td>0</td>\n",
       "      <td>0</td>\n",
       "      <td>0</td>\n",
       "      <td>0.0</td>\n",
       "      <td>0.0</td>\n",
       "      <td>0.0</td>\n",
       "      <td>0.0</td>\n",
       "      <td>0.0</td>\n",
       "      <td>3.0</td>\n",
       "    </tr>\n",
       "    <tr>\n",
       "      <th>77153</th>\n",
       "      <td>189459</td>\n",
       "      <td>0</td>\n",
       "      <td>Cash loans</td>\n",
       "      <td>M</td>\n",
       "      <td>N</td>\n",
       "      <td>Y</td>\n",
       "      <td>0</td>\n",
       "      <td>99000.0</td>\n",
       "      <td>239850.0</td>\n",
       "      <td>23494.5</td>\n",
       "      <td>...</td>\n",
       "      <td>0</td>\n",
       "      <td>0</td>\n",
       "      <td>0</td>\n",
       "      <td>0</td>\n",
       "      <td>0.0</td>\n",
       "      <td>0.0</td>\n",
       "      <td>0.0</td>\n",
       "      <td>1.0</td>\n",
       "      <td>0.0</td>\n",
       "      <td>4.0</td>\n",
       "    </tr>\n",
       "    <tr>\n",
       "      <th>85929</th>\n",
       "      <td>199711</td>\n",
       "      <td>0</td>\n",
       "      <td>Cash loans</td>\n",
       "      <td>F</td>\n",
       "      <td>Y</td>\n",
       "      <td>Y</td>\n",
       "      <td>0</td>\n",
       "      <td>382500.0</td>\n",
       "      <td>945000.0</td>\n",
       "      <td>40167.0</td>\n",
       "      <td>...</td>\n",
       "      <td>0</td>\n",
       "      <td>0</td>\n",
       "      <td>0</td>\n",
       "      <td>0</td>\n",
       "      <td>0.0</td>\n",
       "      <td>0.0</td>\n",
       "      <td>0.0</td>\n",
       "      <td>0.0</td>\n",
       "      <td>1.0</td>\n",
       "      <td>1.0</td>\n",
       "    </tr>\n",
       "    <tr>\n",
       "      <th>204245</th>\n",
       "      <td>336787</td>\n",
       "      <td>0</td>\n",
       "      <td>Cash loans</td>\n",
       "      <td>F</td>\n",
       "      <td>N</td>\n",
       "      <td>Y</td>\n",
       "      <td>1</td>\n",
       "      <td>157500.0</td>\n",
       "      <td>601470.0</td>\n",
       "      <td>30838.5</td>\n",
       "      <td>...</td>\n",
       "      <td>0</td>\n",
       "      <td>0</td>\n",
       "      <td>0</td>\n",
       "      <td>0</td>\n",
       "      <td>0.0</td>\n",
       "      <td>0.0</td>\n",
       "      <td>0.0</td>\n",
       "      <td>0.0</td>\n",
       "      <td>0.0</td>\n",
       "      <td>1.0</td>\n",
       "    </tr>\n",
       "  </tbody>\n",
       "</table>\n",
       "<p>5 rows × 122 columns</p>\n",
       "</div>"
      ],
      "text/plain": [
       "        SK_ID_CURR  TARGET NAME_CONTRACT_TYPE CODE_GENDER FLAG_OWN_CAR  \\\n",
       "159904      285360       0         Cash loans           F            N   \n",
       "161941      287735       0         Cash loans           F            N   \n",
       "77153       189459       0         Cash loans           M            N   \n",
       "85929       199711       0         Cash loans           F            Y   \n",
       "204245      336787       0         Cash loans           F            N   \n",
       "\n",
       "       FLAG_OWN_REALTY  CNT_CHILDREN  AMT_INCOME_TOTAL  AMT_CREDIT  \\\n",
       "159904               Y             0          198000.0    513531.0   \n",
       "161941               N             0           85500.0    247275.0   \n",
       "77153                Y             0           99000.0    239850.0   \n",
       "85929                Y             0          382500.0    945000.0   \n",
       "204245               Y             1          157500.0    601470.0   \n",
       "\n",
       "        AMT_ANNUITY  ...  FLAG_DOCUMENT_18 FLAG_DOCUMENT_19 FLAG_DOCUMENT_20  \\\n",
       "159904      24835.5  ...                 0                0                0   \n",
       "161941      17586.0  ...                 0                0                0   \n",
       "77153       23494.5  ...                 0                0                0   \n",
       "85929       40167.0  ...                 0                0                0   \n",
       "204245      30838.5  ...                 0                0                0   \n",
       "\n",
       "       FLAG_DOCUMENT_21 AMT_REQ_CREDIT_BUREAU_HOUR AMT_REQ_CREDIT_BUREAU_DAY  \\\n",
       "159904                0                        NaN                       NaN   \n",
       "161941                0                        0.0                       0.0   \n",
       "77153                 0                        0.0                       0.0   \n",
       "85929                 0                        0.0                       0.0   \n",
       "204245                0                        0.0                       0.0   \n",
       "\n",
       "        AMT_REQ_CREDIT_BUREAU_WEEK  AMT_REQ_CREDIT_BUREAU_MON  \\\n",
       "159904                         NaN                        NaN   \n",
       "161941                         0.0                        0.0   \n",
       "77153                          0.0                        1.0   \n",
       "85929                          0.0                        0.0   \n",
       "204245                         0.0                        0.0   \n",
       "\n",
       "        AMT_REQ_CREDIT_BUREAU_QRT  AMT_REQ_CREDIT_BUREAU_YEAR  \n",
       "159904                        NaN                         NaN  \n",
       "161941                        0.0                         3.0  \n",
       "77153                         0.0                         4.0  \n",
       "85929                         1.0                         1.0  \n",
       "204245                        0.0                         1.0  \n",
       "\n",
       "[5 rows x 122 columns]"
      ]
     },
     "execution_count": 8,
     "metadata": {},
     "output_type": "execute_result"
    }
   ],
   "source": [
    "# Testing data features\n",
    "print('Training data shape: ', app_train.shape)\n",
    "\n",
    "print('Testing data shape: ', app_test.shape)\n",
    "app_test.head()"
   ]
  },
  {
   "cell_type": "markdown",
   "metadata": {
    "_uuid": "e351f02c8a5886756507a2d4f1ddba4791220f12"
   },
   "source": [
    "The test set is considerably smaller and lacks a `TARGET` column. "
   ]
  },
  {
   "cell_type": "markdown",
   "metadata": {
    "_uuid": "0b1a02afd367d1c4ee3a3a936382ca42fb921b9d"
   },
   "source": [
    "# Exploratory Data Analysis\n",
    "\n",
    "Exploratory Data Analysis (EDA) is an open-ended process where we calculate statistics and make figures to find trends, anomalies, patterns, or relationships within the data. The goal of EDA is to learn what our data can tell us. It generally starts out with a high level overview, then narrows in to specific areas as we find intriguing areas of the data. The findings may be interesting in their own right, or they can be used to inform our modeling choices, such as by helping us decide which features to use."
   ]
  },
  {
   "cell_type": "markdown",
   "metadata": {
    "_cell_guid": "23b20e53-3484-4c4b-bec9-2d8ac2ac918d",
    "_uuid": "7c006a09627df1333c557dc11a09f372bde34dda"
   },
   "source": [
    "## Examine the Distribution of the Target Column\n",
    "\n",
    "The target is what we are asked to predict: either a 0 for the loan was repaid on time, or a 1 indicating the client had payment difficulties. We can first examine the number of loans falling into each category."
   ]
  },
  {
   "cell_type": "code",
   "execution_count": 9,
   "metadata": {
    "_cell_guid": "5fb6ab16-1b38-4ecf-8123-e48c7c061773",
    "_uuid": "2163ca09678b53dbe88388ccbc7d0e0f7d6c6230"
   },
   "outputs": [
    {
     "data": {
      "text/plain": [
       "0    197880\n",
       "1     17377\n",
       "Name: TARGET, dtype: int64"
      ]
     },
     "execution_count": 9,
     "metadata": {},
     "output_type": "execute_result"
    }
   ],
   "source": [
    "app_train['TARGET'].value_counts()\n",
    "#0  le loan a été payé ds les temps\n",
    "#1 le client a eu des pb pour payer"
   ]
  },
  {
   "cell_type": "code",
   "execution_count": 10,
   "metadata": {
    "_cell_guid": "0e93c1e2-f6b8-4a0b-82b6-7dad8df56048",
    "_uuid": "1b2611fb3cf392023c3f40fd2f7b96f56f5dee7d"
   },
   "outputs": [
    {
     "data": {
      "image/png": "[encoded data removed]",
      "text/plain": [
       "<Figure size 432x288 with 1 Axes>"
      ]
     },
     "metadata": {
      "needs_background": "light"
     },
     "output_type": "display_data"
    }
   ],
   "source": [
    "app_train['TARGET'].astype(int).plot.hist();"
   ]
  },
  {
   "cell_type": "markdown",
   "metadata": {},
   "source": [
    "$\\color{red}{\\text{Ici on va travailler avec une pb de imbalance class il existe différentes méthodes et tout dépend du modèle ausi non ? }}$\n"
   ]
  },
  {
   "cell_type": "markdown",
   "metadata": {
    "_cell_guid": "48f008ff-d81e-46b2-80a3-e58f2a6627ca",
    "_uuid": "119106000875202a0030109f14b73245fc4285e1"
   },
   "source": [
    "From this information, we see this is an [_imbalanced class problem_](http://www.chioka.in/class-imbalance-problem/). There are far more loans that were repaid on time than loans that were not repaid. Once we get into more sophisticated machine learning models, we can [weight the classes](http://xgboost.readthedocs.io/en/latest/parameter.html) by their representation in the data to reflect this imbalance. "
   ]
  },
  {
   "cell_type": "markdown",
   "metadata": {
    "_cell_guid": "507ec6b1-99d0-4324-a3ed-bdea2f916227",
    "_uuid": "58851dfef481f32b3026e89b086534ea3683440d"
   },
   "source": [
    "## Examine Missing Values\n",
    "\n",
    "Next we can look at the number and percentage of missing values in each column. "
   ]
  },
  {
   "cell_type": "code",
   "execution_count": 11,
   "metadata": {
    "_cell_guid": "fc4c675f-e4a1-4e4f-9ece-3c59e5c8f7fd",
    "_uuid": "7a2f5c72c45fa04d9fa95e8051ae595be806e9a2"
   },
   "outputs": [],
   "source": [
    "# Function to calculate missing values by column# Funct \n",
    "def missing_values_table(df):\n",
    "        # Total missing values\n",
    "        mis_val = df.isnull().sum()\n",
    "        \n",
    "        # Percentage of missing values\n",
    "        mis_val_percent = 100 * df.isnull().sum() / len(df)\n",
    "        \n",
    "        # Make a table with the results\n",
    "        mis_val_table = pd.concat([mis_val, mis_val_percent], axis=1)\n",
    "        \n",
    "        # Rename the columns\n",
    "        mis_val_table_ren_columns = mis_val_table.rename(\n",
    "        columns = {0 : 'Missing Values', 1 : '% of Total Values'})\n",
    "        \n",
    "        # Sort the table by percentage of missing descending\n",
    "        mis_val_table_ren_columns = mis_val_table_ren_columns[\n",
    "            mis_val_table_ren_columns.iloc[:,1] != 0].sort_values(\n",
    "        '% of Total Values', ascending=False).round(1)\n",
    "        \n",
    "        # Print some summary information\n",
    "        print (\"Your selected dataframe has \" + str(df.shape[1]) + \" columns.\\n\"      \n",
    "            \"There are \" + str(mis_val_table_ren_columns.shape[0]) +\n",
    "              \" columns that have missing values.\")\n",
    "        \n",
    "        # Return the dataframe with missing information\n",
    "        return mis_val_table_ren_columns"
   ]
  },
  {
   "cell_type": "code",
   "execution_count": 12,
   "metadata": {
    "_cell_guid": "786881f0-235e-441c-8319-f715a3b7d920",
    "_uuid": "98b0a82a3009b8f6d0bc718a2e1eaba779b4ace9"
   },
   "outputs": [
    {
     "name": "stdout",
     "output_type": "stream",
     "text": [
      "Your selected dataframe has 122 columns.\n",
      "There are 67 columns that have missing values.\n"
     ]
    },
    {
     "data": {
      "text/html": [
       "<div>\n",
       "<style scoped>\n",
       "    .dataframe tbody tr th:only-of-type {\n",
       "        vertical-align: middle;\n",
       "    }\n",
       "\n",
       "    .dataframe tbody tr th {\n",
       "        vertical-align: top;\n",
       "    }\n",
       "\n",
       "    .dataframe thead th {\n",
       "        text-align: right;\n",
       "    }\n",
       "</style>\n",
       "<table border=\"1\" class=\"dataframe\">\n",
       "  <thead>\n",
       "    <tr style=\"text-align: right;\">\n",
       "      <th></th>\n",
       "      <th>Missing Values</th>\n",
       "      <th>% of Total Values</th>\n",
       "    </tr>\n",
       "  </thead>\n",
       "  <tbody>\n",
       "    <tr>\n",
       "      <th>COMMONAREA_MEDI</th>\n",
       "      <td>150612</td>\n",
       "      <td>70.0</td>\n",
       "    </tr>\n",
       "    <tr>\n",
       "      <th>COMMONAREA_AVG</th>\n",
       "      <td>150612</td>\n",
       "      <td>70.0</td>\n",
       "    </tr>\n",
       "    <tr>\n",
       "      <th>COMMONAREA_MODE</th>\n",
       "      <td>150612</td>\n",
       "      <td>70.0</td>\n",
       "    </tr>\n",
       "    <tr>\n",
       "      <th>NONLIVINGAPARTMENTS_MEDI</th>\n",
       "      <td>149644</td>\n",
       "      <td>69.5</td>\n",
       "    </tr>\n",
       "    <tr>\n",
       "      <th>NONLIVINGAPARTMENTS_MODE</th>\n",
       "      <td>149644</td>\n",
       "      <td>69.5</td>\n",
       "    </tr>\n",
       "    <tr>\n",
       "      <th>NONLIVINGAPARTMENTS_AVG</th>\n",
       "      <td>149644</td>\n",
       "      <td>69.5</td>\n",
       "    </tr>\n",
       "    <tr>\n",
       "      <th>FONDKAPREMONT_MODE</th>\n",
       "      <td>147370</td>\n",
       "      <td>68.5</td>\n",
       "    </tr>\n",
       "    <tr>\n",
       "      <th>LIVINGAPARTMENTS_MODE</th>\n",
       "      <td>147326</td>\n",
       "      <td>68.4</td>\n",
       "    </tr>\n",
       "    <tr>\n",
       "      <th>LIVINGAPARTMENTS_MEDI</th>\n",
       "      <td>147326</td>\n",
       "      <td>68.4</td>\n",
       "    </tr>\n",
       "    <tr>\n",
       "      <th>LIVINGAPARTMENTS_AVG</th>\n",
       "      <td>147326</td>\n",
       "      <td>68.4</td>\n",
       "    </tr>\n",
       "    <tr>\n",
       "      <th>FLOORSMIN_MODE</th>\n",
       "      <td>146249</td>\n",
       "      <td>67.9</td>\n",
       "    </tr>\n",
       "    <tr>\n",
       "      <th>FLOORSMIN_MEDI</th>\n",
       "      <td>146249</td>\n",
       "      <td>67.9</td>\n",
       "    </tr>\n",
       "    <tr>\n",
       "      <th>FLOORSMIN_AVG</th>\n",
       "      <td>146249</td>\n",
       "      <td>67.9</td>\n",
       "    </tr>\n",
       "    <tr>\n",
       "      <th>YEARS_BUILD_MODE</th>\n",
       "      <td>143297</td>\n",
       "      <td>66.6</td>\n",
       "    </tr>\n",
       "    <tr>\n",
       "      <th>YEARS_BUILD_MEDI</th>\n",
       "      <td>143297</td>\n",
       "      <td>66.6</td>\n",
       "    </tr>\n",
       "    <tr>\n",
       "      <th>YEARS_BUILD_AVG</th>\n",
       "      <td>143297</td>\n",
       "      <td>66.6</td>\n",
       "    </tr>\n",
       "    <tr>\n",
       "      <th>OWN_CAR_AGE</th>\n",
       "      <td>142071</td>\n",
       "      <td>66.0</td>\n",
       "    </tr>\n",
       "    <tr>\n",
       "      <th>LANDAREA_AVG</th>\n",
       "      <td>127848</td>\n",
       "      <td>59.4</td>\n",
       "    </tr>\n",
       "    <tr>\n",
       "      <th>LANDAREA_MEDI</th>\n",
       "      <td>127848</td>\n",
       "      <td>59.4</td>\n",
       "    </tr>\n",
       "    <tr>\n",
       "      <th>LANDAREA_MODE</th>\n",
       "      <td>127848</td>\n",
       "      <td>59.4</td>\n",
       "    </tr>\n",
       "  </tbody>\n",
       "</table>\n",
       "</div>"
      ],
      "text/plain": [
       "                          Missing Values  % of Total Values\n",
       "COMMONAREA_MEDI                   150612               70.0\n",
       "COMMONAREA_AVG                    150612               70.0\n",
       "COMMONAREA_MODE                   150612               70.0\n",
       "NONLIVINGAPARTMENTS_MEDI          149644               69.5\n",
       "NONLIVINGAPARTMENTS_MODE          149644               69.5\n",
       "NONLIVINGAPARTMENTS_AVG           149644               69.5\n",
       "FONDKAPREMONT_MODE                147370               68.5\n",
       "LIVINGAPARTMENTS_MODE             147326               68.4\n",
       "LIVINGAPARTMENTS_MEDI             147326               68.4\n",
       "LIVINGAPARTMENTS_AVG              147326               68.4\n",
       "FLOORSMIN_MODE                    146249               67.9\n",
       "FLOORSMIN_MEDI                    146249               67.9\n",
       "FLOORSMIN_AVG                     146249               67.9\n",
       "YEARS_BUILD_MODE                  143297               66.6\n",
       "YEARS_BUILD_MEDI                  143297               66.6\n",
       "YEARS_BUILD_AVG                   143297               66.6\n",
       "OWN_CAR_AGE                       142071               66.0\n",
       "LANDAREA_AVG                      127848               59.4\n",
       "LANDAREA_MEDI                     127848               59.4\n",
       "LANDAREA_MODE                     127848               59.4"
      ]
     },
     "execution_count": 12,
     "metadata": {},
     "output_type": "execute_result"
    }
   ],
   "source": [
    "# Missing values statistics\n",
    "missing_values = missing_values_table(app_train)\n",
    "missing_values.head(20)"
   ]
  },
  {
   "cell_type": "markdown",
   "metadata": {
    "_cell_guid": "df3c6a1d-b3ff-4565-bb32-5cba43c52729",
    "_uuid": "0b1be19103910ce83ebf54eeed99e42829643578"
   },
   "source": [
    "When it comes time to build our machine learning models, we will have to fill in these missing values (known as imputation). In later work, we will use models such as XGBoost that can [handle missing values with no need for imputation](https://stats.stackexchange.com/questions/235489/xgboost-can-handle-missing-data-in-the-forecasting-phase). Another option would be to drop columns with a high percentage of missing values, although it is impossible to know ahead of time if these columns will be helpful to our model. Therefore, we will keep all of the columns for now."
   ]
  },
  {
   "cell_type": "markdown",
   "metadata": {},
   "source": [
    "$\\color{red}{\\text{Lightgbm lui ignore les Nan durant le split en fait ? }}$\n",
    "\n"
   ]
  },
  {
   "cell_type": "markdown",
   "metadata": {
    "_uuid": "0672e40c3ab75a7901c0de35d248b322a227dc7f"
   },
   "source": [
    "## Column Types\n",
    "\n",
    "Let's look at the number of columns of each data type. `int64` and `float64` are numeric variables ([which can be either discrete or continuous](https://stats.stackexchange.com/questions/206/what-is-the-difference-between-discrete-data-and-continuous-data)). `object` columns contain strings and are  [categorical features.](http://support.minitab.com/en-us/minitab-express/1/help-and-how-to/modeling-statistics/regression/supporting-topics/basics/what-are-categorical-discrete-and-continuous-variables/) . "
   ]
  },
  {
   "cell_type": "code",
   "execution_count": 13,
   "metadata": {
    "_uuid": "a03caadd76fa32f4b193e52467d4f39f2145d7b6"
   },
   "outputs": [
    {
     "data": {
      "text/plain": [
       "float64    65\n",
       "int64      41\n",
       "object     16\n",
       "dtype: int64"
      ]
     },
     "execution_count": 13,
     "metadata": {},
     "output_type": "execute_result"
    }
   ],
   "source": [
    "# Number of each type of column\n",
    "app_train.dtypes.value_counts()"
   ]
  },
  {
   "cell_type": "markdown",
   "metadata": {
    "_uuid": "5859303c9acc63f7ff7acce063a9cd022a6d38cd"
   },
   "source": [
    "Let's now look at the number of unique entries in each of the `object` (categorical) columns."
   ]
  },
  {
   "cell_type": "code",
   "execution_count": 14,
   "metadata": {
    "_uuid": "2d021eda10939a19b141292d34491b357acd201a"
   },
   "outputs": [
    {
     "data": {
      "text/plain": [
       "NAME_CONTRACT_TYPE             2\n",
       "CODE_GENDER                    3\n",
       "FLAG_OWN_CAR                   2\n",
       "FLAG_OWN_REALTY                2\n",
       "NAME_TYPE_SUITE                7\n",
       "NAME_INCOME_TYPE               8\n",
       "NAME_EDUCATION_TYPE            5\n",
       "NAME_FAMILY_STATUS             6\n",
       "NAME_HOUSING_TYPE              6\n",
       "OCCUPATION_TYPE               18\n",
       "WEEKDAY_APPR_PROCESS_START     7\n",
       "ORGANIZATION_TYPE             58\n",
       "FONDKAPREMONT_MODE             4\n",
       "HOUSETYPE_MODE                 3\n",
       "WALLSMATERIAL_MODE             7\n",
       "EMERGENCYSTATE_MODE            2\n",
       "dtype: int64"
      ]
     },
     "execution_count": 14,
     "metadata": {},
     "output_type": "execute_result"
    }
   ],
   "source": [
    "# Number of unique classes in each object column\n",
    "app_train.select_dtypes('object').apply(pd.Series.nunique, axis = 0)"
   ]
  },
  {
   "cell_type": "markdown",
   "metadata": {
    "_uuid": "10ceaf3ba31e26c822b242b1278d93ebfbefcc0a"
   },
   "source": [
    "Most of the categorical variables have a relatively small number of unique entries. We will need to find a way to deal with these categorical variables! "
   ]
  },
  {
   "cell_type": "markdown",
   "metadata": {
    "_cell_guid": "86d1b309-5524-4298-b873-2c1c09eddec6",
    "_uuid": "1b49e667293daabffd8a4b2b6d02cf44bf6a3ba8"
   },
   "source": [
    "## Encoding Categorical Variables\n",
    "\n",
    "Before we go any further, we need to deal with pesky categorical variables.  A machine learning model unfortunately cannot deal with categorical variables (except for some models such as [LightGBM](http://lightgbm.readthedocs.io/en/latest/Features.html)). Therefore, we have to find a way to encode (represent) these variables as numbers before handing them off to the model. There are two main ways to carry out this process:\n",
    "\n",
    "* Label encoding: assign each unique category in a categorical variable with an integer. No new columns are created. An example is shown below\n",
    "\n",
    "![image](https://raw.githubusercontent.com/WillKoehrsen/Machine-Learning-Projects/master/label_encoding.png)\n",
    "\n",
    "* One-hot encoding: create a new column for each unique category in a categorical variable. Each observation recieves a 1 in the column for its corresponding category and a 0 in all other new columns. \n",
    "\n",
    "![image](https://raw.githubusercontent.com/WillKoehrsen/Machine-Learning-Projects/master/one_hot_encoding.png)\n",
    "\n",
    "The problem with label encoding is that it gives the categories an arbitrary ordering. The value assigned to each of the categories is random and does not reflect any inherent aspect of the category. In the example above, programmer recieves a 4 and data scientist a 1, but if we did the same process again, the labels could be reversed or completely different. The actual assignment of the integers is arbitrary. Therefore, when we perform label encoding, the model might use the relative value of the feature (for example programmer = 4 and data scientist = 1) to assign weights which is not what we want. If we only have two unique values for a categorical variable (such as Male/Female), then label encoding is fine, but for more than 2 unique categories, one-hot encoding is the safe option.\n",
    "\n",
    "There is some debate about the relative merits of these approaches, and some models can deal with label encoded categorical variables with no issues. [Here is a good Stack Overflow discussion](https://datascience.stackexchange.com/questions/9443/when-to-use-one-hot-encoding-vs-labelencoder-vs-dictvectorizor). I think (and this is just a personal opinion) for categorical variables with many classes, one-hot encoding is the safest approach because it does not impose arbitrary values to categories. The only downside to one-hot encoding is that the number of features (dimensions of the data) can explode with categorical variables with many categories. To deal with this, we can perform one-hot encoding followed by [PCA](http://www.cs.otago.ac.nz/cosc453/student_tutorials/principal_components.pdf) or other [dimensionality reduction methods](https://www.analyticsvidhya.com/blog/2015/07/dimension-reduction-methods/) to reduce the number of dimensions (while still trying to preserve information). \n",
    "\n",
    "In this notebook, we will use Label Encoding for any categorical variables with only 2 categories and One-Hot Encoding for any categorical variables with more than 2 categories. This process may need to change as we get further into the project, but for now, we will see where this gets us. (We will also not use any dimensionality reduction in this notebook but will explore in future iterations)."
   ]
  },
  {
   "cell_type": "markdown",
   "metadata": {
    "_cell_guid": "95627792-157e-457a-88a8-3b3875c7e1d5",
    "_uuid": "46f5bf9a6de52e270aa911ffd895e704da5426ec"
   },
   "source": [
    "### Label Encoding and One-Hot Encoding\n",
    "\n",
    "Let's implement the policy described above: for any categorical variable (`dtype == object`) with 2 unique categories, we will use label encoding, and for any categorical variable with more than 2 unique categories, we will use one-hot encoding. \n",
    "\n",
    "For label encoding, we use the Scikit-Learn `LabelEncoder` and for one-hot encoding, the pandas `get_dummies(df)` function."
   ]
  },
  {
   "cell_type": "code",
   "execution_count": 15,
   "metadata": {
    "_cell_guid": "70641d4d-1075-4837-8972-e58d70d8f242",
    "_uuid": "ddfaae5c3dcc7ec6bb47a2dffc10d364e8d25355"
   },
   "outputs": [
    {
     "name": "stdout",
     "output_type": "stream",
     "text": [
      "3 columns were label encoded.\n"
     ]
    }
   ],
   "source": [
    "# Create a label encoder object\n",
    "le = LabelEncoder()\n",
    "le_count = 0\n",
    "\n",
    "# Iterate through the columns\n",
    "for col in app_train:\n",
    "    if app_train[col].dtype == 'object':\n",
    "        # If 2 or fewer unique categories\n",
    "        if len(list(app_train[col].unique())) <= 2:\n",
    "            # Train on the training data\n",
    "            le.fit(app_train[col])\n",
    "            # Transform both training and testing data\n",
    "            app_train[col] = le.transform(app_train[col])\n",
    "            app_test[col] = le.transform(app_test[col])\n",
    "            \n",
    "            # Keep track of how many columns were label encoded\n",
    "            le_count += 1\n",
    "            \n",
    "print('%d columns were label encoded.' % le_count)"
   ]
  },
  {
   "cell_type": "code",
   "execution_count": 16,
   "metadata": {},
   "outputs": [
    {
     "name": "stdout",
     "output_type": "stream",
     "text": [
      "Training Features shape:  (215257, 122)\n",
      "Testing Features shape:  (92254, 122)\n"
     ]
    }
   ],
   "source": [
    "print('Training Features shape: ', app_train.shape)\n",
    "print('Testing Features shape: ', app_test.shape)"
   ]
  },
  {
   "cell_type": "markdown",
   "metadata": {},
   "source": [
    "$\\color{red}{\\text{Je connaissais pas pd.get_dummies donc à quoi sert le ohe que j utilise ds les autres projets ?  }}$"
   ]
  },
  {
   "cell_type": "code",
   "execution_count": 17,
   "metadata": {
    "_cell_guid": "0851773b-39fd-4cf0-9a66-e30adeef3e57",
    "_uuid": "6796c6dc793a08e162b6e20c6f185ef37bdf51f3"
   },
   "outputs": [
    {
     "name": "stdout",
     "output_type": "stream",
     "text": [
      "Training Features shape:  (215257, 243)\n",
      "Testing Features shape:  (92254, 241)\n"
     ]
    }
   ],
   "source": [
    "# one-hot encoding of categorical variables\n",
    "#Je connaissais pas pd.get_dummies \n",
    "\n",
    "#On passe tout d'un coup comme cela ce concentre que sur des colonnes objects et on a déjà géré les autres avant avec le label encoding\n",
    "#Il ne reste plus que les autres pour le ohe \n",
    "app_train = pd.get_dummies(app_train)\n",
    "app_test = pd.get_dummies(app_test)\n",
    "\n",
    "print('Training Features shape: ', app_train.shape)\n",
    "print('Testing Features shape: ', app_test.shape)"
   ]
  },
  {
   "cell_type": "code",
   "execution_count": 18,
   "metadata": {},
   "outputs": [
    {
     "data": {
      "text/plain": [
       "Index(['SK_ID_CURR', 'TARGET', 'NAME_CONTRACT_TYPE', 'FLAG_OWN_CAR',\n",
       "       'FLAG_OWN_REALTY', 'CNT_CHILDREN', 'AMT_INCOME_TOTAL', 'AMT_CREDIT',\n",
       "       'AMT_ANNUITY', 'AMT_GOODS_PRICE',\n",
       "       ...\n",
       "       'HOUSETYPE_MODE_terraced house', 'WALLSMATERIAL_MODE_Block',\n",
       "       'WALLSMATERIAL_MODE_Mixed', 'WALLSMATERIAL_MODE_Monolithic',\n",
       "       'WALLSMATERIAL_MODE_Others', 'WALLSMATERIAL_MODE_Panel',\n",
       "       'WALLSMATERIAL_MODE_Stone, brick', 'WALLSMATERIAL_MODE_Wooden',\n",
       "       'EMERGENCYSTATE_MODE_No', 'EMERGENCYSTATE_MODE_Yes'],\n",
       "      dtype='object', length=243)"
      ]
     },
     "execution_count": 18,
     "metadata": {},
     "output_type": "execute_result"
    }
   ],
   "source": [
    "app_train.columns"
   ]
  },
  {
   "cell_type": "markdown",
   "metadata": {
    "_cell_guid": "61d910b5-84f5-4655-bd8a-d29672c13741",
    "_uuid": "1b2c4198638ec8e5155097d112249de8754eb5c0"
   },
   "source": [
    "$\\color{red}{\\text{je comprends pas ici le principe ou le but du aligning  }}$\n",
    "\n",
    "### Aligning Training and Testing Data\n",
    "\n",
    "There need to be the same features (columns) in both the training and testing data. One-hot encoding has created more columns in the training data because there were some categorical variables with categories not represented in the testing data. To remove the columns in the training data that are not in the testing data, we need to `align` the dataframes. First we extract the target column from the training data (because this is not in the testing data but we need to keep this information). When we do the align, we must make sure to set `axis = 1` to align the dataframes based on the columns and not on the rows!"
   ]
  },
  {
   "cell_type": "code",
   "execution_count": 19,
   "metadata": {
    "_cell_guid": "d99ca215-e893-490c-a6a4-83f3e8a067b3",
    "_uuid": "e0d12a13cb95521c19b10d8829e8abe2b1118396"
   },
   "outputs": [
    {
     "name": "stdout",
     "output_type": "stream",
     "text": [
      "Training Features shape:  (215257, 241)\n",
      "Testing Features shape:  (92254, 241)\n"
     ]
    }
   ],
   "source": [
    "train_labels = app_train['TARGET']\n",
    "\n",
    "# Align the training and testing data, keep only columns present in both dataframes\n",
    "app_train, app_test = app_train.align(app_test, join = 'inner', axis = 1)\n",
    "\n",
    "# Add the target back in\n",
    "app_train['TARGET'] = train_labels\n",
    "\n",
    "print('Training Features shape: ', app_train.shape)\n",
    "print('Testing Features shape: ', app_test.shape)"
   ]
  },
  {
   "cell_type": "markdown",
   "metadata": {
    "_uuid": "802ffdbae02e43a9ca4e256ffcd6bd40ae15f3e9"
   },
   "source": [
    "The training and testing datasets now have the same features which is required for machine learning. The number of features has grown significantly due to one-hot encoding. At some point we probably will want to try [dimensionality reduction (removing features that are not relevant)](https://en.wikipedia.org/wiki/Dimensionality_reduction) to reduce the size of the datasets.\n",
    "\n",
    "\n",
    "$\\color{red}{\\text{#Pk utiliser une méthode de réduction ? il n'y a pas temps de données que ca ? }}$\n",
    "$\\color{red}{\\text{#et pk il n a pas regardé la représentation de chaque classe pour éviter le pb des sparses matrix et de dimensions }}$"
   ]
  },
  {
   "cell_type": "markdown",
   "metadata": {
    "_cell_guid": "13918211-0e6b-4d72-955b-f997db19eea2",
    "_uuid": "4d7c8dd1d5bb5a0ef84cb78e6bff927249e62145"
   },
   "source": [
    "## Back to Exploratory Data Analysis\n",
    "\n",
    "### Anomalies\n",
    "\n",
    "One problem we always want to be on the lookout for when doing EDA is anomalies within the data. These may be due to mis-typed numbers, errors in measuring equipment, or they could be valid but extreme measurements. One way to support anomalies quantitatively is by looking at the statistics of a column using the `describe` method. The numbers in the `DAYS_BIRTH` column are negative because they are recorded relative to the current loan application. To see these stats in years, we can mutliple by -1 and divide by the number of days in a year:\n",
    "\n",
    "\n",
    "$\\color{red}{\\text{Les chiffres de la colonne DAYS_BIRTH sont négatifs car ils sont enregistrés par rapport à la demande de prêt en cours.\n",
    "Pour voir ces statistiques en années, nous pouvons les multiplier par -1 et les diviser par le nombre de jours dans une année :}}$\n",
    "\n",
    "$\\color{blue}{\\text{DAYS_BIRTH is the age in days of the client at the time of the loan in negative days (for whatever reason!).}}$\n"
   ]
  },
  {
   "cell_type": "code",
   "execution_count": 20,
   "metadata": {},
   "outputs": [
    {
     "data": {
      "text/plain": [
       "66405     -9819\n",
       "39888    -14631\n",
       "118218   -12705\n",
       "9571      -8185\n",
       "25941    -15599\n",
       "1923     -19147\n",
       "1414     -13346\n",
       "169843   -13648\n",
       "134890   -10952\n",
       "36389    -19531\n",
       "Name: DAYS_BIRTH, dtype: int64"
      ]
     },
     "execution_count": 20,
     "metadata": {},
     "output_type": "execute_result"
    }
   ],
   "source": [
    "app_train['DAYS_BIRTH'].head(n=10)"
   ]
  },
  {
   "cell_type": "code",
   "execution_count": 21,
   "metadata": {
    "_uuid": "a60be93c2d7d63855e6d65c1109f408ad85da134"
   },
   "outputs": [
    {
     "data": {
      "text/plain": [
       "count    215257.000000\n",
       "mean         43.962228\n",
       "std          11.950104\n",
       "min          20.517808\n",
       "25%          34.043836\n",
       "50%          43.161644\n",
       "75%          53.950685\n",
       "max          69.120548\n",
       "Name: DAYS_BIRTH, dtype: float64"
      ]
     },
     "execution_count": 21,
     "metadata": {},
     "output_type": "execute_result"
    }
   ],
   "source": [
    "(app_train['DAYS_BIRTH'] / -365).describe()"
   ]
  },
  {
   "cell_type": "markdown",
   "metadata": {
    "_uuid": "acb37a3e3f2e0b2fd581259788b9255398314157"
   },
   "source": [
    "Those ages look reasonable. There are no outliers for the age on either the high or low end. How about the days of employment? "
   ]
  },
  {
   "cell_type": "code",
   "execution_count": 22,
   "metadata": {
    "_uuid": "600c59dd5d970d3ccfea3a6af0036d85958adc91"
   },
   "outputs": [
    {
     "data": {
      "text/plain": [
       "count    215257.000000\n",
       "mean      63798.582676\n",
       "std      141262.138489\n",
       "min      -17546.000000\n",
       "25%       -2757.000000\n",
       "50%       -1214.000000\n",
       "75%        -289.000000\n",
       "max      365243.000000\n",
       "Name: DAYS_EMPLOYED, dtype: float64"
      ]
     },
     "execution_count": 22,
     "metadata": {},
     "output_type": "execute_result"
    }
   ],
   "source": [
    "app_train['DAYS_EMPLOYED'].describe()"
   ]
  },
  {
   "cell_type": "markdown",
   "metadata": {
    "_uuid": "1cdd9dafce28e497e08062cd3b189ac353c04cd9"
   },
   "source": [
    "That doesn't look right! The maximum value (besides being positive) is about 1000 years! "
   ]
  },
  {
   "cell_type": "markdown",
   "metadata": {},
   "source": [
    "$\\color{red}{\\text{A regarder aussi DAYS_EMPLOYED}}$"
   ]
  },
  {
   "cell_type": "code",
   "execution_count": 23,
   "metadata": {
    "_uuid": "2878bfb3a2be4554f33e03e1a04d4c1978b52a08"
   },
   "outputs": [
    {
     "data": {
      "image/png": "[encoded data removed]",
      "text/plain": [
       "<Figure size 432x288 with 1 Axes>"
      ]
     },
     "metadata": {
      "needs_background": "light"
     },
     "output_type": "display_data"
    }
   ],
   "source": [
    "app_train['DAYS_EMPLOYED'].plot.hist(title = 'Days Employment Histogram');\n",
    "plt.xlabel('Days Employment');"
   ]
  },
  {
   "cell_type": "markdown",
   "metadata": {
    "_uuid": "d28ca1e799c0a6113cc5e920297e1dc93d380af4"
   },
   "source": [
    "Just out of curiousity, let's subset the anomalous clients and see if they tend to have higher or low rates of default than the rest of the clients."
   ]
  },
  {
   "cell_type": "code",
   "execution_count": 24,
   "metadata": {
    "_uuid": "67ea87d9ef6974b1780a7db1eefd13f90f81b5be"
   },
   "outputs": [
    {
     "name": "stdout",
     "output_type": "stream",
     "text": [
      "The non-anomalies default on 8.64% of loans\n",
      "The anomalies default on 5.47% of loans\n",
      "There are 38752 anomalous days of employment\n"
     ]
    }
   ],
   "source": [
    "anom = app_train[app_train['DAYS_EMPLOYED'] == 365243]\n",
    "non_anom = app_train[app_train['DAYS_EMPLOYED'] != 365243]\n",
    "print('The non-anomalies default on %0.2f%% of loans' % (100 * non_anom['TARGET'].mean()))\n",
    "print('The anomalies default on %0.2f%% of loans' % (100 * anom['TARGET'].mean()))\n",
    "print('There are %d anomalous days of employment' % len(anom))"
   ]
  },
  {
   "cell_type": "markdown",
   "metadata": {
    "_uuid": "1edfcf786aadb004f083e9896989a29e43bf80da"
   },
   "source": [
    "Well that is extremely interesting! It turns out that the anomalies have a lower rate of default. \n",
    "\n",
    "Handling the anomalies depends on the exact situation, with no set rules. One of the safest approaches is just to set the anomalies to a missing value and then have them filled in (using Imputation) before machine learning. In this case, since all the anomalies have the exact same value, we want to fill them in with the same value in case all of these loans share something in common. The anomalous values seem to have some importance, so we want to tell the machine learning model if we did in fact fill in these values. As a solution, we will fill in the anomalous values with not a number (`np.nan`) and then create a new boolean column indicating whether or not the value was anomalous.\n",
    "\n"
   ]
  },
  {
   "cell_type": "code",
   "execution_count": 25,
   "metadata": {
    "_uuid": "e23ec3cb89428f3dd994b572f718cc729740cfab"
   },
   "outputs": [
    {
     "data": {
      "image/png": "[encoded data removed]",
      "text/plain": [
       "<Figure size 432x288 with 1 Axes>"
      ]
     },
     "metadata": {
      "needs_background": "light"
     },
     "output_type": "display_data"
    }
   ],
   "source": [
    "# Create an anomalous flag column\n",
    "app_train['DAYS_EMPLOYED_ANOM'] = app_train[\"DAYS_EMPLOYED\"] == 365243\n",
    "\n",
    "# Replace the anomalous values with nan\n",
    "app_train['DAYS_EMPLOYED'].replace({365243: np.nan}, inplace = True)\n",
    "\n",
    "app_train['DAYS_EMPLOYED'].plot.hist(title = 'Days Employment Histogram');\n",
    "plt.xlabel('Days Employment');"
   ]
  },
  {
   "cell_type": "markdown",
   "metadata": {
    "_uuid": "839595437c0721e2480f6b4ee58f3060b222f166"
   },
   "source": [
    "The distribution looks to be much more in line with what we would expect, and we also have created a new column to tell the model that these values were originally anomalous (becuase we will have to fill in the nans with some value, probably the median of the column). The other columns with `DAYS` in the dataframe look to be about what we expect with no obvious outliers. \n",
    "\n",
    "As an extremely important note, anything we do to the training data we also have to do to the testing data. Let's make sure to create the new column and fill in the existing column with `np.nan` in the testing data."
   ]
  },
  {
   "cell_type": "code",
   "execution_count": 26,
   "metadata": {
    "_uuid": "a0d7c77b2adecaa878f39cf86ffddcfbbe51a190"
   },
   "outputs": [
    {
     "name": "stdout",
     "output_type": "stream",
     "text": [
      "There are 16622 anomalies in the test data out of 92254 entries\n"
     ]
    }
   ],
   "source": [
    "app_test['DAYS_EMPLOYED_ANOM'] = app_test[\"DAYS_EMPLOYED\"] == 365243\n",
    "app_test[\"DAYS_EMPLOYED\"].replace({365243: np.nan}, inplace = True)\n",
    "\n",
    "print('There are %d anomalies in the test data out of %d entries' % (app_test[\"DAYS_EMPLOYED_ANOM\"].sum(), len(app_test)))"
   ]
  },
  {
   "cell_type": "markdown",
   "metadata": {
    "_uuid": "fd656b392faad3b34ecfa448b55ad03e75449e0a"
   },
   "source": [
    "### Correlations\n",
    "\n",
    "Now that we have dealt with the categorical variables and the outliers, let's continue with the EDA. One way to try and understand the data is by looking for correlations between the features and the target. We can calculate the Pearson correlation coefficient between every variable and the target using the `.corr` dataframe method.\n",
    "\n",
    "The correlation coefficient is not the greatest method to represent \"relevance\" of a feature, but it does give us an idea of possible relationships within the data. Some [general interpretations of the absolute value of the correlation coefficent](http://www.statstutor.ac.uk/resources/uploaded/pearsons.pdf) are:\n",
    "\n",
    "\n",
    "* .00-.19 “very weak”\n",
    "*  .20-.39 “weak”\n",
    "*  .40-.59 “moderate”\n",
    "*  .60-.79 “strong”\n",
    "* .80-1.0 “very strong”\n"
   ]
  },
  {
   "cell_type": "markdown",
   "metadata": {},
   "source": [
    "$\\color{red}{\\text{Je comprends et je comprends pas en même temps, il regarde la correlation mais n obtient que un feature avec un score ou est le 2ème feature ? }}$"
   ]
  },
  {
   "cell_type": "code",
   "execution_count": 27,
   "metadata": {
    "_cell_guid": "02acdb8d-d95f-41b9-8ad1-e2b6cb26f398",
    "_uuid": "d39d15d64db1f2c9015c6f542911ef9a9cac119e"
   },
   "outputs": [
    {
     "name": "stdout",
     "output_type": "stream",
     "text": [
      "Most Positive Correlations:\n",
      " OCCUPATION_TYPE_Laborers                             0.041363\n",
      "REG_CITY_NOT_LIVE_CITY                               0.043063\n",
      "FLAG_EMP_PHONE                                       0.044739\n",
      "FLAG_DOCUMENT_3                                      0.044830\n",
      "NAME_EDUCATION_TYPE_Secondary / secondary special    0.049783\n",
      "REG_CITY_NOT_WORK_CITY                               0.049953\n",
      "DAYS_ID_PUBLISH                                      0.051301\n",
      "CODE_GENDER_M                                        0.053125\n",
      "DAYS_LAST_PHONE_CHANGE                               0.054552\n",
      "NAME_INCOME_TYPE_Working                             0.058103\n",
      "REGION_RATING_CLIENT                                 0.060669\n",
      "REGION_RATING_CLIENT_W_CITY                          0.062197\n",
      "DAYS_EMPLOYED                                        0.073130\n",
      "DAYS_BIRTH                                           0.075754\n",
      "TARGET                                               1.000000\n",
      "Name: TARGET, dtype: float64\n",
      "\n",
      "Most Negative Correlations:\n",
      " EXT_SOURCE_3                           -0.178625\n",
      "EXT_SOURCE_2                           -0.160270\n",
      "EXT_SOURCE_1                           -0.152178\n",
      "NAME_EDUCATION_TYPE_Higher education   -0.055808\n",
      "CODE_GENDER_F                          -0.053112\n",
      "FLOORSMAX_AVG                          -0.045002\n",
      "NAME_INCOME_TYPE_Pensioner             -0.044940\n",
      "FLOORSMAX_MEDI                         -0.044939\n",
      "ORGANIZATION_TYPE_XNA                  -0.044755\n",
      "DAYS_EMPLOYED_ANOM                     -0.044755\n",
      "FLOORSMAX_MODE                         -0.044430\n",
      "EMERGENCYSTATE_MODE_No                 -0.043792\n",
      "HOUSETYPE_MODE_block of flats          -0.042339\n",
      "AMT_GOODS_PRICE                        -0.040033\n",
      "REGION_POPULATION_RELATIVE             -0.037440\n",
      "Name: TARGET, dtype: float64\n"
     ]
    }
   ],
   "source": [
    "# Find correlations with the target and sort\n",
    "correlations = app_train.corr()['TARGET'].sort_values()\n",
    "\n",
    "# Display correlations\n",
    "print('Most Positive Correlations:\\n', correlations.tail(15))\n",
    "print('\\nMost Negative Correlations:\\n', correlations.head(15))"
   ]
  },
  {
   "cell_type": "markdown",
   "metadata": {
    "_cell_guid": "8cfa409c-ec74-4fa4-8093-e7d00596c9c5",
    "_uuid": "67e1f0f22ec8e26c38827c24ca1e9409d73c9c64"
   },
   "source": [
    "Let's take a look at some of more significant correlations: the `DAYS_BIRTH` is the most positive correlation. (except for `TARGET` because the correlation of a variable with itself is always 1!) Looking at the documentation, `DAYS_BIRTH` is the age in days of the client at the time of the loan in negative days (for whatever reason!). The correlation is positive, but the value of this feature is actually negative, meaning that as the client gets older, they are less likely to default on their loan (ie the target == 0). That's a little confusing, so we will take the absolute value of the feature and then the correlation will be negative."
   ]
  },
  {
   "cell_type": "markdown",
   "metadata": {
    "_cell_guid": "0f7b1cfb-9e5c-4720-9618-ad326940f3f3",
    "_uuid": "c1b831b6d1c3221efb123fbc1a4882aa1f598ec0"
   },
   "source": [
    "### Effect of Age on Repayment\n",
    "\n",
    "$\\color{red}{\\text{A ressayer de comprendre }}$"
   ]
  },
  {
   "cell_type": "code",
   "execution_count": 28,
   "metadata": {
    "_cell_guid": "b0ab583c-dfbb-4ff7-80e5-d747fc408499",
    "_uuid": "f705c7aa49486ec3bf119c4edc4e4af58861b88d"
   },
   "outputs": [
    {
     "data": {
      "text/plain": [
       "-0.07575364881734026"
      ]
     },
     "execution_count": 28,
     "metadata": {},
     "output_type": "execute_result"
    }
   ],
   "source": [
    "# Find the correlation of the positive days since birth and target\n",
    "app_train['DAYS_BIRTH'] = abs(app_train['DAYS_BIRTH'])\n",
    "app_train['DAYS_BIRTH'].corr(app_train['TARGET'])"
   ]
  },
  {
   "cell_type": "markdown",
   "metadata": {
    "_cell_guid": "3fde277c-ebf1-4eaf-a353-c18fc4b518a6",
    "_uuid": "2b95e2c33bdd50682e7105d0f27b9cc3ad5b482d"
   },
   "source": [
    "As the client gets older, there is a negative linear relationship with the target meaning that as clients get older, they tend to repay their loans on time more often. \n",
    "\n",
    "Let's start looking at this variable. First, we can make a histogram of the age. We will put the x axis in years to make the plot a little more understandable."
   ]
  },
  {
   "cell_type": "code",
   "execution_count": 29,
   "metadata": {
    "_cell_guid": "35e36393-e388-488e-ba7a-7473169d3e6f",
    "_uuid": "739226c4594130d6aabeb25ffb8742c37657d7a4"
   },
   "outputs": [
    {
     "data": {
      "image/png": "[encoded data removed]",
      "text/plain": [
       "<Figure size 432x288 with 1 Axes>"
      ]
     },
     "metadata": {},
     "output_type": "display_data"
    }
   ],
   "source": [
    "# Set the style of plots\n",
    "plt.style.use('fivethirtyeight')\n",
    "\n",
    "# Plot the distribution of ages in years\n",
    "plt.hist(app_train['DAYS_BIRTH'] / 365, edgecolor = 'k', bins = 25)\n",
    "plt.title('Age of Client'); plt.xlabel('Age (years)'); plt.ylabel('Count');"
   ]
  },
  {
   "cell_type": "markdown",
   "metadata": {
    "_cell_guid": "02f5d3c5-e527-430b-a38d-531aeb8f3dd1",
    "_uuid": "340680b4a4ecf310a6369808157b17cac7c13461"
   },
   "source": [
    "By itself, the distribution of age does not tell us much other than that there are no outliers as all the ages are reasonable. To visualize the effect of the age on the target, we will next make a [kernel density estimation plot](https://en.wikipedia.org/wiki/Kernel_density_estimation) (KDE) colored by the value of the target. A [kernel density estimate plot shows the distribution of a single variable](https://chemicalstatistician.wordpress.com/2013/06/09/exploratory-data-analysis-kernel-density-estimation-in-r-on-ozone-pollution-data-in-new-york-and-ozonopolis/) and can be thought of as a smoothed histogram (it is created by computing a kernel, usually a Gaussian, at each data point and then averaging all the individual kernels to develop a single smooth curve). We will use the seaborn `kdeplot` for this graph."
   ]
  },
  {
   "cell_type": "markdown",
   "metadata": {
    "_cell_guid": "9749e164-efea-47d2-ab60-5a8b89ff0570",
    "_uuid": "57757e02285b8067b61e3f586174ad64bec78ac1"
   },
   "source": [
    "The target == 1 curve skews towards the younger end of the range. Although this is not a significant correlation (-0.07 correlation coefficient), this variable is likely going to be useful in a machine learning model because it does affect the target. Let's look at this relationship in another way: average failure to repay loans by age bracket. \n",
    "\n",
    "To make this graph, first we `cut` the age category into bins of 5 years each. Then, for each bin, we calculate the average value of the target, which tells us the ratio of loans that were not repaid in each age category."
   ]
  },
  {
   "cell_type": "code",
   "execution_count": 30,
   "metadata": {
    "_cell_guid": "4296e926-7245-40df-bb0a-f6e59d8e566a",
    "_uuid": "6c50572f095bff250bfed1993e2c53118277b5dd"
   },
   "outputs": [
    {
     "data": {
      "text/html": [
       "<div>\n",
       "<style scoped>\n",
       "    .dataframe tbody tr th:only-of-type {\n",
       "        vertical-align: middle;\n",
       "    }\n",
       "\n",
       "    .dataframe tbody tr th {\n",
       "        vertical-align: top;\n",
       "    }\n",
       "\n",
       "    .dataframe thead th {\n",
       "        text-align: right;\n",
       "    }\n",
       "</style>\n",
       "<table border=\"1\" class=\"dataframe\">\n",
       "  <thead>\n",
       "    <tr style=\"text-align: right;\">\n",
       "      <th></th>\n",
       "      <th>TARGET</th>\n",
       "      <th>DAYS_BIRTH</th>\n",
       "      <th>YEARS_BIRTH</th>\n",
       "      <th>YEARS_BINNED</th>\n",
       "    </tr>\n",
       "  </thead>\n",
       "  <tbody>\n",
       "    <tr>\n",
       "      <th>66405</th>\n",
       "      <td>0</td>\n",
       "      <td>9819</td>\n",
       "      <td>26.901370</td>\n",
       "      <td>(25.0, 30.0]</td>\n",
       "    </tr>\n",
       "    <tr>\n",
       "      <th>39888</th>\n",
       "      <td>0</td>\n",
       "      <td>14631</td>\n",
       "      <td>40.084932</td>\n",
       "      <td>(40.0, 45.0]</td>\n",
       "    </tr>\n",
       "    <tr>\n",
       "      <th>118218</th>\n",
       "      <td>0</td>\n",
       "      <td>12705</td>\n",
       "      <td>34.808219</td>\n",
       "      <td>(30.0, 35.0]</td>\n",
       "    </tr>\n",
       "    <tr>\n",
       "      <th>9571</th>\n",
       "      <td>1</td>\n",
       "      <td>8185</td>\n",
       "      <td>22.424658</td>\n",
       "      <td>(20.0, 25.0]</td>\n",
       "    </tr>\n",
       "    <tr>\n",
       "      <th>25941</th>\n",
       "      <td>0</td>\n",
       "      <td>15599</td>\n",
       "      <td>42.736986</td>\n",
       "      <td>(40.0, 45.0]</td>\n",
       "    </tr>\n",
       "    <tr>\n",
       "      <th>1923</th>\n",
       "      <td>1</td>\n",
       "      <td>19147</td>\n",
       "      <td>52.457534</td>\n",
       "      <td>(50.0, 55.0]</td>\n",
       "    </tr>\n",
       "    <tr>\n",
       "      <th>1414</th>\n",
       "      <td>0</td>\n",
       "      <td>13346</td>\n",
       "      <td>36.564384</td>\n",
       "      <td>(35.0, 40.0]</td>\n",
       "    </tr>\n",
       "    <tr>\n",
       "      <th>169843</th>\n",
       "      <td>0</td>\n",
       "      <td>13648</td>\n",
       "      <td>37.391781</td>\n",
       "      <td>(35.0, 40.0]</td>\n",
       "    </tr>\n",
       "    <tr>\n",
       "      <th>134890</th>\n",
       "      <td>0</td>\n",
       "      <td>10952</td>\n",
       "      <td>30.005479</td>\n",
       "      <td>(30.0, 35.0]</td>\n",
       "    </tr>\n",
       "    <tr>\n",
       "      <th>36389</th>\n",
       "      <td>0</td>\n",
       "      <td>19531</td>\n",
       "      <td>53.509589</td>\n",
       "      <td>(50.0, 55.0]</td>\n",
       "    </tr>\n",
       "  </tbody>\n",
       "</table>\n",
       "</div>"
      ],
      "text/plain": [
       "        TARGET  DAYS_BIRTH  YEARS_BIRTH  YEARS_BINNED\n",
       "66405        0        9819    26.901370  (25.0, 30.0]\n",
       "39888        0       14631    40.084932  (40.0, 45.0]\n",
       "118218       0       12705    34.808219  (30.0, 35.0]\n",
       "9571         1        8185    22.424658  (20.0, 25.0]\n",
       "25941        0       15599    42.736986  (40.0, 45.0]\n",
       "1923         1       19147    52.457534  (50.0, 55.0]\n",
       "1414         0       13346    36.564384  (35.0, 40.0]\n",
       "169843       0       13648    37.391781  (35.0, 40.0]\n",
       "134890       0       10952    30.005479  (30.0, 35.0]\n",
       "36389        0       19531    53.509589  (50.0, 55.0]"
      ]
     },
     "execution_count": 30,
     "metadata": {},
     "output_type": "execute_result"
    }
   ],
   "source": [
    "# Age information into a separate dataframe\n",
    "age_data = app_train[['TARGET', 'DAYS_BIRTH']]\n",
    "age_data['YEARS_BIRTH'] = age_data['DAYS_BIRTH'] / 365\n",
    "\n",
    "# Bin the age data\n",
    "age_data['YEARS_BINNED'] = pd.cut(age_data['YEARS_BIRTH'], bins = np.linspace(20, 70, num = 11))\n",
    "age_data.head(10)"
   ]
  },
  {
   "cell_type": "code",
   "execution_count": 31,
   "metadata": {
    "_cell_guid": "18873d6b-3877-4c77-830e-0f3e10e5e7fb",
    "_uuid": "7082483e5fd9114856926de28968e5ae0b478b36"
   },
   "outputs": [
    {
     "data": {
      "text/html": [
       "<div>\n",
       "<style scoped>\n",
       "    .dataframe tbody tr th:only-of-type {\n",
       "        vertical-align: middle;\n",
       "    }\n",
       "\n",
       "    .dataframe tbody tr th {\n",
       "        vertical-align: top;\n",
       "    }\n",
       "\n",
       "    .dataframe thead th {\n",
       "        text-align: right;\n",
       "    }\n",
       "</style>\n",
       "<table border=\"1\" class=\"dataframe\">\n",
       "  <thead>\n",
       "    <tr style=\"text-align: right;\">\n",
       "      <th></th>\n",
       "      <th>TARGET</th>\n",
       "      <th>DAYS_BIRTH</th>\n",
       "      <th>YEARS_BIRTH</th>\n",
       "    </tr>\n",
       "    <tr>\n",
       "      <th>YEARS_BINNED</th>\n",
       "      <th></th>\n",
       "      <th></th>\n",
       "      <th></th>\n",
       "    </tr>\n",
       "  </thead>\n",
       "  <tbody>\n",
       "    <tr>\n",
       "      <th>(20.0, 25.0]</th>\n",
       "      <td>0.120743</td>\n",
       "      <td>8533.833889</td>\n",
       "      <td>23.380367</td>\n",
       "    </tr>\n",
       "    <tr>\n",
       "      <th>(25.0, 30.0]</th>\n",
       "      <td>0.110330</td>\n",
       "      <td>10155.935408</td>\n",
       "      <td>27.824481</td>\n",
       "    </tr>\n",
       "    <tr>\n",
       "      <th>(30.0, 35.0]</th>\n",
       "      <td>0.101881</td>\n",
       "      <td>11857.074855</td>\n",
       "      <td>32.485137</td>\n",
       "    </tr>\n",
       "    <tr>\n",
       "      <th>(35.0, 40.0]</th>\n",
       "      <td>0.090918</td>\n",
       "      <td>13706.809345</td>\n",
       "      <td>37.552902</td>\n",
       "    </tr>\n",
       "    <tr>\n",
       "      <th>(40.0, 45.0]</th>\n",
       "      <td>0.078009</td>\n",
       "      <td>15495.836669</td>\n",
       "      <td>42.454347</td>\n",
       "    </tr>\n",
       "    <tr>\n",
       "      <th>(45.0, 50.0]</th>\n",
       "      <td>0.073946</td>\n",
       "      <td>17322.503850</td>\n",
       "      <td>47.458915</td>\n",
       "    </tr>\n",
       "    <tr>\n",
       "      <th>(50.0, 55.0]</th>\n",
       "      <td>0.068615</td>\n",
       "      <td>19196.294012</td>\n",
       "      <td>52.592586</td>\n",
       "    </tr>\n",
       "    <tr>\n",
       "      <th>(55.0, 60.0]</th>\n",
       "      <td>0.055133</td>\n",
       "      <td>20982.821323</td>\n",
       "      <td>57.487182</td>\n",
       "    </tr>\n",
       "    <tr>\n",
       "      <th>(60.0, 65.0]</th>\n",
       "      <td>0.052968</td>\n",
       "      <td>22778.412144</td>\n",
       "      <td>62.406609</td>\n",
       "    </tr>\n",
       "    <tr>\n",
       "      <th>(65.0, 70.0]</th>\n",
       "      <td>0.039902</td>\n",
       "      <td>24292.116048</td>\n",
       "      <td>66.553743</td>\n",
       "    </tr>\n",
       "  </tbody>\n",
       "</table>\n",
       "</div>"
      ],
      "text/plain": [
       "                TARGET    DAYS_BIRTH  YEARS_BIRTH\n",
       "YEARS_BINNED                                     \n",
       "(20.0, 25.0]  0.120743   8533.833889    23.380367\n",
       "(25.0, 30.0]  0.110330  10155.935408    27.824481\n",
       "(30.0, 35.0]  0.101881  11857.074855    32.485137\n",
       "(35.0, 40.0]  0.090918  13706.809345    37.552902\n",
       "(40.0, 45.0]  0.078009  15495.836669    42.454347\n",
       "(45.0, 50.0]  0.073946  17322.503850    47.458915\n",
       "(50.0, 55.0]  0.068615  19196.294012    52.592586\n",
       "(55.0, 60.0]  0.055133  20982.821323    57.487182\n",
       "(60.0, 65.0]  0.052968  22778.412144    62.406609\n",
       "(65.0, 70.0]  0.039902  24292.116048    66.553743"
      ]
     },
     "execution_count": 31,
     "metadata": {},
     "output_type": "execute_result"
    }
   ],
   "source": [
    "# Group by the bin and calculate averages\n",
    "age_groups  = age_data.groupby('YEARS_BINNED').mean()\n",
    "age_groups"
   ]
  },
  {
   "cell_type": "code",
   "execution_count": 32,
   "metadata": {
    "_cell_guid": "004d1021-d73f-4356-9ef8-0464c95d1708",
    "_uuid": "823b5032f472b05ce079ae5a7680389f31ddd8b7"
   },
   "outputs": [
    {
     "data": {
      "image/png": "[encoded data removed]",
      "text/plain": [
       "<Figure size 576x576 with 1 Axes>"
      ]
     },
     "metadata": {},
     "output_type": "display_data"
    }
   ],
   "source": [
    "plt.figure(figsize = (8, 8))\n",
    "\n",
    "# Graph the age bins and the average of the target as a bar plot\n",
    "plt.bar(age_groups.index.astype(str), 100 * age_groups['TARGET'])\n",
    "\n",
    "# Plot labeling\n",
    "plt.xticks(rotation = 75); plt.xlabel('Age Group (years)'); plt.ylabel('Failure to Repay (%)')\n",
    "plt.title('Failure to Repay by Age Group');"
   ]
  },
  {
   "cell_type": "markdown",
   "metadata": {
    "_cell_guid": "2dad060f-bcab-4fe3-aa19-29fbf3e6fdab",
    "_uuid": "eb2bd6392ed6d6f7e002bc8dbea6aab0f30487d9"
   },
   "source": [
    "There is a clear trend: younger applicants are more likely to not repay the loan! The rate of failure to repay is above 10% for the youngest three age groups and beolow 5% for the oldest age group.\n",
    "\n",
    "This is information that could be directly used by the bank: because younger clients are less likely to repay the loan, maybe they should be provided with more guidance or financial planning tips. This does not mean the bank should discriminate against younger clients, but it would be smart to take precautionary measures to help younger clients pay on time."
   ]
  },
  {
   "cell_type": "markdown",
   "metadata": {
    "_cell_guid": "4749204f-ec63-4eeb-8d25-9c80967348f1",
    "_uuid": "43a3bb87bdaa65509e9dc887492239ae06cd1c77"
   },
   "source": [
    "### Exterior Sources\n",
    "\n",
    "The 3 variables with the strongest negative correlations with the target are `EXT_SOURCE_1`, `EXT_SOURCE_2`, and `EXT_SOURCE_3`.\n",
    "According to the documentation, these features represent a \"normalized score from external data source\". I'm not sure what this exactly means, but it may be a cumulative sort of credit rating made using numerous sources of data. \n",
    "\n",
    "Let's take a look at these variables.\n",
    "\n",
    "First, we can show the correlations of the `EXT_SOURCE` features with the target and with each other."
   ]
  },
  {
   "cell_type": "code",
   "execution_count": 33,
   "metadata": {
    "_cell_guid": "e2ab3b7f-3a53-4495-a1de-31ad287f032a",
    "_uuid": "6197819149feaff75176e64e54c65ea6be3864fe"
   },
   "outputs": [
    {
     "data": {
      "text/html": [
       "<div>\n",
       "<style scoped>\n",
       "    .dataframe tbody tr th:only-of-type {\n",
       "        vertical-align: middle;\n",
       "    }\n",
       "\n",
       "    .dataframe tbody tr th {\n",
       "        vertical-align: top;\n",
       "    }\n",
       "\n",
       "    .dataframe thead th {\n",
       "        text-align: right;\n",
       "    }\n",
       "</style>\n",
       "<table border=\"1\" class=\"dataframe\">\n",
       "  <thead>\n",
       "    <tr style=\"text-align: right;\">\n",
       "      <th></th>\n",
       "      <th>TARGET</th>\n",
       "      <th>EXT_SOURCE_1</th>\n",
       "      <th>EXT_SOURCE_2</th>\n",
       "      <th>EXT_SOURCE_3</th>\n",
       "      <th>DAYS_BIRTH</th>\n",
       "    </tr>\n",
       "  </thead>\n",
       "  <tbody>\n",
       "    <tr>\n",
       "      <th>TARGET</th>\n",
       "      <td>1.000000</td>\n",
       "      <td>-0.152178</td>\n",
       "      <td>-0.160270</td>\n",
       "      <td>-0.178625</td>\n",
       "      <td>-0.075754</td>\n",
       "    </tr>\n",
       "    <tr>\n",
       "      <th>EXT_SOURCE_1</th>\n",
       "      <td>-0.152178</td>\n",
       "      <td>1.000000</td>\n",
       "      <td>0.212129</td>\n",
       "      <td>0.184145</td>\n",
       "      <td>0.602550</td>\n",
       "    </tr>\n",
       "    <tr>\n",
       "      <th>EXT_SOURCE_2</th>\n",
       "      <td>-0.160270</td>\n",
       "      <td>0.212129</td>\n",
       "      <td>1.000000</td>\n",
       "      <td>0.108016</td>\n",
       "      <td>0.089610</td>\n",
       "    </tr>\n",
       "    <tr>\n",
       "      <th>EXT_SOURCE_3</th>\n",
       "      <td>-0.178625</td>\n",
       "      <td>0.184145</td>\n",
       "      <td>0.108016</td>\n",
       "      <td>1.000000</td>\n",
       "      <td>0.202069</td>\n",
       "    </tr>\n",
       "    <tr>\n",
       "      <th>DAYS_BIRTH</th>\n",
       "      <td>-0.075754</td>\n",
       "      <td>0.602550</td>\n",
       "      <td>0.089610</td>\n",
       "      <td>0.202069</td>\n",
       "      <td>1.000000</td>\n",
       "    </tr>\n",
       "  </tbody>\n",
       "</table>\n",
       "</div>"
      ],
      "text/plain": [
       "                TARGET  EXT_SOURCE_1  EXT_SOURCE_2  EXT_SOURCE_3  DAYS_BIRTH\n",
       "TARGET        1.000000     -0.152178     -0.160270     -0.178625   -0.075754\n",
       "EXT_SOURCE_1 -0.152178      1.000000      0.212129      0.184145    0.602550\n",
       "EXT_SOURCE_2 -0.160270      0.212129      1.000000      0.108016    0.089610\n",
       "EXT_SOURCE_3 -0.178625      0.184145      0.108016      1.000000    0.202069\n",
       "DAYS_BIRTH   -0.075754      0.602550      0.089610      0.202069    1.000000"
      ]
     },
     "execution_count": 33,
     "metadata": {},
     "output_type": "execute_result"
    }
   ],
   "source": [
    "# Extract the EXT_SOURCE variables and show correlations\n",
    "ext_data = app_train[['TARGET', 'EXT_SOURCE_1', 'EXT_SOURCE_2', 'EXT_SOURCE_3', 'DAYS_BIRTH']]\n",
    "ext_data_corrs = ext_data.corr()\n",
    "ext_data_corrs"
   ]
  },
  {
   "cell_type": "code",
   "execution_count": 34,
   "metadata": {
    "_cell_guid": "0479863d-cfa9-47ab-83e6-7d7877e3e939",
    "_uuid": "20b21a6b4e15a726c29596abeb01346dc416729c"
   },
   "outputs": [
    {
     "data": {
      "image/png": "[encoded data removed]",
      "text/plain": [
       "<Figure size 576x432 with 2 Axes>"
      ]
     },
     "metadata": {},
     "output_type": "display_data"
    }
   ],
   "source": [
    "plt.figure(figsize = (8, 6))\n",
    "\n",
    "# Heatmap of correlations\n",
    "sns.heatmap(ext_data_corrs, cmap = plt.cm.RdYlBu_r, vmin = -0.25, annot = True, vmax = 0.6)\n",
    "plt.title('Correlation Heatmap');"
   ]
  },
  {
   "cell_type": "markdown",
   "metadata": {
    "_cell_guid": "78bd5acc-003d-4795-a57a-a6c4fc9c8c5f",
    "_uuid": "6a592aa7c01858b268489ccb8fd00690cd26cd58"
   },
   "source": [
    "All three `EXT_SOURCE` featureshave negative correlations with the target, indicating that as the value of the `EXT_SOURCE` increases, the client is more likely to repay the loan. We can also see that `DAYS_BIRTH` is positively correlated with `EXT_SOURCE_1` indicating that maybe one of the factors in this score is the client age.\n",
    "\n",
    "Next we can look at the distribution of each of these features colored by the value of the target. This will let us visualize the effect of this variable on the target."
   ]
  },
  {
   "cell_type": "markdown",
   "metadata": {
    "_cell_guid": "0ee531e8-f131-4ae3-b542-d4bf550d9bd5",
    "_uuid": "71ce5855665256dacfd7c52bceb11c68f5c58759"
   },
   "source": [
    "`EXT_SOURCE_3` displays the greatest difference between the values of the target. We can clearly see that this feature has some relationship to the likelihood of an applicant to repay a loan. The relationship is not very strong (in fact they are all [considered very weak](http://www.statstutor.ac.uk/resources/uploaded/pearsons.pdf), but these variables will still be useful for a machine learning model to predict whether or not an applicant will repay a loan on time."
   ]
  },
  {
   "cell_type": "markdown",
   "metadata": {},
   "source": [
    "# Imputer à changer "
   ]
  },
  {
   "cell_type": "code",
   "execution_count": 35,
   "metadata": {},
   "outputs": [
    {
     "data": {
      "text/plain": [
       "Index(['SK_ID_CURR', 'TARGET', 'NAME_CONTRACT_TYPE', 'FLAG_OWN_CAR',\n",
       "       'FLAG_OWN_REALTY', 'CNT_CHILDREN', 'AMT_INCOME_TOTAL', 'AMT_CREDIT',\n",
       "       'AMT_ANNUITY', 'AMT_GOODS_PRICE',\n",
       "       ...\n",
       "       'WALLSMATERIAL_MODE_Block', 'WALLSMATERIAL_MODE_Mixed',\n",
       "       'WALLSMATERIAL_MODE_Monolithic', 'WALLSMATERIAL_MODE_Others',\n",
       "       'WALLSMATERIAL_MODE_Panel', 'WALLSMATERIAL_MODE_Stone, brick',\n",
       "       'WALLSMATERIAL_MODE_Wooden', 'EMERGENCYSTATE_MODE_No',\n",
       "       'EMERGENCYSTATE_MODE_Yes', 'DAYS_EMPLOYED_ANOM'],\n",
       "      dtype='object', length=242)"
      ]
     },
     "execution_count": 35,
     "metadata": {},
     "output_type": "execute_result"
    }
   ],
   "source": [
    "app_train.columns"
   ]
  },
  {
   "cell_type": "code",
   "execution_count": 36,
   "metadata": {},
   "outputs": [],
   "source": [
    "from sklearn.impute import SimpleImputer\n",
    "imputer = SimpleImputer(strategy = 'median')\n",
    "\n",
    "app_train_target = app_train['TARGET']\n",
    "\n",
    "app_train_features = app_train.columns\n",
    "# Need to impute missing values\n",
    "app_train = imputer.fit_transform(app_train)\n",
    "#app_train = imputer.transform(poly_features_test)\n",
    "app_train=pd.DataFrame(app_train,columns=app_train_features)"
   ]
  },
  {
   "cell_type": "code",
   "execution_count": 37,
   "metadata": {},
   "outputs": [],
   "source": [
    "from sklearn.impute import SimpleImputer\n",
    "imputer = SimpleImputer(strategy = 'median')\n",
    "\n",
    "\n",
    "app_test_features = app_test.columns\n",
    "# Need to impute missing values\n",
    "app_test = imputer.fit_transform(app_test)\n",
    "#app_test = imputer.transform(poly_features_test)\n",
    "app_test=pd.DataFrame(app_test,columns=app_test_features)"
   ]
  },
  {
   "cell_type": "code",
   "execution_count": 38,
   "metadata": {},
   "outputs": [
    {
     "data": {
      "text/plain": [
       "(215257, 242)"
      ]
     },
     "execution_count": 38,
     "metadata": {},
     "output_type": "execute_result"
    }
   ],
   "source": [
    "app_train.shape"
   ]
  },
  {
   "cell_type": "code",
   "execution_count": null,
   "metadata": {},
   "outputs": [],
   "source": []
  },
  {
   "cell_type": "code",
   "execution_count": null,
   "metadata": {},
   "outputs": [],
   "source": []
  },
  {
   "cell_type": "code",
   "execution_count": null,
   "metadata": {},
   "outputs": [],
   "source": []
  },
  {
   "cell_type": "markdown",
   "metadata": {
    "_cell_guid": "bd49d18b-e35f-4122-a005-dd06d8f2f7ca",
    "_uuid": "d5506d0483af10dbf71e8ed11c99b2d5253680fb"
   },
   "source": [
    "# Feature Engineering\n",
    "\n",
    "Kaggle competitions are won by feature engineering: those win are those who can create the most useful features out of the data. (This is true for the most part as the winning models, at least for structured data, all tend to be variants on [gradient boosting](http://blog.kaggle.com/2017/01/23/a-kaggle-master-explains-gradient-boosting/)). This represents one of the patterns in machine learning: feature engineering has a greater return on investment than model building and hyperparameter tuning. [This is a great article on the subject)](https://www.featurelabs.com/blog/secret-to-data-science-success/). As Andrew Ng is fond of saying: \"applied machine learning is basically feature engineering.\" \n",
    "\n",
    "While choosing the right model and optimal settings are important, the model can only learn from the data it is given. Making sure this data is as relevant to the task as possible is the job of the data scientist (and maybe some [automated tools](https://docs.featuretools.com/getting_started/install.html) to help us out).\n",
    "\n",
    "Feature engineering refers to a geneal process and can involve both feature construction: adding new features from the existing data, and feature selection: choosing only the most important features or other methods of dimensionality reduction. There are many techniques we can use to both create features and select features.\n",
    "\n",
    "We will do a lot of feature engineering when we start using the other data sources, but in this notebook we will try only two simple feature construction methods: \n",
    "\n",
    "* Polynomial features\n",
    "* Domain knowledge features\n"
   ]
  },
  {
   "cell_type": "markdown",
   "metadata": {
    "_uuid": "9b27fad1522263c32b57a8127c84ad0e08ff9d8f"
   },
   "source": [
    "## Domain Knowledge Features\n",
    "\n",
    "Maybe it's not entirely correct to call this \"domain knowledge\" because I'm not a credit expert, but perhaps we could call this \"attempts at applying limited financial knowledge\". In this frame of mind, we can make a couple features that attempt to capture what we think may be important for telling whether a client will default on a loan. Here I'm going to use five features that were inspired by [this script](https://www.kaggle.com/jsaguiar/updated-0-792-lb-lightgbm-with-simple-features) by Aguiar:\n",
    "\n",
    "* `CREDIT_INCOME_PERCENT`: the percentage of the credit amount relative to a client's income\n",
    "* `ANNUITY_INCOME_PERCENT`: the percentage of the loan annuity relative to a client's income\n",
    "* `CREDIT_TERM`:  the length of the payment in months (since the annuity is the monthly amount due\n",
    "* `DAYS_EMPLOYED_PERCENT`: the percentage of the days employed relative to the client's age\n",
    "\n",
    "Again, thanks to Aguiar and [his great script](https://www.kaggle.com/jsaguiar/updated-0-792-lb-lightgbm-with-simple-features) for exploring these features.\n",
    "\n"
   ]
  },
  {
   "cell_type": "markdown",
   "metadata": {},
   "source": [
    "$\\color{purple}{\\text{AMT is imposed if the tentative minimum tax exceeds the regular tax.[40] Tentative minimum tax is the AMT rate of tax times alternative minimum taxable income (AMTI) less the AMT foreign tax credit. Regular tax is the regular income tax reduced only by the foreign and possessions tax credits.[19] In any year in which regular tax exceeds tentative minimum tax, a credit (AMT Credit) is allowed against regular tax to the extent the taxpayer has paid AMT in any prior year. This credit may not reduce regular tax below the tentative minimum tax.}}$\n"
   ]
  },
  {
   "cell_type": "code",
   "execution_count": 39,
   "metadata": {
    "_uuid": "c8d4b165b45da6c3120911de18e9348d8726c70c"
   },
   "outputs": [],
   "source": [
    "app_train_domain = app_train.copy()\n",
    "app_test_domain = app_test.copy()\n",
    "\n",
    "app_train_domain['CREDIT_INCOME_PERCENT'] = app_train_domain['AMT_CREDIT'] / app_train_domain['AMT_INCOME_TOTAL']\n",
    "app_train_domain['ANNUITY_INCOME_PERCENT'] = app_train_domain['AMT_ANNUITY'] / app_train_domain['AMT_INCOME_TOTAL']\n",
    "app_train_domain['CREDIT_TERM'] = app_train_domain['AMT_ANNUITY'] / app_train_domain['AMT_CREDIT']\n",
    "app_train_domain['DAYS_EMPLOYED_PERCENT'] = app_train_domain['DAYS_EMPLOYED'] / app_train_domain['DAYS_BIRTH']"
   ]
  },
  {
   "cell_type": "code",
   "execution_count": 40,
   "metadata": {
    "_uuid": "d017103871bd4935a8c29599d6be33e0e74b2f83"
   },
   "outputs": [],
   "source": [
    "app_test_domain['CREDIT_INCOME_PERCENT'] = app_test_domain['AMT_CREDIT'] / app_test_domain['AMT_INCOME_TOTAL']\n",
    "app_test_domain['ANNUITY_INCOME_PERCENT'] = app_test_domain['AMT_ANNUITY'] / app_test_domain['AMT_INCOME_TOTAL']\n",
    "app_test_domain['CREDIT_TERM'] = app_test_domain['AMT_ANNUITY'] / app_test_domain['AMT_CREDIT']\n",
    "app_test_domain['DAYS_EMPLOYED_PERCENT'] = app_test_domain['DAYS_EMPLOYED'] / app_test_domain['DAYS_BIRTH']"
   ]
  },
  {
   "cell_type": "code",
   "execution_count": 42,
   "metadata": {},
   "outputs": [],
   "source": [
    "app_train_domain.to_csv('app_train_domain.csv',index=False)\n",
    "app_test_domain.to_csv('app_test_domain.csv',index=False)"
   ]
  },
  {
   "cell_type": "code",
   "execution_count": null,
   "metadata": {},
   "outputs": [],
   "source": []
  },
  {
   "cell_type": "code",
   "execution_count": null,
   "metadata": {},
   "outputs": [],
   "source": []
  },
  {
   "cell_type": "code",
   "execution_count": null,
   "metadata": {},
   "outputs": [],
   "source": []
  },
  {
   "cell_type": "code",
   "execution_count": null,
   "metadata": {},
   "outputs": [],
   "source": []
  },
  {
   "cell_type": "code",
   "execution_count": 41,
   "metadata": {},
   "outputs": [
    {
     "name": "stdout",
     "output_type": "stream",
     "text": [
      "Avant : \n",
      "app_train_domain : (215257, 246)\n",
      "app_test_domain : (92254, 246)\n",
      "X : (215257, 245)\n",
      "y : (215257,)\n"
     ]
    }
   ],
   "source": [
    "X=app_train_domain.drop('TARGET', 1)\n",
    "\n",
    "y=app_train_domain['TARGET']\n",
    "print('Avant : ')\n",
    "print('app_train_domain :',app_train_domain.shape)\n",
    "print('app_test_domain :',app_test_domain.shape)\n",
    "print('X :',X.shape)\n",
    "print('y :',y.shape)\n",
    "\n"
   ]
  },
  {
   "cell_type": "code",
   "execution_count": 38,
   "metadata": {
    "_uuid": "a7e9a1149953069853d4d83ec46f22084dce8711"
   },
   "outputs": [],
   "source": [
    "SEED=1\n",
    "X_train, X_val, y_train, y_val = train_test_split(X, y,test_size=0.3,\n",
    "                                                                random_state=SEED,stratify=y)\n",
    "\n",
    "#Debut \n",
    "#split sur train.csv\n",
    "#train1 et test1\n",
    "#preprocessing ...\n",
    "#split train1\n",
    "#trainbis, valbis, test1"
   ]
  },
  {
   "cell_type": "code",
   "execution_count": 44,
   "metadata": {},
   "outputs": [
    {
     "name": "stdout",
     "output_type": "stream",
     "text": [
      "Après : \n",
      "X_train : (215257, 244)\n",
      "X_val : (92254, 244)\n",
      "app_test_domain : (48744, 244)\n"
     ]
    }
   ],
   "source": [
    "print('Après : ')\n",
    "print('X_train :',X_train.shape)\n",
    "print('X_val :',X_val.shape)\n",
    "print('app_test_domain :',app_test_domain.shape)\n"
   ]
  },
  {
   "cell_type": "markdown",
   "metadata": {},
   "source": [
    "# Undersampling "
   ]
  },
  {
   "cell_type": "markdown",
   "metadata": {},
   "source": [
    "!python -m pip install -U imbalanced-learn"
   ]
  },
  {
   "cell_type": "code",
   "execution_count": 45,
   "metadata": {},
   "outputs": [
    {
     "name": "stdout",
     "output_type": "stream",
     "text": [
      "0.7.0\n"
     ]
    }
   ],
   "source": [
    "import imblearn \n",
    "print(imblearn.__version__)\n",
    "from collections import Counter\n",
    "from sklearn.datasets import make_classification\n",
    "from imblearn.under_sampling import RandomUnderSampler"
   ]
  },
  {
   "cell_type": "code",
   "execution_count": 46,
   "metadata": {},
   "outputs": [],
   "source": [
    "undersample=RandomUnderSampler(sampling_strategy='majority')"
   ]
  },
  {
   "cell_type": "code",
   "execution_count": 47,
   "metadata": {},
   "outputs": [
    {
     "name": "stdout",
     "output_type": "stream",
     "text": [
      "Counter({0.0: 17377, 1.0: 17377})\n"
     ]
    }
   ],
   "source": [
    "X_under,y_under=undersample.fit_resample(X_train, y_train)\n",
    "print(Counter(y_under))"
   ]
  },
  {
   "cell_type": "markdown",
   "metadata": {},
   "source": [
    "# Oversampling "
   ]
  },
  {
   "cell_type": "code",
   "execution_count": 48,
   "metadata": {},
   "outputs": [
    {
     "name": "stdout",
     "output_type": "stream",
     "text": [
      "Counter({0.0: 197880, 1.0: 17377})\n"
     ]
    }
   ],
   "source": [
    "from imblearn.over_sampling import SMOTE\n",
    "\n",
    "# summarize class distribution\n",
    "counter = Counter(y_train)\n",
    "print(counter)\n"
   ]
  },
  {
   "cell_type": "code",
   "execution_count": 49,
   "metadata": {},
   "outputs": [
    {
     "data": {
      "text/plain": [
       "11.38746619094205"
      ]
     },
     "execution_count": 49,
     "metadata": {},
     "output_type": "execute_result"
    }
   ],
   "source": [
    "197880/17377"
   ]
  },
  {
   "cell_type": "code",
   "execution_count": 50,
   "metadata": {},
   "outputs": [
    {
     "data": {
      "text/plain": [
       "19288.47"
      ]
     },
     "execution_count": 50,
     "metadata": {},
     "output_type": "execute_result"
    }
   ],
   "source": [
    "17377*1.11"
   ]
  },
  {
   "cell_type": "code",
   "execution_count": 51,
   "metadata": {},
   "outputs": [],
   "source": [
    "#Fallait il mettre 1 ? "
   ]
  },
  {
   "cell_type": "code",
   "execution_count": 52,
   "metadata": {},
   "outputs": [
    {
     "name": "stdout",
     "output_type": "stream",
     "text": [
      "Counter({0.0: 197880, 1.0: 197880})\n"
     ]
    }
   ],
   "source": [
    "over = SMOTE(sampling_strategy=1, k_neighbors=5)\n",
    "X_over,y_over=over.fit_resample(X_train, y_train)\n",
    "print(Counter(y_over))"
   ]
  },
  {
   "cell_type": "code",
   "execution_count": null,
   "metadata": {},
   "outputs": [],
   "source": []
  },
  {
   "cell_type": "markdown",
   "metadata": {},
   "source": [
    "class_weight={0:1,1:2}"
   ]
  },
  {
   "cell_type": "code",
   "execution_count": null,
   "metadata": {},
   "outputs": [],
   "source": []
  },
  {
   "cell_type": "markdown",
   "metadata": {},
   "source": [
    "# A Faire \n",
    "- Undersampling \n",
    "- Oversampling : SMOTE (voisinage) \n",
    "- Class weight \n",
    "- Métrique "
   ]
  },
  {
   "cell_type": "code",
   "execution_count": 53,
   "metadata": {},
   "outputs": [],
   "source": [
    "comp_model = pd.DataFrame( columns=['Model','Train_score',\n",
    "                                    'Test_score'])"
   ]
  },
  {
   "cell_type": "code",
   "execution_count": 54,
   "metadata": {},
   "outputs": [],
   "source": [
    "import re\n",
    "from sklearn.metrics import accuracy_score\n",
    "from sklearn import metrics\n",
    "\n",
    "def lgb(df_x_train,df_y_train,df_x_val,df_y_val,name_tech,df_save):\n",
    "    \n",
    "    lgb=LGBMClassifier()\n",
    "    lgb_param_grid = {\n",
    "            'learning_rate': [0.01,0.1,0.5,0.9],\n",
    "            'n_estimators': [300,500,700],\n",
    "            'subsample': [0.3, 0.4, 0.6]\n",
    "            }\n",
    "\n",
    "\n",
    "\n",
    "    grid_lgb = GridSearchCV(estimator=lgb,\n",
    "                                    param_grid=lgb_param_grid, cv=3,\n",
    "                                    scoring='roc_auc')\n",
    "    \n",
    "    df_x_train = df_x_train.rename(columns = lambda x:re.sub('[^A-Za-z0-9_]+', '', x))\n",
    "\n",
    "    grid_lgb.fit(df_x_train, df_y_train)\n",
    "    accu_train_lgb=grid_lgb.best_score_\n",
    "\n",
    "    best_hyperparams = grid_lgb.best_params_\n",
    "\n",
    "    best_model_lgb = grid_lgb.best_estimator_\n",
    "    y_pred = best_model_lgb.predict(df_x_val)\n",
    "    accu_test_lgb=metrics.roc_auc_score(df_y_val, y_pred)\n",
    "    \n",
    "    data = [{'Model': name_tech,\n",
    "                 'Train_score':accu_train_lgb,\n",
    "                 'Test_score':accu_test_lgb,\n",
    "                }]\n",
    "    \n",
    "    \n",
    "    \n",
    "    \n",
    "    df_save=df_save.append(data,ignore_index=True,sort=False)\n",
    "    return df_save "
   ]
  },
  {
   "cell_type": "code",
   "execution_count": 55,
   "metadata": {},
   "outputs": [],
   "source": [
    "name='undersampling'\n",
    "comp_model=lgb(df_x_train=X_under,\n",
    "               df_y_train=y_under,\n",
    "               df_x_val=X_val,\n",
    "               df_y_val=y_val,\n",
    "               name_tech=name,\n",
    "               df_save=comp_model)"
   ]
  },
  {
   "cell_type": "code",
   "execution_count": 56,
   "metadata": {},
   "outputs": [
    {
     "data": {
      "text/html": [
       "<div>\n",
       "<style scoped>\n",
       "    .dataframe tbody tr th:only-of-type {\n",
       "        vertical-align: middle;\n",
       "    }\n",
       "\n",
       "    .dataframe tbody tr th {\n",
       "        vertical-align: top;\n",
       "    }\n",
       "\n",
       "    .dataframe thead th {\n",
       "        text-align: right;\n",
       "    }\n",
       "</style>\n",
       "<table border=\"1\" class=\"dataframe\">\n",
       "  <thead>\n",
       "    <tr style=\"text-align: right;\">\n",
       "      <th></th>\n",
       "      <th>Model</th>\n",
       "      <th>Train_score</th>\n",
       "      <th>Test_score</th>\n",
       "    </tr>\n",
       "  </thead>\n",
       "  <tbody>\n",
       "    <tr>\n",
       "      <th>0</th>\n",
       "      <td>undersampling</td>\n",
       "      <td>0.754758</td>\n",
       "      <td>0.69382</td>\n",
       "    </tr>\n",
       "  </tbody>\n",
       "</table>\n",
       "</div>"
      ],
      "text/plain": [
       "           Model  Train_score  Test_score\n",
       "0  undersampling     0.754758     0.69382"
      ]
     },
     "execution_count": 56,
     "metadata": {},
     "output_type": "execute_result"
    }
   ],
   "source": [
    "comp_model"
   ]
  },
  {
   "cell_type": "code",
   "execution_count": 57,
   "metadata": {},
   "outputs": [],
   "source": [
    "import re\n",
    "from sklearn.metrics import accuracy_score\n",
    "\n",
    "def lgb_balance(df_x_train,df_y_train,df_x_val,df_y_val,name_tech,df_save):\n",
    "    \n",
    "    lgb=LGBMClassifier(class_weight='balanced')\n",
    "    lgb_param_grid = {\n",
    "            'learning_rate': [0.01,0.1,0.5,0.9],\n",
    "            'n_estimators': [300,500,700],\n",
    "            'subsample': [0.3, 0.4, 0.6]\n",
    "            }\n",
    "\n",
    "\n",
    "\n",
    "    grid_lgb = GridSearchCV(estimator=lgb,\n",
    "                                    param_grid=lgb_param_grid, cv=5,\n",
    "                                    scoring='roc_auc')\n",
    "    \n",
    "    df_x_train = df_x_train.rename(columns = lambda x:re.sub('[^A-Za-z0-9_]+', '', x))\n",
    "\n",
    "    grid_lgb.fit(df_x_train, df_y_train)\n",
    "    accu_train_lgb=grid_lgb.best_score_\n",
    "\n",
    "    best_hyperparams = grid_lgb.best_params_\n",
    "\n",
    "    best_model_lgb = grid_lgb.best_estimator_\n",
    "    y_pred = best_model_lgb.predict(df_x_val)\n",
    "    accu_test_lgb=metrics.roc_auc_score(df_y_val, y_pred)\n",
    "    data = [{'Model': name_tech,\n",
    "                 'Train_score':accu_train_lgb,\n",
    "                 'Test_score':accu_test_lgb,\n",
    "                }]\n",
    "    \n",
    "    \n",
    "    \n",
    "    \n",
    "    df_save=df_save.append(data,ignore_index=True,sort=False)\n",
    "    return df_save"
   ]
  },
  {
   "cell_type": "code",
   "execution_count": 58,
   "metadata": {},
   "outputs": [],
   "source": [
    "name='balanced'\n",
    "comp_model=lgb_balance(df_x_train=X_under,\n",
    "               df_y_train=y_under,\n",
    "               df_x_val=X_val,\n",
    "               df_y_val=y_val,\n",
    "               name_tech=name,\n",
    "               df_save=comp_model)"
   ]
  },
  {
   "cell_type": "code",
   "execution_count": 59,
   "metadata": {},
   "outputs": [
    {
     "data": {
      "text/html": [
       "<div>\n",
       "<style scoped>\n",
       "    .dataframe tbody tr th:only-of-type {\n",
       "        vertical-align: middle;\n",
       "    }\n",
       "\n",
       "    .dataframe tbody tr th {\n",
       "        vertical-align: top;\n",
       "    }\n",
       "\n",
       "    .dataframe thead th {\n",
       "        text-align: right;\n",
       "    }\n",
       "</style>\n",
       "<table border=\"1\" class=\"dataframe\">\n",
       "  <thead>\n",
       "    <tr style=\"text-align: right;\">\n",
       "      <th></th>\n",
       "      <th>Model</th>\n",
       "      <th>Train_score</th>\n",
       "      <th>Test_score</th>\n",
       "    </tr>\n",
       "  </thead>\n",
       "  <tbody>\n",
       "    <tr>\n",
       "      <th>0</th>\n",
       "      <td>undersampling</td>\n",
       "      <td>0.754758</td>\n",
       "      <td>0.69382</td>\n",
       "    </tr>\n",
       "    <tr>\n",
       "      <th>1</th>\n",
       "      <td>balanced</td>\n",
       "      <td>0.756565</td>\n",
       "      <td>0.69382</td>\n",
       "    </tr>\n",
       "  </tbody>\n",
       "</table>\n",
       "</div>"
      ],
      "text/plain": [
       "           Model  Train_score  Test_score\n",
       "0  undersampling     0.754758     0.69382\n",
       "1       balanced     0.756565     0.69382"
      ]
     },
     "execution_count": 59,
     "metadata": {},
     "output_type": "execute_result"
    }
   ],
   "source": [
    "comp_model"
   ]
  },
  {
   "cell_type": "markdown",
   "metadata": {},
   "source": [
    "!python -m pip install -U hyperopt"
   ]
  },
  {
   "cell_type": "code",
   "execution_count": 82,
   "metadata": {},
   "outputs": [],
   "source": [
    "from sklearn.metrics import confusion_matrix\n",
    "\n",
    "\n",
    "def performance_measure(y_actual, y_pred,data,name_col):\n",
    "    TP = 0\n",
    "    FP = 0\n",
    "    TN = 0\n",
    "    FN = 0\n",
    "    list_resultat=[]\n",
    "    #Etape 1 : identifier qui est qui ? \n",
    "    tn, fp, fn, tp = confusion_matrix(y_actual, y_pred).ravel()\n",
    "    for i in range(len(y_pred)): \n",
    "        if y_actual[i] == y_pred[i]==1:\n",
    "            TP += 1\n",
    "            list_resultat.append('TP')\n",
    "        if y_pred[i] == 1 and y_actual[i] == 0:\n",
    "            FP += 1\n",
    "            list_resultat.append('FP')\n",
    "        if y_pred[i] == y_actual[i] == 0:\n",
    "            TN +=1\n",
    "            list_resultat.append('TN')\n",
    "        if y_pred[i] == 0 and y_actual[i] == 1:\n",
    "            FN +=1\n",
    "            list_resultat.append('FN')\n",
    "    \n",
    "    #Etape 2 : transformer les types avec les coeff associés \n",
    "    df=pd.DataFrame(data=data,columns=name_col)\n",
    "    df['type_matrix']=list_resultat\n",
    "    df.loc[df['type_matrix']=='TP','AMT_CREDIT']=df.loc[df['type_matrix']=='TP','AMT_CREDIT']*0\n",
    "    df.loc[df['type_matrix']=='FP','AMT_CREDIT']=df.loc[df['type_matrix']=='FP','AMT_CREDIT']*0\n",
    "    df.loc[df['type_matrix']=='TN','AMT_CREDIT']=df.loc[df['type_matrix']=='TN','AMT_CREDIT']*0.02\n",
    "    df.loc[df['type_matrix']=='FN','AMT_CREDIT']=df.loc[df['type_matrix']=='FN','AMT_CREDIT']*(-0.8)\n",
    "    \n",
    "    #Etape 3 : Les formules \n",
    "    total_TP=df.loc[df['type_matrix']=='TP','AMT_CREDIT'].sum()\n",
    "    total_FP=df.loc[df['type_matrix']=='FP','AMT_CREDIT'].sum()\n",
    "    total_TN=df.loc[df['type_matrix']=='TN','AMT_CREDIT'].sum()\n",
    "    total_FN=df.loc[df['type_matrix']=='FN','AMT_CREDIT'].sum()\n",
    "    \n",
    "    gain=total_TP+total_FP+total_TN+total_FN\n",
    "    \n",
    "    \n",
    "    max_gain=total_TN + total_TP\n",
    "    baseline = total_TN + total_FN\n",
    "    score = (gain - baseline) / (max_gain - baseline)\n",
    "    #Verif pour les tests\n",
    "    #print('Valeurs lib:')\n",
    "    #print('TN:',tn)\n",
    "    #print('FP:',fp)\n",
    "    #print('FN:',fn)\n",
    "    #print('TP:',tp)\n",
    "    #print('-----------')\n",
    "    #print('Valeurs Man:')\n",
    "    #print('TN:',TN)\n",
    "    #print('FP:',FP)\n",
    "    #print('FN:',FN)\n",
    "    #print('TP:',TP)\n",
    "    return score"
   ]
  },
  {
   "cell_type": "code",
   "execution_count": 83,
   "metadata": {},
   "outputs": [],
   "source": [
    "from functools import partial\n",
    "\n",
    "from sklearn import ensemble\n",
    "from sklearn import metrics\n",
    "from sklearn import model_selection\n",
    "\n",
    "from imblearn.over_sampling import SMOTE\n",
    "\n",
    "from hyperopt import hp,fmin,tpe,Trials\n",
    "from hyperopt.pyll.base import scope\n",
    "\n",
    "col_name=app_train_domain.drop('TARGET', 1).columns\n",
    "x=app_train_domain.drop('TARGET', 1).values\n",
    "y=app_train_domain['TARGET'].values\n",
    "\n",
    "def optimize_baye(params,x,y,col):\n",
    "\n",
    "\n",
    "    model=LGBMClassifier(**params)\n",
    "    #initialize stratifield k-fold\n",
    "    kf=model_selection.StratifiedKFold(n_splits=5)\n",
    "\n",
    "    print(params)\n",
    "    metric_perso=[]\n",
    "    for fold,idx in enumerate (kf.split(X=x,y=y),1):\n",
    "\n",
    "    #for idx in kf.split(X=x,y=y):\n",
    "\n",
    "        train_idx,test_idx=idx[0],idx[1]\n",
    "\n",
    "\n",
    "        X_train=x[train_idx]\n",
    "        y_train=y[train_idx]\n",
    "\n",
    "        X_val=x[test_idx]\n",
    "        y_val=y[test_idx]\n",
    "\n",
    "\n",
    "        sm=SMOTE()\n",
    "        X_train_oversampled,y_train_oversampled=sm.fit_sample(X_train,y_train)\n",
    "\n",
    "\n",
    "        model.fit(X_train_oversampled,y_train_oversampled)\n",
    "        preds=model.predict(X_val)\n",
    "        #fold_acc=metrics.accuracy_score(ytests,preds)\n",
    "        fold_perso=performance_measure(y_val,preds,X_val,col)\n",
    "        #fold_auc=metrics.roc_auc_score(y_val,preds)\n",
    "        metric_perso.append(fold_perso)\n",
    "        print(-1*np.mean(metric_perso))\n",
    "        #print(f'For fold {fold}:')\n",
    "        #print(f'AUC :{model.score(X_val,y_val)}')\n",
    "    return (-1*np.mean(metric_perso))"
   ]
  },
  {
   "cell_type": "code",
   "execution_count": 75,
   "metadata": {},
   "outputs": [
    {
     "data": {
      "text/plain": [
       "Index(['SK_ID_CURR', 'NAME_CONTRACT_TYPE', 'FLAG_OWN_CAR', 'FLAG_OWN_REALTY',\n",
       "       'CNT_CHILDREN', 'AMT_INCOME_TOTAL', 'AMT_CREDIT', 'AMT_ANNUITY',\n",
       "       'AMT_GOODS_PRICE', 'REGION_POPULATION_RELATIVE',\n",
       "       ...\n",
       "       'WALLSMATERIAL_MODE_Panel', 'WALLSMATERIAL_MODE_Stone, brick',\n",
       "       'WALLSMATERIAL_MODE_Wooden', 'EMERGENCYSTATE_MODE_No',\n",
       "       'EMERGENCYSTATE_MODE_Yes', 'DAYS_EMPLOYED_ANOM',\n",
       "       'CREDIT_INCOME_PERCENT', 'ANNUITY_INCOME_PERCENT', 'CREDIT_TERM',\n",
       "       'DAYS_EMPLOYED_PERCENT'],\n",
       "      dtype='object', length=244)"
      ]
     },
     "execution_count": 75,
     "metadata": {},
     "output_type": "execute_result"
    }
   ],
   "source": [
    "col_name=app_train_domain.drop('TARGET', 1).columns\n",
    "col_name"
   ]
  },
  {
   "cell_type": "code",
   "execution_count": 76,
   "metadata": {},
   "outputs": [
    {
     "data": {
      "text/html": [
       "<div>\n",
       "<style scoped>\n",
       "    .dataframe tbody tr th:only-of-type {\n",
       "        vertical-align: middle;\n",
       "    }\n",
       "\n",
       "    .dataframe tbody tr th {\n",
       "        vertical-align: top;\n",
       "    }\n",
       "\n",
       "    .dataframe thead th {\n",
       "        text-align: right;\n",
       "    }\n",
       "</style>\n",
       "<table border=\"1\" class=\"dataframe\">\n",
       "  <thead>\n",
       "    <tr style=\"text-align: right;\">\n",
       "      <th></th>\n",
       "      <th>SK_ID_CURR</th>\n",
       "      <th>NAME_CONTRACT_TYPE</th>\n",
       "      <th>FLAG_OWN_CAR</th>\n",
       "      <th>FLAG_OWN_REALTY</th>\n",
       "      <th>CNT_CHILDREN</th>\n",
       "      <th>AMT_INCOME_TOTAL</th>\n",
       "      <th>AMT_CREDIT</th>\n",
       "      <th>AMT_ANNUITY</th>\n",
       "      <th>AMT_GOODS_PRICE</th>\n",
       "      <th>REGION_POPULATION_RELATIVE</th>\n",
       "      <th>...</th>\n",
       "      <th>WALLSMATERIAL_MODE_Panel</th>\n",
       "      <th>WALLSMATERIAL_MODE_Stone, brick</th>\n",
       "      <th>WALLSMATERIAL_MODE_Wooden</th>\n",
       "      <th>EMERGENCYSTATE_MODE_No</th>\n",
       "      <th>EMERGENCYSTATE_MODE_Yes</th>\n",
       "      <th>DAYS_EMPLOYED_ANOM</th>\n",
       "      <th>CREDIT_INCOME_PERCENT</th>\n",
       "      <th>ANNUITY_INCOME_PERCENT</th>\n",
       "      <th>CREDIT_TERM</th>\n",
       "      <th>DAYS_EMPLOYED_PERCENT</th>\n",
       "    </tr>\n",
       "  </thead>\n",
       "  <tbody>\n",
       "    <tr>\n",
       "      <th>0</th>\n",
       "      <td>100002.0</td>\n",
       "      <td>0.0</td>\n",
       "      <td>0.0</td>\n",
       "      <td>1.0</td>\n",
       "      <td>0.0</td>\n",
       "      <td>202500.0</td>\n",
       "      <td>406597.5</td>\n",
       "      <td>24700.5</td>\n",
       "      <td>351000.0</td>\n",
       "      <td>0.018801</td>\n",
       "      <td>...</td>\n",
       "      <td>0.0</td>\n",
       "      <td>1.0</td>\n",
       "      <td>0.0</td>\n",
       "      <td>1.0</td>\n",
       "      <td>0.0</td>\n",
       "      <td>0.0</td>\n",
       "      <td>2.007889</td>\n",
       "      <td>0.121978</td>\n",
       "      <td>0.060749</td>\n",
       "      <td>-0.067329</td>\n",
       "    </tr>\n",
       "    <tr>\n",
       "      <th>1</th>\n",
       "      <td>100003.0</td>\n",
       "      <td>0.0</td>\n",
       "      <td>0.0</td>\n",
       "      <td>0.0</td>\n",
       "      <td>0.0</td>\n",
       "      <td>270000.0</td>\n",
       "      <td>1293502.5</td>\n",
       "      <td>35698.5</td>\n",
       "      <td>1129500.0</td>\n",
       "      <td>0.003541</td>\n",
       "      <td>...</td>\n",
       "      <td>0.0</td>\n",
       "      <td>0.0</td>\n",
       "      <td>0.0</td>\n",
       "      <td>1.0</td>\n",
       "      <td>0.0</td>\n",
       "      <td>0.0</td>\n",
       "      <td>4.790750</td>\n",
       "      <td>0.132217</td>\n",
       "      <td>0.027598</td>\n",
       "      <td>-0.070862</td>\n",
       "    </tr>\n",
       "    <tr>\n",
       "      <th>2</th>\n",
       "      <td>100004.0</td>\n",
       "      <td>1.0</td>\n",
       "      <td>1.0</td>\n",
       "      <td>1.0</td>\n",
       "      <td>0.0</td>\n",
       "      <td>67500.0</td>\n",
       "      <td>135000.0</td>\n",
       "      <td>6750.0</td>\n",
       "      <td>135000.0</td>\n",
       "      <td>0.010032</td>\n",
       "      <td>...</td>\n",
       "      <td>0.0</td>\n",
       "      <td>0.0</td>\n",
       "      <td>0.0</td>\n",
       "      <td>0.0</td>\n",
       "      <td>0.0</td>\n",
       "      <td>0.0</td>\n",
       "      <td>2.000000</td>\n",
       "      <td>0.100000</td>\n",
       "      <td>0.050000</td>\n",
       "      <td>-0.011814</td>\n",
       "    </tr>\n",
       "    <tr>\n",
       "      <th>3</th>\n",
       "      <td>100006.0</td>\n",
       "      <td>0.0</td>\n",
       "      <td>0.0</td>\n",
       "      <td>1.0</td>\n",
       "      <td>0.0</td>\n",
       "      <td>135000.0</td>\n",
       "      <td>312682.5</td>\n",
       "      <td>29686.5</td>\n",
       "      <td>297000.0</td>\n",
       "      <td>0.008019</td>\n",
       "      <td>...</td>\n",
       "      <td>0.0</td>\n",
       "      <td>0.0</td>\n",
       "      <td>0.0</td>\n",
       "      <td>0.0</td>\n",
       "      <td>0.0</td>\n",
       "      <td>0.0</td>\n",
       "      <td>2.316167</td>\n",
       "      <td>0.219900</td>\n",
       "      <td>0.094941</td>\n",
       "      <td>-0.159905</td>\n",
       "    </tr>\n",
       "    <tr>\n",
       "      <th>4</th>\n",
       "      <td>100007.0</td>\n",
       "      <td>0.0</td>\n",
       "      <td>0.0</td>\n",
       "      <td>1.0</td>\n",
       "      <td>0.0</td>\n",
       "      <td>121500.0</td>\n",
       "      <td>513000.0</td>\n",
       "      <td>21865.5</td>\n",
       "      <td>513000.0</td>\n",
       "      <td>0.028663</td>\n",
       "      <td>...</td>\n",
       "      <td>0.0</td>\n",
       "      <td>0.0</td>\n",
       "      <td>0.0</td>\n",
       "      <td>0.0</td>\n",
       "      <td>0.0</td>\n",
       "      <td>0.0</td>\n",
       "      <td>4.222222</td>\n",
       "      <td>0.179963</td>\n",
       "      <td>0.042623</td>\n",
       "      <td>-0.152418</td>\n",
       "    </tr>\n",
       "    <tr>\n",
       "      <th>...</th>\n",
       "      <td>...</td>\n",
       "      <td>...</td>\n",
       "      <td>...</td>\n",
       "      <td>...</td>\n",
       "      <td>...</td>\n",
       "      <td>...</td>\n",
       "      <td>...</td>\n",
       "      <td>...</td>\n",
       "      <td>...</td>\n",
       "      <td>...</td>\n",
       "      <td>...</td>\n",
       "      <td>...</td>\n",
       "      <td>...</td>\n",
       "      <td>...</td>\n",
       "      <td>...</td>\n",
       "      <td>...</td>\n",
       "      <td>...</td>\n",
       "      <td>...</td>\n",
       "      <td>...</td>\n",
       "      <td>...</td>\n",
       "      <td>...</td>\n",
       "    </tr>\n",
       "    <tr>\n",
       "      <th>307506</th>\n",
       "      <td>456251.0</td>\n",
       "      <td>0.0</td>\n",
       "      <td>0.0</td>\n",
       "      <td>0.0</td>\n",
       "      <td>0.0</td>\n",
       "      <td>157500.0</td>\n",
       "      <td>254700.0</td>\n",
       "      <td>27558.0</td>\n",
       "      <td>225000.0</td>\n",
       "      <td>0.032561</td>\n",
       "      <td>...</td>\n",
       "      <td>0.0</td>\n",
       "      <td>1.0</td>\n",
       "      <td>0.0</td>\n",
       "      <td>1.0</td>\n",
       "      <td>0.0</td>\n",
       "      <td>0.0</td>\n",
       "      <td>1.617143</td>\n",
       "      <td>0.174971</td>\n",
       "      <td>0.108198</td>\n",
       "      <td>-0.025303</td>\n",
       "    </tr>\n",
       "    <tr>\n",
       "      <th>307507</th>\n",
       "      <td>456252.0</td>\n",
       "      <td>0.0</td>\n",
       "      <td>0.0</td>\n",
       "      <td>1.0</td>\n",
       "      <td>0.0</td>\n",
       "      <td>72000.0</td>\n",
       "      <td>269550.0</td>\n",
       "      <td>12001.5</td>\n",
       "      <td>225000.0</td>\n",
       "      <td>0.025164</td>\n",
       "      <td>...</td>\n",
       "      <td>0.0</td>\n",
       "      <td>1.0</td>\n",
       "      <td>0.0</td>\n",
       "      <td>1.0</td>\n",
       "      <td>0.0</td>\n",
       "      <td>1.0</td>\n",
       "      <td>3.743750</td>\n",
       "      <td>0.166687</td>\n",
       "      <td>0.044524</td>\n",
       "      <td>-0.079326</td>\n",
       "    </tr>\n",
       "    <tr>\n",
       "      <th>307508</th>\n",
       "      <td>456253.0</td>\n",
       "      <td>0.0</td>\n",
       "      <td>0.0</td>\n",
       "      <td>1.0</td>\n",
       "      <td>0.0</td>\n",
       "      <td>153000.0</td>\n",
       "      <td>677664.0</td>\n",
       "      <td>29979.0</td>\n",
       "      <td>585000.0</td>\n",
       "      <td>0.005002</td>\n",
       "      <td>...</td>\n",
       "      <td>1.0</td>\n",
       "      <td>0.0</td>\n",
       "      <td>0.0</td>\n",
       "      <td>1.0</td>\n",
       "      <td>0.0</td>\n",
       "      <td>0.0</td>\n",
       "      <td>4.429176</td>\n",
       "      <td>0.195941</td>\n",
       "      <td>0.044239</td>\n",
       "      <td>-0.529266</td>\n",
       "    </tr>\n",
       "    <tr>\n",
       "      <th>307509</th>\n",
       "      <td>456254.0</td>\n",
       "      <td>0.0</td>\n",
       "      <td>0.0</td>\n",
       "      <td>1.0</td>\n",
       "      <td>0.0</td>\n",
       "      <td>171000.0</td>\n",
       "      <td>370107.0</td>\n",
       "      <td>20205.0</td>\n",
       "      <td>319500.0</td>\n",
       "      <td>0.005313</td>\n",
       "      <td>...</td>\n",
       "      <td>0.0</td>\n",
       "      <td>1.0</td>\n",
       "      <td>0.0</td>\n",
       "      <td>1.0</td>\n",
       "      <td>0.0</td>\n",
       "      <td>0.0</td>\n",
       "      <td>2.164368</td>\n",
       "      <td>0.118158</td>\n",
       "      <td>0.054592</td>\n",
       "      <td>-0.400134</td>\n",
       "    </tr>\n",
       "    <tr>\n",
       "      <th>307510</th>\n",
       "      <td>456255.0</td>\n",
       "      <td>0.0</td>\n",
       "      <td>0.0</td>\n",
       "      <td>0.0</td>\n",
       "      <td>0.0</td>\n",
       "      <td>157500.0</td>\n",
       "      <td>675000.0</td>\n",
       "      <td>49117.5</td>\n",
       "      <td>675000.0</td>\n",
       "      <td>0.046220</td>\n",
       "      <td>...</td>\n",
       "      <td>1.0</td>\n",
       "      <td>0.0</td>\n",
       "      <td>0.0</td>\n",
       "      <td>1.0</td>\n",
       "      <td>0.0</td>\n",
       "      <td>0.0</td>\n",
       "      <td>4.285714</td>\n",
       "      <td>0.311857</td>\n",
       "      <td>0.072767</td>\n",
       "      <td>-0.074869</td>\n",
       "    </tr>\n",
       "  </tbody>\n",
       "</table>\n",
       "<p>307511 rows × 244 columns</p>\n",
       "</div>"
      ],
      "text/plain": [
       "        SK_ID_CURR  NAME_CONTRACT_TYPE  FLAG_OWN_CAR  FLAG_OWN_REALTY  \\\n",
       "0         100002.0                 0.0           0.0              1.0   \n",
       "1         100003.0                 0.0           0.0              0.0   \n",
       "2         100004.0                 1.0           1.0              1.0   \n",
       "3         100006.0                 0.0           0.0              1.0   \n",
       "4         100007.0                 0.0           0.0              1.0   \n",
       "...            ...                 ...           ...              ...   \n",
       "307506    456251.0                 0.0           0.0              0.0   \n",
       "307507    456252.0                 0.0           0.0              1.0   \n",
       "307508    456253.0                 0.0           0.0              1.0   \n",
       "307509    456254.0                 0.0           0.0              1.0   \n",
       "307510    456255.0                 0.0           0.0              0.0   \n",
       "\n",
       "        CNT_CHILDREN  AMT_INCOME_TOTAL  AMT_CREDIT  AMT_ANNUITY  \\\n",
       "0                0.0          202500.0    406597.5      24700.5   \n",
       "1                0.0          270000.0   1293502.5      35698.5   \n",
       "2                0.0           67500.0    135000.0       6750.0   \n",
       "3                0.0          135000.0    312682.5      29686.5   \n",
       "4                0.0          121500.0    513000.0      21865.5   \n",
       "...              ...               ...         ...          ...   \n",
       "307506           0.0          157500.0    254700.0      27558.0   \n",
       "307507           0.0           72000.0    269550.0      12001.5   \n",
       "307508           0.0          153000.0    677664.0      29979.0   \n",
       "307509           0.0          171000.0    370107.0      20205.0   \n",
       "307510           0.0          157500.0    675000.0      49117.5   \n",
       "\n",
       "        AMT_GOODS_PRICE  REGION_POPULATION_RELATIVE  ...  \\\n",
       "0              351000.0                    0.018801  ...   \n",
       "1             1129500.0                    0.003541  ...   \n",
       "2              135000.0                    0.010032  ...   \n",
       "3              297000.0                    0.008019  ...   \n",
       "4              513000.0                    0.028663  ...   \n",
       "...                 ...                         ...  ...   \n",
       "307506         225000.0                    0.032561  ...   \n",
       "307507         225000.0                    0.025164  ...   \n",
       "307508         585000.0                    0.005002  ...   \n",
       "307509         319500.0                    0.005313  ...   \n",
       "307510         675000.0                    0.046220  ...   \n",
       "\n",
       "        WALLSMATERIAL_MODE_Panel  WALLSMATERIAL_MODE_Stone, brick  \\\n",
       "0                            0.0                              1.0   \n",
       "1                            0.0                              0.0   \n",
       "2                            0.0                              0.0   \n",
       "3                            0.0                              0.0   \n",
       "4                            0.0                              0.0   \n",
       "...                          ...                              ...   \n",
       "307506                       0.0                              1.0   \n",
       "307507                       0.0                              1.0   \n",
       "307508                       1.0                              0.0   \n",
       "307509                       0.0                              1.0   \n",
       "307510                       1.0                              0.0   \n",
       "\n",
       "        WALLSMATERIAL_MODE_Wooden  EMERGENCYSTATE_MODE_No  \\\n",
       "0                             0.0                     1.0   \n",
       "1                             0.0                     1.0   \n",
       "2                             0.0                     0.0   \n",
       "3                             0.0                     0.0   \n",
       "4                             0.0                     0.0   \n",
       "...                           ...                     ...   \n",
       "307506                        0.0                     1.0   \n",
       "307507                        0.0                     1.0   \n",
       "307508                        0.0                     1.0   \n",
       "307509                        0.0                     1.0   \n",
       "307510                        0.0                     1.0   \n",
       "\n",
       "        EMERGENCYSTATE_MODE_Yes  DAYS_EMPLOYED_ANOM  CREDIT_INCOME_PERCENT  \\\n",
       "0                           0.0                 0.0               2.007889   \n",
       "1                           0.0                 0.0               4.790750   \n",
       "2                           0.0                 0.0               2.000000   \n",
       "3                           0.0                 0.0               2.316167   \n",
       "4                           0.0                 0.0               4.222222   \n",
       "...                         ...                 ...                    ...   \n",
       "307506                      0.0                 0.0               1.617143   \n",
       "307507                      0.0                 1.0               3.743750   \n",
       "307508                      0.0                 0.0               4.429176   \n",
       "307509                      0.0                 0.0               2.164368   \n",
       "307510                      0.0                 0.0               4.285714   \n",
       "\n",
       "        ANNUITY_INCOME_PERCENT  CREDIT_TERM  DAYS_EMPLOYED_PERCENT  \n",
       "0                     0.121978     0.060749              -0.067329  \n",
       "1                     0.132217     0.027598              -0.070862  \n",
       "2                     0.100000     0.050000              -0.011814  \n",
       "3                     0.219900     0.094941              -0.159905  \n",
       "4                     0.179963     0.042623              -0.152418  \n",
       "...                        ...          ...                    ...  \n",
       "307506                0.174971     0.108198              -0.025303  \n",
       "307507                0.166687     0.044524              -0.079326  \n",
       "307508                0.195941     0.044239              -0.529266  \n",
       "307509                0.118158     0.054592              -0.400134  \n",
       "307510                0.311857     0.072767              -0.074869  \n",
       "\n",
       "[307511 rows x 244 columns]"
      ]
     },
     "execution_count": 76,
     "metadata": {},
     "output_type": "execute_result"
    }
   ],
   "source": [
    "x=app_train_domain.drop('TARGET', 1).values\n",
    "test=pd.DataFrame(data=x,columns=col_name)\n",
    "test"
   ]
  },
  {
   "cell_type": "code",
   "execution_count": 84,
   "metadata": {},
   "outputs": [],
   "source": [
    "\n",
    "param_space={\n",
    "    #Choice a chooses from a list of values \n",
    "    'learning_rate':    hp.choice('learning_rate',    np.arange(0.05, 0.31, 0.05)),\n",
    "    'max_depth':        hp.choice('max_depth',        np.arange(5, 16, 1, dtype=int)),\n",
    "    'min_child_weight': hp.choice('min_child_weight', np.arange(1, 8, 1, dtype=int)),\n",
    "    'colsample_bytree': hp.choice('colsample_bytree', np.arange(0.3, 0.8, 0.1)),\n",
    "    #uniform chooses a value between two values \n",
    "    'subsample':        hp.uniform('subsample', 0.8, 1),\n",
    "    'n_estimators':     hp.choice('n_estimators',np.arange(100, 1000, 10, dtype=int)),\n",
    "}"
   ]
  },
  {
   "cell_type": "code",
   "execution_count": 85,
   "metadata": {},
   "outputs": [],
   "source": [
    "#partial function \n",
    "optimization_function=partial(\n",
    "    optimize_baye,\n",
    "    x=x,\n",
    "    y=y,\n",
    "    col=col_name\n",
    ")\n",
    "\n",
    "#initialize trials to keep logging information \n",
    "trials=Trials()"
   ]
  },
  {
   "cell_type": "code",
   "execution_count": null,
   "metadata": {},
   "outputs": [
    {
     "name": "stdout",
     "output_type": "stream",
     "text": [
      "{'colsample_bytree': 0.6000000000000001, 'learning_rate': 0.15000000000000002, 'max_depth': 14, 'min_child_weight': 1, 'n_estimators': 120, 'subsample': 0.9030961354986498}\n",
      "[LightGBM] [Warning]                                  \n",
      "Accuracy may be bad since you didn't set num_leaves and 2^max_depth > num_leaves\n",
      "Valeurs lib:                                          \n",
      "TN:                                                   \n",
      "56467                                                 \n",
      "FP:                                                   \n",
      "71                                                    \n",
      "FN:                                                   \n",
      "4865                                                  \n",
      "TP:                                                   \n",
      "100                                                   \n",
      "-----------                                           \n",
      "Valeurs Man:                                          \n",
      "TN:                                                   \n",
      "56467                                                 \n",
      "FP:                                                   \n",
      "71                                                    \n",
      "FN:                                                   \n",
      "4865                                                  \n",
      "TP:                                                   \n",
      "100                                                   \n",
      "[LightGBM] [Warning]                                  \n",
      "Accuracy may be bad since you didn't set num_leaves and 2^max_depth > num_leaves\n",
      "Valeurs lib:                                          \n",
      "TN:                                                   \n",
      "56406                                                 \n",
      "FP:                                                   \n",
      "131                                                   \n",
      "FN:                                                   \n",
      "4823                                                  \n",
      "TP:                                                   \n",
      "142                                                   \n",
      "-----------                                           \n",
      "Valeurs Man:                                          \n",
      "TN:                                                   \n",
      "56406                                                 \n",
      "FP:                                                   \n",
      "131                                                   \n",
      "FN:                                                   \n",
      "4823                                                  \n",
      "TP:                                                   \n",
      "142                                                   \n",
      "[LightGBM] [Warning]                                  \n",
      "Accuracy may be bad since you didn't set num_leaves and 2^max_depth > num_leaves\n",
      "Valeurs lib:                                          \n",
      "TN:                                                   \n",
      "56425                                                 \n",
      "FP:                                                   \n",
      "112                                                   \n",
      "FN:                                                   \n",
      "4859                                                  \n",
      "TP:                                                   \n",
      "106                                                   \n",
      "-----------                                           \n",
      "Valeurs Man:                                          \n",
      "TN:                                                   \n",
      "56425                                                 \n",
      "FP:                                                   \n",
      "112                                                   \n",
      "FN:                                                   \n",
      "4859                                                  \n",
      "TP:                                                   \n",
      "106                                                   \n",
      "[LightGBM] [Warning]                                  \n",
      "Accuracy may be bad since you didn't set num_leaves and 2^max_depth > num_leaves\n",
      "Valeurs lib:                                          \n",
      "TN:                                                   \n",
      "56423                                                 \n",
      "FP:                                                   \n",
      "114                                                   \n",
      "FN:                                                   \n",
      "4836                                                  \n",
      "TP:                                                   \n",
      "129                                                   \n",
      "-----------                                           \n",
      "Valeurs Man:                                          \n",
      "TN:                                                   \n",
      "56423                                                 \n",
      "FP:                                                   \n",
      "114                                                   \n",
      "FN:                                                   \n",
      "4836                                                  \n",
      "TP:                                                   \n",
      "129                                                   \n",
      "[LightGBM] [Warning]                                  \n",
      "Accuracy may be bad since you didn't set num_leaves and 2^max_depth > num_leaves\n",
      "Valeurs lib:                                          \n",
      "TN:                                                   \n",
      "56523                                                 \n",
      "FP:                                                   \n",
      "14                                                    \n",
      "FN:                                                   \n",
      "4944                                                  \n",
      "TP:                                                   \n",
      "21                                                    \n",
      "-----------                                           \n",
      "Valeurs Man:                                          \n",
      "TN:                                                   \n",
      "56523                                                 \n",
      "FP:                                                   \n",
      "14                                                    \n",
      "FN:                                                   \n",
      "4944                                                  \n",
      "TP:                                                   \n",
      "21                                                    \n",
      "{'colsample_bytree': 0.6000000000000001, 'learning_rate': 0.3, 'max_depth': 6, 'min_child_weight': 3, 'n_estimators': 700, 'subsample': 0.9362719950605138}\n",
      "[LightGBM] [Warning]                                              \n",
      "Accuracy may be bad since you didn't set num_leaves and 2^max_depth > num_leaves\n",
      "Valeurs lib:                                                      \n",
      "TN:                                                               \n",
      "56152                                                             \n",
      "FP:                                                               \n",
      "386                                                               \n",
      "FN:                                                               \n",
      "4734                                                              \n",
      "TP:                                                               \n",
      "231                                                               \n",
      "-----------                                                       \n",
      "Valeurs Man:                                                      \n",
      "TN:                                                               \n",
      "56152                                                             \n",
      "FP:                                                               \n",
      "386                                                               \n",
      "FN:                                                               \n",
      "4734                                                              \n",
      "TP:                                                               \n",
      "231                                                               \n",
      "[LightGBM] [Warning]                                              \n",
      "Accuracy may be bad since you didn't set num_leaves and 2^max_depth > num_leaves\n",
      "Valeurs lib:                                                      \n",
      "TN:                                                               \n",
      "54354                                                             \n",
      "FP:                                                               \n",
      "2183                                                              \n",
      "FN:                                                               \n",
      "4039                                                              \n",
      "TP:                                                               \n",
      "926                                                               \n",
      "-----------                                                       \n",
      "Valeurs Man:                                                      \n",
      "TN:                                                               \n",
      "54354                                                             \n",
      "FP:                                                               \n",
      "2183                                                              \n",
      "FN:                                                               \n",
      "4039                                                              \n",
      "TP:                                                               \n",
      "926                                                               \n",
      "[LightGBM] [Warning]                                              \n",
      "Accuracy may be bad since you didn't set num_leaves and 2^max_depth > num_leaves\n",
      "Valeurs lib:                                                      \n",
      "TN:                                                               \n",
      "56105                                                             \n",
      "FP:                                                               \n",
      "432                                                               \n",
      "FN:                                                               \n",
      "4707                                                              \n",
      "TP:                                                               \n",
      "258                                                               \n",
      "-----------                                                       \n",
      "Valeurs Man:                                                      \n",
      "TN:                                                               \n",
      "56105                                                             \n",
      "FP:                                                               \n",
      "432                                                               \n",
      "FN:                                                               \n",
      "4707                                                              \n",
      "TP:                                                               \n",
      "258                                                               \n",
      "[LightGBM] [Warning]                                              \n",
      "Accuracy may be bad since you didn't set num_leaves and 2^max_depth > num_leaves\n",
      "Valeurs lib:                                                      \n",
      "TN:                                                               \n",
      "56162                                                             \n",
      "FP:                                                               \n",
      "375                                                               \n",
      "FN:                                                               \n",
      "4739                                                              \n",
      "TP:                                                               \n",
      "226                                                               \n",
      "-----------                                                       \n",
      "Valeurs Man:                                                      \n",
      "TN:                                                               \n",
      "56162                                                             \n",
      "FP:                                                               \n",
      "375                                                               \n",
      "FN:                                                               \n",
      "4739                                                              \n",
      "TP:                                                               \n",
      "226                                                               \n",
      "[LightGBM] [Warning]                                              \n",
      "Accuracy may be bad since you didn't set num_leaves and 2^max_depth > num_leaves\n",
      "Valeurs lib:                                                      \n",
      "TN:                                                               \n",
      "56324                                                             \n",
      "FP:                                                               \n",
      "213                                                               \n",
      "FN:                                                               \n",
      "4867                                                              \n",
      "TP:                                                               \n",
      "98                                                                \n",
      "-----------                                                       \n",
      "Valeurs Man:                                                      \n",
      "TN:                                                               \n",
      "56324                                                             \n",
      "FP:                                                               \n",
      "213                                                               \n",
      "FN:                                                               \n",
      "4867                                                              \n",
      "TP:                                                               \n",
      "98                                                                \n",
      "{'colsample_bytree': 0.6000000000000001, 'learning_rate': 0.15000000000000002, 'max_depth': 8, 'min_child_weight': 4, 'n_estimators': 590, 'subsample': 0.9627989363974848}\n",
      "[LightGBM] [Warning]                                               \n",
      "Accuracy may be bad since you didn't set num_leaves and 2^max_depth > num_leaves\n",
      "Valeurs lib:                                                       \n",
      "TN:                                                                \n",
      "56399                                                              \n",
      "FP:                                                                \n",
      "139                                                                \n",
      "FN:                                                                \n",
      "4812                                                               \n",
      "TP:                                                                \n",
      "153                                                                \n",
      "-----------                                                        \n",
      "Valeurs Man:                                                       \n",
      "TN:                                                                \n",
      "56399                                                              \n",
      "FP:                                                                \n",
      "139                                                                \n",
      "FN:                                                                \n",
      "4812                                                               \n",
      "TP:                                                                \n",
      "153                                                                \n",
      "[LightGBM] [Warning]                                               \n",
      "Accuracy may be bad since you didn't set num_leaves and 2^max_depth > num_leaves\n",
      "Valeurs lib:                                                       \n",
      "TN:                                                                \n",
      "55842                                                              \n",
      "FP:                                                                \n",
      "695                                                                \n",
      "FN:                                                                \n",
      "4495                                                               \n",
      "TP:                                                                \n",
      "470                                                                \n",
      "-----------                                                        \n",
      "Valeurs Man:                                                       \n",
      "TN:                                                                \n",
      "55842                                                              \n",
      "FP:                                                                \n",
      "695                                                                \n",
      "FN:                                                                \n",
      "4495                                                               \n",
      "TP:                                                                \n"
     ]
    },
    {
     "name": "stdout",
     "output_type": "stream",
     "text": [
      "470                                                                \n",
      "[LightGBM] [Warning]                                               \n",
      "Accuracy may be bad since you didn't set num_leaves and 2^max_depth > num_leaves\n",
      "Valeurs lib:                                                       \n",
      "TN:                                                                \n",
      "56327                                                              \n",
      "FP:                                                                \n",
      "210                                                                \n",
      "FN:                                                                \n",
      "4786                                                               \n",
      "TP:                                                                \n",
      "179                                                                \n",
      "-----------                                                        \n",
      "Valeurs Man:                                                       \n",
      "TN:                                                                \n",
      "56327                                                              \n",
      "FP:                                                                \n",
      "210                                                                \n",
      "FN:                                                                \n",
      "4786                                                               \n",
      "TP:                                                                \n",
      "179                                                                \n",
      "[LightGBM] [Warning]                                               \n",
      "Accuracy may be bad since you didn't set num_leaves and 2^max_depth > num_leaves\n",
      "Valeurs lib:                                                       \n",
      "TN:                                                                \n",
      "56317                                                              \n",
      "FP:                                                                \n",
      "220                                                                \n",
      "FN:                                                                \n",
      "4783                                                               \n",
      "TP:                                                                \n",
      "182                                                                \n",
      "-----------                                                        \n",
      "Valeurs Man:                                                       \n",
      "TN:                                                                \n",
      "56317                                                              \n",
      "FP:                                                                \n",
      "220                                                                \n",
      "FN:                                                                \n",
      "4783                                                               \n",
      "TP:                                                                \n",
      "182                                                                \n",
      "[LightGBM] [Warning]                                               \n",
      "Accuracy may be bad since you didn't set num_leaves and 2^max_depth > num_leaves\n",
      "Valeurs lib:                                                       \n",
      "TN:                                                                \n",
      "56496                                                              \n",
      "FP:                                                                \n",
      "41                                                                 \n",
      "FN:                                                                \n",
      "4932                                                               \n",
      "TP:                                                                \n",
      "33                                                                 \n",
      "-----------                                                        \n",
      "Valeurs Man:                                                       \n",
      "TN:                                                                \n",
      "56496                                                              \n",
      "FP:                                                                \n",
      "41                                                                 \n",
      "FN:                                                                \n",
      "4932                                                               \n",
      "TP:                                                                \n",
      "33                                                                 \n",
      "{'colsample_bytree': 0.7000000000000002, 'learning_rate': 0.15000000000000002, 'max_depth': 13, 'min_child_weight': 3, 'n_estimators': 770, 'subsample': 0.9432369282371785}\n",
      "[LightGBM] [Warning]                                               \n",
      "Accuracy may be bad since you didn't set num_leaves and 2^max_depth > num_leaves\n",
      "Valeurs lib:                                                       \n",
      "TN:                                                                \n",
      "56365                                                              \n",
      "FP:                                                                \n",
      "173                                                                \n",
      "FN:                                                                \n",
      "4814                                                               \n",
      "TP:                                                                \n",
      "151                                                                \n",
      "-----------                                                        \n",
      "Valeurs Man:                                                       \n",
      "TN:                                                                \n",
      "56365                                                              \n",
      "FP:                                                                \n",
      "173                                                                \n",
      "FN:                                                                \n",
      "4814                                                               \n",
      "TP:                                                                \n",
      "151                                                                \n",
      "[LightGBM] [Warning]                                               \n",
      "Accuracy may be bad since you didn't set num_leaves and 2^max_depth > num_leaves\n",
      "Valeurs lib:                                                       \n",
      "TN:                                                                \n",
      "55480                                                              \n",
      "FP:                                                                \n",
      "1057                                                               \n",
      "FN:                                                                \n",
      "4350                                                               \n",
      "TP:                                                                \n",
      "615                                                                \n",
      "-----------                                                        \n",
      "Valeurs Man:                                                       \n",
      "TN:                                                                \n",
      "55480                                                              \n",
      "FP:                                                                \n",
      "1057                                                               \n",
      "FN:                                                                \n",
      "4350                                                               \n",
      "TP:                                                                \n",
      "615                                                                \n",
      "[LightGBM] [Warning]                                               \n",
      "Accuracy may be bad since you didn't set num_leaves and 2^max_depth > num_leaves\n",
      "Valeurs lib:                                                       \n",
      "TN:                                                                \n",
      "55912                                                              \n",
      "FP:                                                                \n",
      "625                                                                \n",
      "FN:                                                                \n",
      "4585                                                               \n",
      "TP:                                                                \n",
      "380                                                                \n",
      "-----------                                                        \n",
      "Valeurs Man:                                                       \n",
      "TN:                                                                \n",
      "55912                                                              \n",
      "FP:                                                                \n",
      "625                                                                \n",
      "FN:                                                                \n",
      "4585                                                               \n",
      "TP:                                                                \n",
      "380                                                                \n",
      "[LightGBM] [Warning]                                               \n",
      "Accuracy may be bad since you didn't set num_leaves and 2^max_depth > num_leaves\n",
      "Valeurs lib:                                                       \n",
      "TN:                                                                \n",
      "56312                                                              \n",
      "FP:                                                                \n",
      "225                                                                \n",
      "FN:                                                                \n",
      "4768                                                               \n",
      "TP:                                                                \n",
      "197                                                                \n",
      "-----------                                                        \n",
      "Valeurs Man:                                                       \n",
      "TN:                                                                \n",
      "56312                                                              \n",
      "FP:                                                                \n",
      "225                                                                \n",
      "FN:                                                                \n",
      "4768                                                               \n",
      "TP:                                                                \n",
      "197                                                                \n",
      "[LightGBM] [Warning]                                               \n",
      "Accuracy may be bad since you didn't set num_leaves and 2^max_depth > num_leaves\n",
      "Valeurs lib:                                                       \n",
      "TN:                                                                \n",
      "56481                                                              \n",
      "FP:                                                                \n",
      "56                                                                 \n",
      "FN:                                                                \n",
      "4920                                                               \n",
      "TP:                                                                \n",
      "45                                                                 \n",
      "-----------                                                        \n",
      "Valeurs Man:                                                       \n",
      "TN:                                                                \n",
      "56481                                                              \n",
      "FP:                                                                \n",
      "56                                                                 \n",
      "FN:                                                                \n",
      "4920                                                               \n",
      "TP:                                                                \n",
      "45                                                                 \n",
      "{'colsample_bytree': 0.4, 'learning_rate': 0.15000000000000002, 'max_depth': 10, 'min_child_weight': 1, 'n_estimators': 480, 'subsample': 0.8786372806255832}\n",
      "[LightGBM] [Warning]                                               \n",
      "Accuracy may be bad since you didn't set num_leaves and 2^max_depth > num_leaves\n",
      "Valeurs lib:                                                       \n",
      "TN:                                                                \n",
      "56394                                                              \n",
      "FP:                                                                \n",
      "144                                                                \n",
      "FN:                                                                \n",
      "4819                                                               \n",
      "TP:                                                                \n",
      "146                                                                \n",
      "-----------                                                        \n",
      "Valeurs Man:                                                       \n",
      "TN:                                                                \n",
      "56394                                                              \n",
      "FP:                                                                \n",
      "144                                                                \n",
      "FN:                                                                \n",
      "4819                                                               \n",
      "TP:                                                                \n",
      "146                                                                \n",
      "[LightGBM] [Warning]                                               \n",
      "Accuracy may be bad since you didn't set num_leaves and 2^max_depth > num_leaves\n",
      "Valeurs lib:                                                       \n",
      "TN:                                                                \n",
      "56102                                                              \n",
      "FP:                                                                \n",
      "435                                                                \n",
      "FN:                                                                \n",
      "4606                                                               \n",
      "TP:                                                                \n",
      "359                                                                \n",
      "-----------                                                        \n",
      "Valeurs Man:                                                       \n",
      "TN:                                                                \n",
      "56102                                                              \n",
      "FP:                                                                \n",
      "435                                                                \n",
      "FN:                                                                \n",
      "4606                                                               \n",
      "TP:                                                                \n",
      "359                                                                \n",
      "[LightGBM] [Warning]                                               \n",
      "Accuracy may be bad since you didn't set num_leaves and 2^max_depth > num_leaves\n",
      "Valeurs lib:                                                       \n",
      "TN:                                                                \n",
      "56366                                                              \n",
      "FP:                                                                \n",
      "171                                                                \n",
      "FN:                                                                \n",
      "4788                                                               \n",
      "TP:                                                                \n",
      "177                                                                \n",
      "-----------                                                        \n",
      "Valeurs Man:                                                       \n",
      "TN:                                                                \n",
      "56366                                                              \n",
      "FP:                                                                \n",
      "171                                                                \n",
      "FN:                                                                \n",
      "4788                                                               \n",
      "TP:                                                                \n",
      "177                                                                \n",
      "[LightGBM] [Warning]                                               \n"
     ]
    },
    {
     "name": "stdout",
     "output_type": "stream",
     "text": [
      "Accuracy may be bad since you didn't set num_leaves and 2^max_depth > num_leaves\n",
      "Valeurs lib:                                                       \n",
      "TN:                                                                \n",
      "56357                                                              \n",
      "FP:                                                                \n",
      "180                                                                \n",
      "FN:                                                                \n",
      "4773                                                               \n",
      "TP:                                                                \n",
      "192                                                                \n",
      "-----------                                                        \n",
      "Valeurs Man:                                                       \n",
      "TN:                                                                \n",
      "56357                                                              \n",
      "FP:                                                                \n",
      "180                                                                \n",
      "FN:                                                                \n",
      "4773                                                               \n",
      "TP:                                                                \n",
      "192                                                                \n",
      "[LightGBM] [Warning]                                               \n",
      "Accuracy may be bad since you didn't set num_leaves and 2^max_depth > num_leaves\n",
      "Valeurs lib:                                                       \n",
      "TN:                                                                \n",
      "56441                                                              \n",
      "FP:                                                                \n",
      "96                                                                 \n",
      "FN:                                                                \n",
      "4910                                                               \n",
      "TP:                                                                \n",
      "55                                                                 \n",
      "-----------                                                        \n",
      "Valeurs Man:                                                       \n",
      "TN:                                                                \n",
      "56441                                                              \n",
      "FP:                                                                \n",
      "96                                                                 \n",
      "FN:                                                                \n",
      "4910                                                               \n",
      "TP:                                                                \n",
      "55                                                                 \n",
      "{'colsample_bytree': 0.7000000000000002, 'learning_rate': 0.25, 'max_depth': 12, 'min_child_weight': 2, 'n_estimators': 930, 'subsample': 0.9588907151980491}\n",
      "[LightGBM] [Warning]                                               \n",
      "Accuracy may be bad since you didn't set num_leaves and 2^max_depth > num_leaves\n",
      "Valeurs lib:                                                       \n",
      "TN:                                                                \n",
      "56152                                                              \n",
      "FP:                                                                \n",
      "386                                                                \n",
      "FN:                                                                \n",
      "4720                                                               \n",
      "TP:                                                                \n",
      "245                                                                \n",
      "-----------                                                        \n",
      "Valeurs Man:                                                       \n",
      "TN:                                                                \n",
      "56152                                                              \n",
      "FP:                                                                \n",
      "386                                                                \n",
      "FN:                                                                \n",
      "4720                                                               \n",
      "TP:                                                                \n",
      "245                                                                \n",
      "[LightGBM] [Warning]                                               \n",
      "Accuracy may be bad since you didn't set num_leaves and 2^max_depth > num_leaves\n",
      "Valeurs lib:                                                       \n",
      "TN:                                                                \n",
      "54410                                                              \n",
      "FP:                                                                \n",
      "2127                                                               \n",
      "FN:                                                                \n",
      "4117                                                               \n",
      "TP:                                                                \n",
      "848                                                                \n",
      "-----------                                                        \n",
      "Valeurs Man:                                                       \n",
      "TN:                                                                \n",
      "54410                                                              \n",
      "FP:                                                                \n",
      "2127                                                               \n",
      "FN:                                                                \n",
      "4117                                                               \n",
      "TP:                                                                \n",
      "848                                                                \n",
      "[LightGBM] [Warning]                                               \n",
      "Accuracy may be bad since you didn't set num_leaves and 2^max_depth > num_leaves\n",
      "Valeurs lib:                                                       \n",
      "TN:                                                                \n",
      "56136                                                              \n",
      "FP:                                                                \n",
      "401                                                                \n",
      "FN:                                                                \n",
      "4696                                                               \n",
      "TP:                                                                \n",
      "269                                                                \n",
      "-----------                                                        \n",
      "Valeurs Man:                                                       \n",
      "TN:                                                                \n",
      "56136                                                              \n",
      "FP:                                                                \n",
      "401                                                                \n",
      "FN:                                                                \n",
      "4696                                                               \n",
      "TP:                                                                \n",
      "269                                                                \n",
      "[LightGBM] [Warning]                                               \n",
      "Accuracy may be bad since you didn't set num_leaves and 2^max_depth > num_leaves\n",
      "Valeurs lib:                                                       \n",
      "TN:                                                                \n",
      "56088                                                              \n",
      "FP:                                                                \n",
      "449                                                                \n",
      "FN:                                                                \n",
      "4679                                                               \n",
      "TP:                                                                \n",
      "286                                                                \n",
      "-----------                                                        \n",
      "Valeurs Man:                                                       \n",
      "TN:                                                                \n",
      "56088                                                              \n",
      "FP:                                                                \n",
      "449                                                                \n",
      "FN:                                                                \n",
      "4679                                                               \n",
      "TP:                                                                \n",
      "286                                                                \n",
      "[LightGBM] [Warning]                                               \n",
      "Accuracy may be bad since you didn't set num_leaves and 2^max_depth > num_leaves\n",
      "Valeurs lib:                                                       \n",
      "TN:                                                                \n",
      "56375                                                              \n",
      "FP:                                                                \n",
      "162                                                                \n",
      "FN:                                                                \n",
      "4889                                                               \n",
      "TP:                                                                \n",
      "76                                                                 \n",
      "-----------                                                        \n",
      "Valeurs Man:                                                       \n",
      "TN:                                                                \n",
      "56375                                                              \n",
      "FP:                                                                \n",
      "162                                                                \n",
      "FN:                                                                \n",
      "4889                                                               \n",
      "TP:                                                                \n",
      "76                                                                 \n",
      "{'colsample_bytree': 0.3, 'learning_rate': 0.25, 'max_depth': 11, 'min_child_weight': 2, 'n_estimators': 490, 'subsample': 0.8406873469845618}\n",
      "[LightGBM] [Warning]                                               \n",
      "Accuracy may be bad since you didn't set num_leaves and 2^max_depth > num_leaves\n",
      "Valeurs lib:                                                       \n",
      "TN:                                                                \n",
      "56225                                                              \n",
      "FP:                                                                \n",
      "313                                                                \n",
      "FN:                                                                \n",
      "4791                                                               \n",
      "TP:                                                                \n",
      "174                                                                \n",
      "-----------                                                        \n",
      "Valeurs Man:                                                       \n",
      "TN:                                                                \n",
      "56225                                                              \n",
      "FP:                                                                \n",
      "313                                                                \n",
      "FN:                                                                \n",
      "4791                                                               \n",
      "TP:                                                                \n",
      "174                                                                \n",
      "[LightGBM] [Warning]                                               \n",
      "Accuracy may be bad since you didn't set num_leaves and 2^max_depth > num_leaves\n",
      "Valeurs lib:                                                       \n",
      "TN:                                                                \n",
      "55626                                                              \n",
      "FP:                                                                \n",
      "911                                                                \n",
      "FN:                                                                \n",
      "4447                                                               \n",
      "TP:                                                                \n",
      "518                                                                \n",
      "-----------                                                        \n",
      "Valeurs Man:                                                       \n",
      "TN:                                                                \n",
      "55626                                                              \n",
      "FP:                                                                \n",
      "911                                                                \n",
      "FN:                                                                \n",
      "4447                                                               \n",
      "TP:                                                                \n",
      "518                                                                \n",
      "[LightGBM] [Warning]                                               \n",
      "Accuracy may be bad since you didn't set num_leaves and 2^max_depth > num_leaves\n",
      "Valeurs lib:                                                       \n",
      "TN:                                                                \n",
      "55554                                                              \n",
      "FP:                                                                \n",
      "983                                                                \n",
      "FN:                                                                \n",
      "4449                                                               \n",
      "TP:                                                                \n",
      "516                                                                \n",
      "-----------                                                        \n",
      "Valeurs Man:                                                       \n",
      "TN:                                                                \n",
      "55554                                                              \n",
      "FP:                                                                \n",
      "983                                                                \n",
      "FN:                                                                \n",
      "4449                                                               \n",
      "TP:                                                                \n",
      "516                                                                \n",
      "[LightGBM] [Warning]                                               \n",
      "Accuracy may be bad since you didn't set num_leaves and 2^max_depth > num_leaves\n",
      "Valeurs lib:                                                       \n",
      "TN:                                                                \n",
      "56226                                                              \n",
      "FP:                                                                \n",
      "311                                                                \n",
      "FN:                                                                \n",
      "4749                                                               \n",
      "TP:                                                                \n",
      "216                                                                \n",
      "-----------                                                        \n",
      "Valeurs Man:                                                       \n",
      "TN:                                                                \n",
      "56226                                                              \n",
      "FP:                                                                \n",
      "311                                                                \n",
      "FN:                                                                \n",
      "4749                                                               \n",
      "TP:                                                                \n",
      "216                                                                \n",
      "[LightGBM] [Warning]                                               \n",
      "Accuracy may be bad since you didn't set num_leaves and 2^max_depth > num_leaves\n",
      "Valeurs lib:                                                       \n",
      "TN:                                                                \n"
     ]
    },
    {
     "name": "stdout",
     "output_type": "stream",
     "text": [
      "56369                                                              \n",
      "FP:                                                                \n",
      "168                                                                \n",
      "FN:                                                                \n",
      "4851                                                               \n",
      "TP:                                                                \n",
      "114                                                                \n",
      "-----------                                                        \n",
      "Valeurs Man:                                                       \n",
      "TN:                                                                \n",
      "56369                                                              \n",
      "FP:                                                                \n",
      "168                                                                \n",
      "FN:                                                                \n",
      "4851                                                               \n",
      "TP:                                                                \n",
      "114                                                                \n",
      "{'colsample_bytree': 0.7000000000000002, 'learning_rate': 0.05, 'max_depth': 14, 'min_child_weight': 5, 'n_estimators': 510, 'subsample': 0.9586537497264985}\n",
      "[LightGBM] [Warning]                                               \n",
      "Accuracy may be bad since you didn't set num_leaves and 2^max_depth > num_leaves\n",
      "Valeurs lib:                                                       \n",
      "TN:                                                                \n",
      "56469                                                              \n",
      "FP:                                                                \n",
      "69                                                                 \n",
      "FN:                                                                \n",
      "4867                                                               \n",
      "TP:                                                                \n",
      "98                                                                 \n",
      "-----------                                                        \n",
      "Valeurs Man:                                                       \n",
      "TN:                                                                \n",
      "56469                                                              \n",
      "FP:                                                                \n",
      "69                                                                 \n",
      "FN:                                                                \n",
      "4867                                                               \n",
      "TP:                                                                \n",
      "98                                                                 \n",
      "[LightGBM] [Warning]                                               \n",
      "Accuracy may be bad since you didn't set num_leaves and 2^max_depth > num_leaves\n",
      "Valeurs lib:                                                       \n",
      "TN:                                                                \n",
      "56399                                                              \n",
      "FP:                                                                \n",
      "138                                                                \n",
      "FN:                                                                \n",
      "4813                                                               \n",
      "TP:                                                                \n",
      "152                                                                \n",
      "-----------                                                        \n",
      "Valeurs Man:                                                       \n",
      "TN:                                                                \n",
      "56399                                                              \n",
      "FP:                                                                \n",
      "138                                                                \n",
      "FN:                                                                \n",
      "4813                                                               \n",
      "TP:                                                                \n",
      "152                                                                \n",
      "[LightGBM] [Warning]                                               \n",
      "Accuracy may be bad since you didn't set num_leaves and 2^max_depth > num_leaves\n",
      "Valeurs lib:                                                       \n",
      "TN:                                                                \n",
      "56445                                                              \n",
      "FP:                                                                \n",
      "92                                                                 \n",
      "FN:                                                                \n",
      "4846                                                               \n",
      "TP:                                                                \n",
      "119                                                                \n",
      "-----------                                                        \n",
      "Valeurs Man:                                                       \n",
      "TN:                                                                \n",
      "56445                                                              \n",
      "FP:                                                                \n",
      "92                                                                 \n",
      "FN:                                                                \n",
      "4846                                                               \n",
      "TP:                                                                \n",
      "119                                                                \n",
      "[LightGBM] [Warning]                                               \n",
      "Accuracy may be bad since you didn't set num_leaves and 2^max_depth > num_leaves\n",
      " 47%|████▋     | 7/15 [22:14<23:14, 174.30s/trial, best loss: -0.0]"
     ]
    }
   ],
   "source": [
    "#run hyperopt\n",
    "hopt=fmin(\n",
    "    fn=optimization_function,\n",
    "    space=param_space,\n",
    "    algo=tpe.suggest,\n",
    "    max_evals=15,\n",
    "    trials=trials\n",
    ")\n",
    "\n",
    "print(hopt)"
   ]
  },
  {
   "cell_type": "code",
   "execution_count": null,
   "metadata": {},
   "outputs": [],
   "source": [
    "{'colsample_bytree': 0.5, 'learning_rate': 0.3, 'max_depth': 10, 'min_child_weight': 7, 'n_estimators': 100, 'subsample': 0.8552363827683696}\n",
    "{'colsample_bytree': 0.7000000000000002, 'learning_rate': 0.15000000000000002, 'max_depth': 13, 'min_child_weight': 7, 'n_estimators': 100, 'subsample': 0.820853801095893}"
   ]
  },
  {
   "cell_type": "markdown",
   "metadata": {},
   "source": [
    "* $gain = TP·TP\\_value + TN·TN\\_value + FP·FP\\_value + FN·FN\\_value$\n",
    "* $gain = TP·TP\\_value(0) + TN·TN\\_value(0.02*amount) + FP·FP\\_value(0) + FN·FN\\_value(-0.8*amount)$\n",
    "\n",
    "\n",
    "=> $model\\_score = \\underset{threshold \\in [0;1]}{\\text{max}} [score] ∈ [0 ; 1]$"
   ]
  },
  {
   "cell_type": "markdown",
   "metadata": {},
   "source": [
    "Classification: The label is a binary variable :\n",
    "    0 (will repay loan on time), 1 (will have difficulty repaying loan)\n",
    "    \n",
    "    FN:false negative : client à qui on a refusé le prêt mais qui l honore\n",
    "    FP:client à qui on accorde un prêt mais qui fait défaut \n",
    "    TP:true positive : client à qui on accorde un prêt et qui l honore\n",
    "    TN: true negative : client à qui "
   ]
  },
  {
   "cell_type": "code",
   "execution_count": null,
   "metadata": {},
   "outputs": [],
   "source": [
    "on accorde un pret et il rembourse on prend 0.02*amount\n",
    "on accorde un pret et il rembourse pas on prend (-amount*0.8)\n",
    "\n",
    "on accorde pas un pret et il rembourse pas on prend 0\n",
    "on accorde pas un pret et il rembourse on prend 0\n",
    "\n",
    "TP: on accorde pas un pret et il rembourse pas on prend 0\n",
    "TN:on accorde un pret et il rembourse on prend 0.02*amount\n",
    "\n",
    "\n",
    "FP:\n",
    "FN:\n"
   ]
  },
  {
   "cell_type": "markdown",
   "metadata": {},
   "source": [
    "What can we learn from this matrix?\n",
    "\n",
    "There are two possible predicted classes: \"yes\" and \"no\". If we were predicting the presence of a disease, for example, \"yes\" would mean they have the disease, and \"no\" would mean they don't have the disease.\n",
    "\n",
    "\n",
    "\n",
    "\n",
    "The classifier made a total of 165 predictions (e.g., 165 patients were being tested for the presence of that disease).\n",
    "Out of those 165 cases, the classifier predicted \"yes\" 110 times, and \"no\" 55 times.\n",
    "In reality, 105 patients in the sample have the disease, and 60 patients do not.\n",
    "Let's now define the most basic terms, which are whole numbers (not rates):\n",
    "\n",
    "true positives (TP): These are cases in which we predicted yes (they have the disease), and they do have the disease.\n",
    "\n",
    "true negatives (TN): We predicted no, and they don't have the disease.\n",
    "\n",
    "false positives (FP): We predicted yes, but they don't actually have the disease. (Also known as a \"Type I error.\")\n",
    "\n",
    "false negatives (FN): We predicted no, but they actually do have the disease. (Also known as a \"Type II error.\")\n"
   ]
  },
  {
   "cell_type": "code",
   "execution_count": 125,
   "metadata": {},
   "outputs": [
    {
     "ename": "NameError",
     "evalue": "name 'params' is not defined",
     "output_type": "error",
     "traceback": [
      "\u001b[0;31m---------------------------------------------------------------------------\u001b[0m",
      "\u001b[0;31mNameError\u001b[0m                                 Traceback (most recent call last)",
      "\u001b[0;32m<ipython-input-125-895659dceefc>\u001b[0m in \u001b[0;36m<module>\u001b[0;34m\u001b[0m\n\u001b[0;32m----> 1\u001b[0;31m \u001b[0mmodel\u001b[0m\u001b[0;34m=\u001b[0m\u001b[0mLGBMClassifier\u001b[0m\u001b[0;34m(\u001b[0m\u001b[0;34m**\u001b[0m\u001b[0mparams\u001b[0m\u001b[0;34m)\u001b[0m\u001b[0;34m\u001b[0m\u001b[0;34m\u001b[0m\u001b[0m\n\u001b[0m\u001b[1;32m      2\u001b[0m \u001b[0mprint\u001b[0m\u001b[0;34m(\u001b[0m\u001b[0;34m**\u001b[0m\u001b[0mparams\u001b[0m\u001b[0;34m)\u001b[0m\u001b[0;34m\u001b[0m\u001b[0;34m\u001b[0m\u001b[0m\n",
      "\u001b[0;31mNameError\u001b[0m: name 'params' is not defined"
     ]
    }
   ],
   "source": [
    "model=LGBMClassifier(**params)\n",
    "print(**params)"
   ]
  },
  {
   "cell_type": "code",
   "execution_count": 43,
   "metadata": {},
   "outputs": [
    {
     "data": {
      "text/plain": [
       "0          406597.5\n",
       "1         1293502.5\n",
       "2          135000.0\n",
       "3          312682.5\n",
       "4          513000.0\n",
       "            ...    \n",
       "307506     254700.0\n",
       "307507     269550.0\n",
       "307508     677664.0\n",
       "307509     370107.0\n",
       "307510     675000.0\n",
       "Name: AMT_CREDIT, Length: 307511, dtype: float64"
      ]
     },
     "execution_count": 43,
     "metadata": {},
     "output_type": "execute_result"
    }
   ],
   "source": [
    "app_train_domain['AMT_CREDIT']"
   ]
  },
  {
   "cell_type": "markdown",
   "metadata": {},
   "source": [
    "* $gain = TP·TP\\_value + TN·TN\\_value + FP·FP\\_value + FN·FN\\_value$\n",
    "* $gain = TP·TP\\_value(0) + TN·TN\\_value(0.02*amount) + FP·FP\\_value(0) + FN·FN\\_value(-0.8*amount)$\n",
    "\n",
    "* $max\\_gain = N·TN\\_value + P·TP\\_value$\n",
    "* $baseline = (TN+FP)·TN\\_value + (TP+FN)·FN\\_value$\n",
    "\n",
    "=> $score = \\frac{gain - baseline}{max\\_gain - baseline} ∈ [0 ; 1]$\n",
    "\n",
    "=> $model\\_score = \\underset{threshold \\in [0;1]}{\\text{max}} [score] ∈ [0 ; 1]$"
   ]
  },
  {
   "cell_type": "markdown",
   "metadata": {},
   "source": [
    "# Zone de Test "
   ]
  },
  {
   "cell_type": "code",
   "execution_count": null,
   "metadata": {},
   "outputs": [],
   "source": []
  },
  {
   "cell_type": "code",
   "execution_count": null,
   "metadata": {},
   "outputs": [],
   "source": []
  },
  {
   "cell_type": "code",
   "execution_count": null,
   "metadata": {},
   "outputs": [],
   "source": []
  },
  {
   "cell_type": "code",
   "execution_count": null,
   "metadata": {},
   "outputs": [],
   "source": [
    "tn, fp, fn, tp = confusion_matrix([0, 1, 0, 1], [1, 1, 1, 0]).ravel()"
   ]
  },
  {
   "cell_type": "code",
   "execution_count": null,
   "metadata": {},
   "outputs": [],
   "source": [
    "def performance_measure(y_actual, y_pred,df):\n",
    "    TP = 0\n",
    "    FP = 0\n",
    "    TN = 0\n",
    "    FN = 0\n",
    "    list_resultat=[]\n",
    "    #Etape 1 : identifier qui est qui ? \n",
    "    \n",
    "    for i in range(len(y_pred)): \n",
    "        if y_actual[i] == y_pred[i]==1:\n",
    "            TP += 1\n",
    "            list_resultat.append('TP')\n",
    "        if y_pred[i] == 1 and y_actual[i] == 0:\n",
    "            FP += 1\n",
    "            list_resultat.append('FP')\n",
    "        if y_pred[i] == y_actual[i] == 0:\n",
    "            TN +=1\n",
    "            list_resultat.append('TN')\n",
    "        if y_pred[i] == 0 and y_actual[i] == 1:\n",
    "            FN +=1\n",
    "            list_resultat.append('FN')\n",
    "    \n",
    "    #Etape 2 : transformer les types avec les coeff associés \n",
    "    df['type_matrix']=list_resultat\n",
    "    df.loc[df['type_matrix']=='TP','AMT_CREDIT']=df.loc[df['type_matrix']=='TP','AMT_CREDIT']*0\n",
    "    df.loc[df['type_matrix']=='FP','AMT_CREDIT']=df.loc[df['type_matrix']=='FP','AMT_CREDIT']*0\n",
    "    df.loc[df['type_matrix']=='TN','AMT_CREDIT']=df.loc[df['type_matrix']=='TN','AMT_CREDIT']*0.02\n",
    "    df.loc[df['type_matrix']=='FN','AMT_CREDIT']=df.loc[df['type_matrix']=='FN','AMT_CREDIT']*(-0.8)\n",
    "    \n",
    "    #Etape 3 : Les formules \n",
    "    total_TP=df.loc[df['type_matrix']=='TP','AMT_CREDIT'].sum()\n",
    "    total_FP=df.loc[df['type_matrix']=='FP','AMT_CREDIT'].sum()\n",
    "    total_TN=df.loc[df['type_matrix']=='TN','AMT_CREDIT'].sum()\n",
    "    total_FN=df.loc[df['type_matrix']=='FN','AMT_CREDIT'].sum()\n",
    "    \n",
    "    gain=total_TP+total_FP+total_TN+total_FN\n",
    "    \n",
    "    \n",
    "    max_gain=total_TN + total_TP\n",
    "    baseline = total_TN + total_FN\n",
    "    score = (gain - baseline) / (max_gain - baseline)\n",
    "    \n",
    "    return score"
   ]
  }
 ],
 "metadata": {
  "kernelspec": {
   "display_name": "Python 3",
   "language": "python",
   "name": "python3"
  },
  "language_info": {
   "codemirror_mode": {
    "name": "ipython",
    "version": 3
   },
   "file_extension": ".py",
   "mimetype": "text/x-python",
   "name": "python",
   "nbconvert_exporter": "python",
   "pygments_lexer": "ipython3",
   "version": "3.8.3"
  },
  "toc": {
   "base_numbering": 1,
   "nav_menu": {},
   "number_sections": true,
   "sideBar": true,
   "skip_h1_title": false,
   "title_cell": "Table of Contents",
   "title_sidebar": "Contents",
   "toc_cell": false,
   "toc_position": {},
   "toc_section_display": true,
   "toc_window_display": false
  }
 },
 "nbformat": 4,
 "nbformat_minor": 1
}
