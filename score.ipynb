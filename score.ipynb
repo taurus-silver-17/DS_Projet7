{
 "cells": [
  {
   "cell_type": "code",
   "execution_count": 8,
   "metadata": {},
   "outputs": [
    {
     "name": "stdout",
     "output_type": "stream",
     "text": [
      "Enabling: jupyter_nbextensions_configurator\r\n",
      "- Writing config: /home/arnaud/.jupyter\r\n",
      "    - Validating...\r\n",
      "      jupyter_nbextensions_configurator 0.4.1 \u001b[32mOK\u001b[0m\r\n",
      "Enabling notebook nbextension nbextensions_configurator/config_menu/main...\r\n",
      "Enabling tree nbextension nbextensions_configurator/tree_tab/main...\r\n"
     ]
    }
   ],
   "source": [
    "! jupyter nbextensions_configurator enable --user\n",
    "\n",
    "\n",
    "\n",
    "\n"
   ]
  },
  {
   "cell_type": "code",
   "execution_count": 5,
   "metadata": {
    "ExecuteTime": {
     "end_time": "2021-01-13T12:25:13.750910Z",
     "start_time": "2021-01-13T12:25:13.745695Z"
    }
   },
   "outputs": [],
   "source": [
    "import pandas as pd"
   ]
  },
  {
   "cell_type": "code",
   "execution_count": 8,
   "metadata": {
    "ExecuteTime": {
     "end_time": "2021-01-13T12:25:51.773031Z",
     "start_time": "2021-01-13T12:25:51.766943Z"
    }
   },
   "outputs": [],
   "source": [
    "d={'Name': ['Class Balanced threshold', 'Oversampling threshold','Undersampling threshold','Class Balanced','Oversampling','Undersampling']\n",
    "    , 'score': [0.015534301867066854, 0.013039691792487273,0.0, -0.0020701433944061067, -0.00957380312449455,-0.05678670011795548]}"
   ]
  },
  {
   "cell_type": "code",
   "execution_count": 10,
   "metadata": {
    "ExecuteTime": {
     "end_time": "2021-01-13T12:26:34.881405Z",
     "start_time": "2021-01-13T12:26:34.863613Z"
    }
   },
   "outputs": [
    {
     "data": {
      "text/html": [
       "<div>\n",
       "<style scoped>\n",
       "    .dataframe tbody tr th:only-of-type {\n",
       "        vertical-align: middle;\n",
       "    }\n",
       "\n",
       "    .dataframe tbody tr th {\n",
       "        vertical-align: top;\n",
       "    }\n",
       "\n",
       "    .dataframe thead th {\n",
       "        text-align: right;\n",
       "    }\n",
       "</style>\n",
       "<table border=\"1\" class=\"dataframe\">\n",
       "  <thead>\n",
       "    <tr style=\"text-align: right;\">\n",
       "      <th></th>\n",
       "      <th>Name</th>\n",
       "      <th>score</th>\n",
       "    </tr>\n",
       "  </thead>\n",
       "  <tbody>\n",
       "    <tr>\n",
       "      <th>0</th>\n",
       "      <td>Class Balanced threshold</td>\n",
       "      <td>0.015534</td>\n",
       "    </tr>\n",
       "    <tr>\n",
       "      <th>1</th>\n",
       "      <td>Oversampling threshold</td>\n",
       "      <td>0.013040</td>\n",
       "    </tr>\n",
       "    <tr>\n",
       "      <th>2</th>\n",
       "      <td>Undersampling threshold</td>\n",
       "      <td>0.000000</td>\n",
       "    </tr>\n",
       "    <tr>\n",
       "      <th>3</th>\n",
       "      <td>Class Balanced</td>\n",
       "      <td>-0.002070</td>\n",
       "    </tr>\n",
       "    <tr>\n",
       "      <th>4</th>\n",
       "      <td>Oversampling</td>\n",
       "      <td>-0.009574</td>\n",
       "    </tr>\n",
       "    <tr>\n",
       "      <th>5</th>\n",
       "      <td>Undersampling</td>\n",
       "      <td>-0.056787</td>\n",
       "    </tr>\n",
       "  </tbody>\n",
       "</table>\n",
       "</div>"
      ],
      "text/plain": [
       "                       Name     score\n",
       "0  Class Balanced threshold  0.015534\n",
       "1    Oversampling threshold  0.013040\n",
       "2   Undersampling threshold  0.000000\n",
       "3            Class Balanced -0.002070\n",
       "4              Oversampling -0.009574\n",
       "5             Undersampling -0.056787"
      ]
     },
     "execution_count": 10,
     "metadata": {},
     "output_type": "execute_result"
    }
   ],
   "source": [
    "df = pd.DataFrame(data=d)\n",
    "df.sort_values(by:='score',ascending=False)"
   ]
  },
  {
   "cell_type": "code",
   "execution_count": 8,
   "metadata": {
    "ExecuteTime": {
     "end_time": "2021-01-06T21:28:15.272383Z",
     "start_time": "2021-01-06T21:28:15.252708Z"
    }
   },
   "outputs": [
    {
     "data": {
      "text/html": [
       "<div>\n",
       "<style scoped>\n",
       "    .dataframe tbody tr th:only-of-type {\n",
       "        vertical-align: middle;\n",
       "    }\n",
       "\n",
       "    .dataframe tbody tr th {\n",
       "        vertical-align: top;\n",
       "    }\n",
       "\n",
       "    .dataframe thead th {\n",
       "        text-align: right;\n",
       "    }\n",
       "</style>\n",
       "<table border=\"1\" class=\"dataframe\">\n",
       "  <thead>\n",
       "    <tr style=\"text-align: right;\">\n",
       "      <th></th>\n",
       "      <th>AMT_CREDIT</th>\n",
       "      <th>y_actual</th>\n",
       "      <th>max_gain</th>\n",
       "    </tr>\n",
       "  </thead>\n",
       "  <tbody>\n",
       "    <tr>\n",
       "      <th>0</th>\n",
       "      <td>1000</td>\n",
       "      <td>0</td>\n",
       "      <td>1000</td>\n",
       "    </tr>\n",
       "    <tr>\n",
       "      <th>1</th>\n",
       "      <td>2000</td>\n",
       "      <td>1</td>\n",
       "      <td>0</td>\n",
       "    </tr>\n",
       "    <tr>\n",
       "      <th>2</th>\n",
       "      <td>3000</td>\n",
       "      <td>0</td>\n",
       "      <td>3000</td>\n",
       "    </tr>\n",
       "    <tr>\n",
       "      <th>3</th>\n",
       "      <td>4000</td>\n",
       "      <td>1</td>\n",
       "      <td>0</td>\n",
       "    </tr>\n",
       "    <tr>\n",
       "      <th>4</th>\n",
       "      <td>6000</td>\n",
       "      <td>0</td>\n",
       "      <td>6000</td>\n",
       "    </tr>\n",
       "  </tbody>\n",
       "</table>\n",
       "</div>"
      ],
      "text/plain": [
       "   AMT_CREDIT  y_actual  max_gain\n",
       "0        1000         0      1000\n",
       "1        2000         1         0\n",
       "2        3000         0      3000\n",
       "3        4000         1         0\n",
       "4        6000         0      6000"
      ]
     },
     "execution_count": 8,
     "metadata": {},
     "output_type": "execute_result"
    }
   ],
   "source": [
    "d = {'AMT_CREDIT': [1000, 2000,3000,4000,6000], 'y_actual': [0, 1, 0, 1,0]}\n",
    "df = pd.DataFrame(data=d)\n",
    "df['max_gain']=0\n",
    "df.loc[df['y_actual']==0,'max_gain']=df.loc[df['y_actual']==0,'AMT_CREDIT']#*0.02\n",
    "df"
   ]
  },
  {
   "cell_type": "code",
   "execution_count": null,
   "metadata": {},
   "outputs": [],
   "source": []
  },
  {
   "cell_type": "markdown",
   "metadata": {},
   "source": [
    "* $gain = TP·TP\\_value + TN·TN\\_value + FP·FP\\_value + FN·FN\\_value$\n",
    "* $gain = TP·TP\\_value(0) + TN·TN\\_value(0.02*amount) + FP·FP\\_value(0) + FN·FN\\_value(-0.8*amount)$\n",
    "​\n",
    "* max\\_gain = représente le gain parfait du dataset\n",
    "\n",
    "=> $score = \\frac{gain}{max\\_gain} ∈ [-1 ; 1]$\n",
    "\n"
   ]
  },
  {
   "cell_type": "code",
   "execution_count": 12,
   "metadata": {
    "ExecuteTime": {
     "end_time": "2021-01-06T21:28:50.434838Z",
     "start_time": "2021-01-06T21:28:50.427232Z"
    }
   },
   "outputs": [],
   "source": [
    "d = {'AMT_CREDIT': [1000, 2000,3000,4000,6000], 'y_actual': [0, 1, 0, 1,0]}\n",
    "df = pd.DataFrame(data=d)"
   ]
  },
  {
   "cell_type": "code",
   "execution_count": 13,
   "metadata": {
    "ExecuteTime": {
     "end_time": "2021-01-06T21:28:51.152299Z",
     "start_time": "2021-01-06T21:28:51.131568Z"
    }
   },
   "outputs": [],
   "source": [
    "from sklearn.metrics import confusion_matrix\n",
    "def performance_measure(y_actual, y_pred,df):\n",
    "    TP = 0\n",
    "    FP = 0\n",
    "    TN = 0\n",
    "    FN = 0\n",
    "    list_resultat=[]\n",
    "    #Etape 1 : identifier qui est qui ? \n",
    "    tn, fp, fn, tp = confusion_matrix(y_actual, y_pred).ravel()\n",
    "    for i in range(len(y_pred)): \n",
    "        if y_actual[i] == y_pred[i]==1:\n",
    "            TP += 1\n",
    "            list_resultat.append('TP')\n",
    "        if y_pred[i] == 1 and y_actual[i] == 0:\n",
    "            FP += 1\n",
    "            list_resultat.append('FP')\n",
    "        if y_pred[i] == y_actual[i] == 0:\n",
    "            TN +=1\n",
    "            list_resultat.append('TN')\n",
    "        if y_pred[i] == 0 and y_actual[i] == 1:\n",
    "            FN +=1\n",
    "            list_resultat.append('FN')\n",
    "    \n",
    "    #Etape 2 : transformer les types avec les coeff associés \n",
    "    df['type_matrix']=list_resultat\n",
    "    df['y_actual']=y_actual\n",
    "    df['max_gain']=0\n",
    "    df['worst_gain']=0\n",
    "    df.loc[df['y_actual']==0,'max_gain']=df.loc[df['y_actual']==0,'AMT_CREDIT']*0.02\n",
    "    df.loc[df['y_actual']==0,'worst_gain']=df.loc[df['y_actual']==0,'AMT_CREDIT']*-0.8\n",
    "\n",
    "    df.loc[df['type_matrix']=='TP','AMT_CREDIT']=df.loc[df['type_matrix']=='TP','AMT_CREDIT']*0\n",
    "    df.loc[df['type_matrix']=='FP','AMT_CREDIT']=df.loc[df['type_matrix']=='FP','AMT_CREDIT']*0\n",
    "    df.loc[df['type_matrix']=='TN','AMT_CREDIT']=df.loc[df['type_matrix']=='TN','AMT_CREDIT']*0.02\n",
    "    df.loc[df['type_matrix']=='FN','AMT_CREDIT']=df.loc[df['type_matrix']=='FN','AMT_CREDIT']*(-0.8)\n",
    "    #Etape 3 : Les formules \n",
    "    total_TP=df.loc[df['type_matrix']=='TP','AMT_CREDIT'].sum()\n",
    "    total_FP=df.loc[df['type_matrix']=='FP','AMT_CREDIT'].sum()\n",
    "    total_TN=df.loc[df['type_matrix']=='TN','AMT_CREDIT'].sum()\n",
    "    total_FN=df.loc[df['type_matrix']=='FN','AMT_CREDIT'].sum()\n",
    "    \n",
    "    gain=total_TP+total_FP+total_TN+total_FN\n",
    "    max_gain=df.loc[df['y_actual']==0,'max_gain'].sum()\n",
    "    worst_gain=df.loc[df['y_actual']==0,'worst_gain'].sum()\n",
    "    #The label is a binary variable, 0 (will repay loan on time), 1 (will have difficulty repaying loan)\n",
    "    score = (gain ) / (max_gain )\n",
    "    if score  <0 : \n",
    "        score=gain / (-worst_gain )\n",
    "    else: \n",
    "        pass\n",
    "        #score=(gain)/(worst_gain)\n",
    "    print('gain',gain)\n",
    "    print('max gain',max_gain)\n",
    "    print('worst_gain',worst_gain)\n",
    "    print('score',score)\n",
    "    print('Valeurs lib:')\n",
    "    print('TN:',tn)\n",
    "    print('FP:',fp)\n",
    "    print('FN:',fn)\n",
    "    print('TP:',tp)\n",
    "    print('-----------')\n",
    "    print('Valeurs Man:')\n",
    "    print('TN:',TN)\n",
    "    print('FP:',FP)\n",
    "    print('FN:',FN)\n",
    "    print('TP:',TP)\n",
    "    return score"
   ]
  },
  {
   "cell_type": "code",
   "execution_count": 14,
   "metadata": {
    "ExecuteTime": {
     "end_time": "2021-01-06T21:28:51.940158Z",
     "start_time": "2021-01-06T21:28:51.908610Z"
    }
   },
   "outputs": [
    {
     "name": "stdout",
     "output_type": "stream",
     "text": [
      "gain -3080.0\n",
      "max gain 200.0\n",
      "worst_gain -8000.0\n",
      "score -0.385\n",
      "Valeurs lib:\n",
      "TN: 1\n",
      "FP: 2\n",
      "FN: 1\n",
      "TP: 1\n",
      "-----------\n",
      "Valeurs Man:\n",
      "TN: 1\n",
      "FP: 2\n",
      "FN: 1\n",
      "TP: 1\n"
     ]
    },
    {
     "data": {
      "text/plain": [
       "-0.385"
      ]
     },
     "execution_count": 14,
     "metadata": {},
     "output_type": "execute_result"
    }
   ],
   "source": [
    "performance_measure([0, 1, 0, 1,0], [1, 1, 1, 0,0],df)"
   ]
  },
  {
   "cell_type": "code",
   "execution_count": 14,
   "metadata": {},
   "outputs": [],
   "source": [
    "y_actual=[0, 1, 0, 1]\n",
    "y_pred=[1, 1, 1, 0]"
   ]
  },
  {
   "cell_type": "code",
   "execution_count": 15,
   "metadata": {},
   "outputs": [],
   "source": [
    "TP = 0\n",
    "FP = 0\n",
    "TN = 0\n",
    "FN = 0\n",
    "list_resultat=[]\n",
    "#Etape 1 : identifier qui est qui ? \n",
    "tn, fp, fn, tp = confusion_matrix(y_actual, y_pred).ravel()\n",
    "for i in range(len(y_pred)): \n",
    "    if y_actual[i] == y_pred[i]==1:\n",
    "        TP += 1\n",
    "        list_resultat.append('TP')\n",
    "    if y_pred[i] == 1 and y_actual[i] == 0:\n",
    "        FP += 1\n",
    "        list_resultat.append('FP')\n",
    "    if y_pred[i] == y_actual[i] == 0:\n",
    "        TN +=1\n",
    "        list_resultat.append('TN')\n",
    "    if y_pred[i] == 0 and y_actual[i] == 1:\n",
    "        FN +=1\n",
    "        list_resultat.append('FN')\n",
    "    \n",
    "    #Etape 2 : transformer les types avec les coeff associés \n",
    "df['type_matrix']=list_resultat    \n",
    "df['max_gain']=0\n",
    "df['worst_gain']=0\n",
    "df.loc[df['y_actual']==0,'max_gain']=df.loc[df['y_actual']==0,'AMT_CREDIT']*0.02\n",
    "df.loc[df['y_actual']==0,'worst_gain']=df.loc[df['y_actual']==0,'AMT_CREDIT']*-0.8\n",
    "\n"
   ]
  },
  {
   "cell_type": "code",
   "execution_count": 16,
   "metadata": {},
   "outputs": [
    {
     "data": {
      "text/html": [
       "<div>\n",
       "<style scoped>\n",
       "    .dataframe tbody tr th:only-of-type {\n",
       "        vertical-align: middle;\n",
       "    }\n",
       "\n",
       "    .dataframe tbody tr th {\n",
       "        vertical-align: top;\n",
       "    }\n",
       "\n",
       "    .dataframe thead th {\n",
       "        text-align: right;\n",
       "    }\n",
       "</style>\n",
       "<table border=\"1\" class=\"dataframe\">\n",
       "  <thead>\n",
       "    <tr style=\"text-align: right;\">\n",
       "      <th></th>\n",
       "      <th>AMT_CREDIT</th>\n",
       "      <th>y_actual</th>\n",
       "      <th>max_gain</th>\n",
       "      <th>type_matrix</th>\n",
       "      <th>worst_gain</th>\n",
       "    </tr>\n",
       "  </thead>\n",
       "  <tbody>\n",
       "    <tr>\n",
       "      <th>0</th>\n",
       "      <td>1000</td>\n",
       "      <td>0</td>\n",
       "      <td>20.0</td>\n",
       "      <td>FP</td>\n",
       "      <td>-800.0</td>\n",
       "    </tr>\n",
       "    <tr>\n",
       "      <th>1</th>\n",
       "      <td>2000</td>\n",
       "      <td>1</td>\n",
       "      <td>0.0</td>\n",
       "      <td>TP</td>\n",
       "      <td>0.0</td>\n",
       "    </tr>\n",
       "    <tr>\n",
       "      <th>2</th>\n",
       "      <td>3000</td>\n",
       "      <td>0</td>\n",
       "      <td>60.0</td>\n",
       "      <td>FP</td>\n",
       "      <td>-2400.0</td>\n",
       "    </tr>\n",
       "    <tr>\n",
       "      <th>3</th>\n",
       "      <td>4000</td>\n",
       "      <td>1</td>\n",
       "      <td>0.0</td>\n",
       "      <td>FN</td>\n",
       "      <td>0.0</td>\n",
       "    </tr>\n",
       "  </tbody>\n",
       "</table>\n",
       "</div>"
      ],
      "text/plain": [
       "   AMT_CREDIT  y_actual  max_gain type_matrix  worst_gain\n",
       "0        1000         0      20.0          FP      -800.0\n",
       "1        2000         1       0.0          TP         0.0\n",
       "2        3000         0      60.0          FP     -2400.0\n",
       "3        4000         1       0.0          FN         0.0"
      ]
     },
     "execution_count": 16,
     "metadata": {},
     "output_type": "execute_result"
    }
   ],
   "source": [
    "df"
   ]
  },
  {
   "cell_type": "code",
   "execution_count": null,
   "metadata": {},
   "outputs": [],
   "source": [
    "df.loc[df['type_matrix']=='TP','AMT_CREDIT']=df.loc[df['type_matrix']=='TP','AMT_CREDIT']*0\n",
    "df.loc[df['type_matrix']=='FP','AMT_CREDIT']=df.loc[df['type_matrix']=='FP','AMT_CREDIT']*0\n",
    "df.loc[df['type_matrix']=='TN','AMT_CREDIT']=df.loc[df['type_matrix']=='TN','AMT_CREDIT']*0.02\n",
    "df.loc[df['type_matrix']=='FN','AMT_CREDIT']=df.loc[df['type_matrix']=='FN','AMT_CREDIT']*(-0.8)\n",
    "    #Etape 3 : Les formules \n",
    "total_TP=df.loc[df['type_matrix']=='TP','AMT_CREDIT'].sum()\n",
    "total_FP=df.loc[df['type_matrix']=='FP','AMT_CREDIT'].sum()\n",
    "total_TN=df.loc[df['type_matrix']=='TN','AMT_CREDIT'].sum()\n",
    "total_FN=df.loc[df['type_matrix']=='FN','AMT_CREDIT'].sum()\n",
    "    \n",
    "gain=total_TP+total_FP+total_TN+total_FN\n",
    "max_gain=df.loc[df['y_actual']==0,'max_gain'].sum()\n",
    "worst_gain=df.loc[df['y_actual']==0,'worst_gain'].sum()\n",
    "    #The label is a binary variable, 0 (will repay loan on time), 1 (will have difficulty repaying loan)\n",
    "score = (gain ) / (max_gain )\n",
    "    #if score => 0 : "
   ]
  },
  {
   "cell_type": "code",
   "execution_count": 24,
   "metadata": {},
   "outputs": [
    {
     "name": "stdout",
     "output_type": "stream",
     "text": [
      "oui\n"
     ]
    }
   ],
   "source": [
    "if 3 >= 1 :\n",
    "    print('oui')\n",
    "else : \n",
    "    print('ok' )"
   ]
  },
  {
   "cell_type": "code",
   "execution_count": null,
   "metadata": {},
   "outputs": [],
   "source": []
  }
 ],
 "metadata": {
  "kernelspec": {
   "display_name": "Python 3",
   "language": "python",
   "name": "python3"
  },
  "language_info": {
   "codemirror_mode": {
    "name": "ipython",
    "version": 3
   },
   "file_extension": ".py",
   "mimetype": "text/x-python",
   "name": "python",
   "nbconvert_exporter": "python",
   "pygments_lexer": "ipython3",
   "version": "3.8.3"
  },
  "toc": {
   "base_numbering": 1,
   "nav_menu": {},
   "number_sections": true,
   "sideBar": true,
   "skip_h1_title": false,
   "title_cell": "Table of Contents",
   "title_sidebar": "Contents",
   "toc_cell": false,
   "toc_position": {},
   "toc_section_display": true,
   "toc_window_display": false
  }
 },
 "nbformat": 4,
 "nbformat_minor": 4
}
